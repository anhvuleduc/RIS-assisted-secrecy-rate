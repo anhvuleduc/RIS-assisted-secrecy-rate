{
 "cells": [
  {
   "cell_type": "markdown",
   "metadata": {},
   "source": [
    "# Import library"
   ]
  },
  {
   "cell_type": "code",
   "execution_count": 53,
   "metadata": {},
   "outputs": [],
   "source": [
    "import numpy as np\n",
    "import matplotlib.pyplot as plt\n",
    "from copy import deepcopy\n",
    "import functools"
   ]
  },
  {
   "cell_type": "markdown",
   "metadata": {},
   "source": [
    "## Random seed"
   ]
  },
  {
   "cell_type": "code",
   "execution_count": 54,
   "metadata": {},
   "outputs": [],
   "source": [
    "RANDOM_SEED = 99\n",
    "np.random.seed(RANDOM_SEED)"
   ]
  },
  {
   "cell_type": "markdown",
   "metadata": {},
   "source": [
    "# Function to transform the data"
   ]
  },
  {
   "cell_type": "code",
   "execution_count": 55,
   "metadata": {},
   "outputs": [],
   "source": [
    "# Function to transfer from dBW to W (power)\n",
    "def db2pow(db: float) -> float:\n",
    "    return 10**(db/10)\n",
    "\n",
    "# Function to transfer from W to dBW (power)\n",
    "def pow2db(pow: float) -> float:\n",
    "    return 10*np.log10(pow)\n",
    "\n",
    "# Hermitian transpose of a matrix\n",
    "def HermTranspose(x: np.ndarray) -> np.ndarray:\n",
    "    return x.conj().T\n",
    "\n",
    "def chanGen(zeta: float, d: float, dim1: int, dim2: int) -> np.ndarray:\n",
    "    \"\"\"Function to generate Rayleigh fading channel coefficients\n",
    "\n",
    "    Args:\n",
    "        zeta: ξ is the path loss exponent\n",
    "        d: the distance between the transmitter and the receiver\n",
    "        dim1: the number of rows in the channel matrix\n",
    "        dim2: the number of columns in the channel matrix\n",
    "    \"\"\"\n",
    "    pl_ref: float = -30                                    # pathloss (dBW) at reference distance\n",
    "    pl: float = db2pow(pl_ref - 10*zeta*np.log10(d))       # pathloss model at distance d\n",
    "    y: np.ndarray = np.sqrt(0.5*pl)*(np.random.randn(dim1,dim2)\\\n",
    "        + 1j*np.random.randn(dim1,dim2))            # Rayleigh distribution\n",
    "    return y"
   ]
  },
  {
   "cell_type": "markdown",
   "metadata": {},
   "source": [
    "## Parameters"
   ]
  },
  {
   "cell_type": "code",
   "execution_count": 56,
   "metadata": {},
   "outputs": [],
   "source": [
    "sigma = db2pow(-75)                                                                 # noise power\n",
    "N = 8                                                                               # number of transmit antennas\n",
    "Nris = 32                                                                           # number of RIS elements\n",
    "number_of_users = 4                                                                 # number of users\n",
    "number_of_eavesdroppers = 2                                                         # number of eavesdroppers\n",
    "zetaAI = 2.2                                                                        # Path loss exponent of the channel between the Alice and the RIS\n",
    "zetaIB = 2.5                                                                        # Path loss exponent of the channel between the legitimate receivers and the RIS\n",
    "zetaIE = 2.5                                                                        # Path loss exponent of the channel between the eavesdroppers and the RIS\n",
    "zetaAB = 3.5                                                                        # Path loss exponent of the channel between the Alice and the legitimate receivers\n",
    "zetaAE = 3.5                                                                        # Path loss exponent of the channel between the Alice and the eavesdroppers\n",
    "\n",
    "dAI = 50                                                                            # distance between Alice and the RIS\n",
    "dv = 2                                                                              # Vertical distance between the Alice and the Eve and Bob\n",
    "dABh = np.random.uniform(5, 10, size=number_of_users)                               # Horizontal distance between Alice and the legitimate receivers\n",
    "dAEh = np.random.uniform(50, 150, size=number_of_eavesdroppers)                     # Horizontal distance between Alice and the eavesdroppers\n",
    "dAB = [np.sqrt(dABh[i]**2 + dv**2) for i in range(number_of_users)]                 # Distance between Alice and the legitimate receivers\n",
    "dAE = [np.sqrt(dAEh[i]**2 + dv**2) for i in range(number_of_eavesdroppers)]         # Distance between Alice and the eavesdroppers\n",
    "dIB = [np.sqrt((dABh[i]-dAI)**2 + dv**2) for i in range(number_of_users)]           # Distance between the legitimate receivers and the RIS\n",
    "dIE = [np.sqrt((dAEh[i]-dAI)**2 + dv**2) for i in range(number_of_eavesdroppers)]   # Distance between the eavesdroppers and the RIS\n"
   ]
  },
  {
   "cell_type": "code",
   "execution_count": 57,
   "metadata": {},
   "outputs": [],
   "source": [
    "def normalise_beamforming_vectors(w: np.ndarray) -> np.ndarray:\n",
    "    \"\"\"Function to normalise the beamforming vectors\n",
    "\n",
    "    Args:\n",
    "        w: the beamforming vectors\n",
    "    \"\"\"\n",
    "    total_norm = 0\n",
    "    for i in range(number_of_users):\n",
    "        total_norm += np.linalg.norm(w[i])\n",
    "    for i in range(number_of_users):\n",
    "        w[i] = w[i] / total_norm\n",
    "    return w\n",
    "\n",
    "def generate_random_beamforming_vector():\n",
    "  '''\n",
    "  Generate one random beamforming vector\n",
    "  '''\n",
    "  return np.random.uniform(-1, 1, (N, 1)) + 1j * np.random.uniform(-1, 1, (N, 1))\n",
    "\n",
    "def generate_random_beamforming_vectors():\n",
    "    # Generate random complex numbers for each element of the beamforming vector\n",
    "    beamforming_vectors = [generate_random_beamforming_vector() for _ in range (number_of_users)]\n",
    "    \n",
    "    # Normalize the vectors\n",
    "    beamforming_vectors = normalise_beamforming_vectors(beamforming_vectors)\n",
    "    return beamforming_vectors\n",
    "    #w: list of beamforming vectors, length = number of users, elements are N x 1\n",
    "\n",
    "def generate_random_theta():\n",
    "    theta = np.random.uniform(-np.pi, np.pi, (1, Nris))\n",
    "    theta = np.exp(1j * theta)\n",
    "    return theta\n",
    "    #theta: phase shift of RIS, size 1 x Nris\n",
    "\n",
    "def generate_random_theta_angles(size: int):\n",
    "  \"\"\"\n",
    "    Generate a random vector of angles from -pi to pi\n",
    "  \"\"\"\n",
    "  return np.random.uniform(-np.pi, np.pi, size=(1, size))\n",
    "\n",
    "def theta_angles_to_theta_vector(angles: np.ndarray[np.float64]) -> np.ndarray[np.complex128]:\n",
    "  \"\"\"\n",
    "    Convert a vector of angles to a vector of complex numbers on the unit circle\n",
    "  \"\"\"\n",
    "  return np.exp(1j * angles)\n",
    "\n",
    "def theta_vector_to_theta_angles(theta: np.ndarray[np.complex128]) -> np.ndarray[np.float64]:\n",
    "  \"\"\"\n",
    "    Convert a vector of complex numbers on the unit circle to a vector of angles\n",
    "  \"\"\"\n",
    "  return np.angle(theta)\n",
    "\n",
    "def generateChannel():\n",
    "    normFact = 1/np.sqrt(sigma)\n",
    "    Hai = chanGen(zetaAI, dAI, Nris, N)                                                         # Alice to RIS channel\n",
    "    hib = [normFact*chanGen(zetaIB, dIB[i], 1, Nris) for i in range(number_of_users)]           # Channel between the RIS and the legitimate receivers\n",
    "    hie = [normFact*chanGen(zetaIE, dIE[i], 1, Nris) for i in range(number_of_eavesdroppers)]   # Channel between the RIS and the eavesdroppers\n",
    "    hab = [normFact*chanGen(zetaAB, dAB[i], 1, N) for i in range(number_of_users)]              # Channel between Alice and the legitimate receivers\n",
    "    hae = [normFact*chanGen(zetaAE, dAE[i], 1, N) for i in range(number_of_eavesdroppers)]      # Channel between Alice and the eavesdroppers\n",
    "    return Hai, hib, hie, hab, hae\n",
    "\n",
    "    #Hai: Channel between Alice and RIS: Nris x N  \n",
    "    #hib: Channel between RIS and users: List of length number_of_users, elements are 1 x Nris\n",
    "    #hab: Channel between Alice and users: List of length number_of_users, elements are 1 x N\n",
    "    #hie: Channel between RIS and eavesdroppers: List of length number_of_eavesdroppers, elements are 1 x Nris\n",
    "    #hae: Channel between Alice and eavesdroppers: List of length number_of_eavesdroppers, elements are 1 x N"
   ]
  },
  {
   "cell_type": "code",
   "execution_count": 58,
   "metadata": {},
   "outputs": [],
   "source": [
    "# Reseed\n",
    "# np.random.seed(RANDOM_SEED)\n",
    "\n",
    "# Channel generation\n",
    "Hai, hib, hie, hab, hae = generateChannel()\n",
    "\n",
    "# Generate random theta and w\n",
    "theta_init = generate_random_theta()\n",
    "w_init = generate_random_beamforming_vectors()"
   ]
  },
  {
   "cell_type": "markdown",
   "metadata": {},
   "source": [
    "# Objective Function"
   ]
  },
  {
   "cell_type": "code",
   "execution_count": 59,
   "metadata": {},
   "outputs": [],
   "source": [
    "def secrecy_rate_objective_function(theta, w) -> float:\n",
    "    secrecy_rate: float = 0\n",
    "    for k in range(number_of_users):\n",
    "        R_bk = []\n",
    "        # Legitimate user k\n",
    "        Z_bk = hib[k] @ np.diag(theta.flatten()) @ Hai + hab[k]\n",
    "        numGamma_bk = np.abs(Z_bk @ w[k])**2\n",
    "        denGamma_bk = 1 + np.sum([np.abs(Z_bk @ w[i])**2 for i in range(number_of_users) if i != k])\n",
    "        gamma_bk = numGamma_bk/denGamma_bk\n",
    "        C_bk = np.log2(1 + gamma_bk)\n",
    "        \n",
    "        for m in range(number_of_eavesdroppers):\n",
    "            # Eavesdropper i\n",
    "            Z_em = hie[m] @ np.diag(theta.flatten()) @ Hai + hae[m]\n",
    "            numGamma_em = np.abs(Z_em @ w[k])**2\n",
    "            denGamma_em = 1 + np.sum([np.abs(Z_em @ w[j])**2 for j in range(number_of_users) if j != k])\n",
    "            gamma_em = numGamma_em/denGamma_em\n",
    "            C_em = np.log2(1 + gamma_em)\n",
    "            R_bk.append(C_bk - C_em)\n",
    "        \n",
    "        secrecy_rate += max(min(R_bk),0)\n",
    "    return secrecy_rate"
   ]
  },
  {
   "cell_type": "code",
   "execution_count": 60,
   "metadata": {},
   "outputs": [
    {
     "name": "stdout",
     "output_type": "stream",
     "text": [
      "[[ 0.88048122+0.47408102j  0.10675779-0.99428506j -0.94121722+0.33780192j\n",
      "  -0.51552239-0.85687611j  0.98551347-0.16959717j  0.1734521 -0.98484231j\n",
      "   0.05972855-0.99821466j -0.82186107+0.56968797j -0.64812937+0.76153025j\n",
      "   0.94798661+0.31831021j -0.58631416-0.81008376j  0.30854288-0.95121044j\n",
      "  -0.88320766-0.46898212j -0.36293885+0.93181296j -0.8274319 -0.56156608j\n",
      "  -0.90636523+0.42249504j  0.95027299-0.31141812j  0.82084652+0.57114883j\n",
      "  -0.89074293-0.45450746j -0.68946858+0.72431559j  0.95427824-0.2989198j\n",
      "   0.98565906+0.16874896j  0.82615517-0.56344267j -0.45260546+0.89171088j\n",
      "  -0.3844826 +0.92313224j -0.97945512+0.20166227j -0.83626362-0.54832761j\n",
      "   0.26845845+0.96329127j  0.87334229+0.48710702j -0.93345363-0.3586981j\n",
      "  -0.70376125-0.71043656j  0.68661103+0.72702496j]]\n",
      "distance between Alice and the receivers:  [np.float64(8.597260577730964), np.float64(7.704507320858385), np.float64(9.344025672091696), np.float64(5.531459234567628)]\n",
      "distance between Alice and the eavesdroppers:  [np.float64(130.82028537878898), np.float64(106.58050877047856)]\n",
      "Secrecy Rate: [[1.03043829]]\n"
     ]
    }
   ],
   "source": [
    "print(theta_init)\n",
    "print(\"distance between Alice and the receivers: \", dAB)\n",
    "print(\"distance between Alice and the eavesdroppers: \", dAE)\n",
    "print(\"Secrecy Rate:\", secrecy_rate_objective_function(theta_init, w_init))"
   ]
  },
  {
   "cell_type": "markdown",
   "metadata": {},
   "source": [
    "# Method"
   ]
  },
  {
   "cell_type": "markdown",
   "metadata": {},
   "source": [
    "## Gradient Descent for Maximization (GD)"
   ]
  },
  {
   "cell_type": "code",
   "execution_count": 61,
   "metadata": {},
   "outputs": [],
   "source": [
    "def compute_gradient_w(theta, w):\n",
    "    grad_w = []\n",
    "    Z_e_max = [] #Z_e_max[k] = Z_e_max for user k\n",
    "    gamma_e_max = [] #gamma_e_max[k] = gamma_e_max for user k\n",
    "    Z_b = [] #Z_b[k] = Z_bk\n",
    "    gamma_b = [] #gamma_b[k] = gamma_bk\n",
    "    counted = [] #counted[k] = true if gamma_k > gamma_e_max[k]\n",
    "    \n",
    "\n",
    "    #Precalculation \n",
    "    for k in range (number_of_users):\n",
    "        gamma_e = []\n",
    "        for m in range (number_of_eavesdroppers):\n",
    "            Z_em = hie[m] @ np.diag(theta.flatten()) @ Hai + hae[m]\n",
    "            numGamma_em = np.abs(Z_em @ w[k])**2\n",
    "            denGamma_em = 1 + np.sum([np.abs(Z_em @ w[j])**2 for j in range(number_of_users) if j != k])\n",
    "            gamma_em = numGamma_em/denGamma_em\n",
    "            gamma_e.append(gamma_em)\n",
    "        \n",
    "        gamma_e_max.append(max(gamma_e))\n",
    "        index_e_max = gamma_e.index(max(gamma_e))\n",
    "        Z_e = hie[index_e_max] @ np.diag(theta.flatten()) @ Hai + hae[index_e_max]\n",
    "        Z_e_max.append(Z_e)\n",
    "\n",
    "        Z_bk = hib[k] @ np.diag(theta.flatten()) @ Hai + hab[k]\n",
    "        numGamma_bk = np.abs(Z_bk @ w[k])**2\n",
    "        denGamma_bk = 1 + np.sum([np.abs(Z_bk @ w[i])**2 for i in range(number_of_users) if i != k])\n",
    "        gamma_bk = numGamma_bk/denGamma_bk\n",
    "\n",
    "        Z_b.append(Z_bk)\n",
    "        gamma_b.append(gamma_bk)\n",
    "\n",
    "        counted.append(gamma_bk > gamma_e[index_e_max])\n",
    "\n",
    "\n",
    "    #Calculating grad for i-th beamforming vector\n",
    "    for i in range (number_of_users):\n",
    "        grad = np.zeros((N, 1))\n",
    "        #print(\"grad_shape =\", grad.shape)\n",
    "        for k in range (number_of_users):\n",
    "            if (counted[k] == False):\n",
    "                continue\n",
    "            if (k == i):\n",
    "                num_grad_C_bk_to_w_k = 2 * (HermTranspose(Z_b[k]) @ Z_b[k] @ w[k])\n",
    "                den_grad_C_bk_to_w_k = (1 + gamma_b[k]) * np.log(2) * (1 + sum([abs(Z_b[k] @ w[j]) for j in range (number_of_users) if j != k]))\n",
    "                grad_C_bk_to_w_k = num_grad_C_bk_to_w_k / den_grad_C_bk_to_w_k\n",
    "\n",
    "                num_grad_C_e_max_to_w_k = 2 * (HermTranspose(Z_e_max[k]) @ Z_e_max[k] @ w[k])\n",
    "                den_grad_C_e_max_to_w_k = (1 + gamma_e_max[k]) * np.log(2) * (1 + sum([abs(Z_e_max[k] @ w[j]) for j in range (number_of_users) if j != k]))\n",
    "                grad_C_e_max_to_w_k = num_grad_C_e_max_to_w_k / den_grad_C_e_max_to_w_k\n",
    "                \n",
    "                #print(\"num_grad_C_e_max_to_w_k\", num_grad_C_e_max_to_w_k.shape)\n",
    "                #print(\"den_grad_C_e_max_to_w_k\", den_grad_C_e_max_to_w_k.shape)\n",
    "                grad = grad - (grad_C_bk_to_w_k - grad_C_e_max_to_w_k)\n",
    "            else:\n",
    "                num_grad_C_bk_to_w_i = -2 * abs(Z_b[k] @ w[k]) * (HermTranspose(Z_b[k]) @ Z_b[k] @ w[i])\n",
    "                den_grad_C_bk_to_w_i = (1 + gamma_b[k]) * np.log(2) * (1 + sum([abs(Z_b[k] @ w[j]) for j in range (number_of_users) if j != k])) ** 2\n",
    "                grad_C_bk_to_w_i = num_grad_C_bk_to_w_i / den_grad_C_bk_to_w_i\n",
    "\n",
    "                num_grad_C_e_max_to_w_i = -2 * abs(Z_e_max[k] @ w[k]) * (HermTranspose(Z_e_max[k]) @ Z_e_max[k] @ w[i])\n",
    "                den_grad_C_e_max_to_w_i = (1 + gamma_e_max[k]) * np.log(2) * (1 + sum([abs(Z_e_max[k] @ w[j]) for j in range (number_of_users) if j != k])) ** 2\n",
    "                grad_C_e_max_to_w_i = num_grad_C_e_max_to_w_i / den_grad_C_e_max_to_w_i\n",
    "\n",
    "                grad = grad - (grad_C_bk_to_w_i - grad_C_e_max_to_w_i)\n",
    "            \n",
    "        grad_w.append(grad)\n",
    "    return grad_w\n",
    "\n",
    "def compute_gradient_theta(theta, w, epsilon=1e-3):\n",
    "    grad_theta = []\n",
    "    for i in range(Nris):\n",
    "        theta_plus = deepcopy(theta)\n",
    "        theta_plus[0, i] += epsilon + epsilon*1j\n",
    "        theta_minus = deepcopy(theta)\n",
    "        theta_minus[0, i] -= epsilon + epsilon*1j\n",
    "        grad_theta_i = (secrecy_rate_objective_function(theta_plus, w) - secrecy_rate_objective_function(theta_minus, w))/(2*epsilon)\n",
    "        grad_theta.append(grad_theta_i)\n",
    "            \n",
    "    return np.array(grad_theta).reshape(1, Nris)\n",
    "\n",
    "\n",
    "\n",
    "def gradient_descent_update(w, theta, learning_rate):\n",
    "    grad_w = compute_gradient_w(theta, w)\n",
    "    grad_theta = compute_gradient_theta(theta, w)\n",
    "    w_new = [w[i] - learning_rate * grad_w[i] for i in range (number_of_users)]\n",
    "    total_norm = 0\n",
    "    for i in range (number_of_users):\n",
    "        total_norm += np.linalg.norm(w_new[i]) ** 2\n",
    "    for i in range (number_of_users):\n",
    "        w_new[i] = w_new[i] / np.sqrt(total_norm)\n",
    "        \n",
    "    theta_new = theta - learning_rate * grad_theta\n",
    "    theta_new = np.exp(1j * np.angle(theta_new))\n",
    "\n",
    "    return w_new, theta_new\n",
    "\n"
   ]
  },
  {
   "cell_type": "code",
   "execution_count": 62,
   "metadata": {},
   "outputs": [
    {
     "name": "stdout",
     "output_type": "stream",
     "text": [
      "Initial Secrecy Rate GD: [[1.20802389]]\n",
      "Converged\n",
      "[array([[1.03043829]]), array([[7.25774395]]), array([[9.25334541]]), array([[10.59563882]]), array([[11.63103313]]), array([[12.41924569]]), array([[13.0206543]]), array([[13.50995264]]), array([[13.91082582]]), array([[14.23753364]]), array([[14.50226947]]), array([[14.71633216]]), array([[14.888801]]), array([[15.02699757]]), array([[15.13636794]]), array([[15.22217283]]), array([[15.28839602]]), array([[15.3382977]]), array([[15.37460077]]), array([[15.39961009]]), array([[15.41529282]]), array([[15.42333505]]), array([[15.42518351]])]\n",
      "Final Secrecy Rate GD: [[15.42518351]]\n"
     ]
    }
   ],
   "source": [
    "# Reseed first\n",
    "np.random.seed(RANDOM_SEED)\n",
    "\n",
    "# Gradient Descent Algorithm\n",
    "num_cycles = 500\n",
    "learning_rate = 0.01\n",
    "theta_GD = generate_random_theta()\n",
    "w_GD = generate_random_beamforming_vectors()\n",
    "print(\"Initial Secrecy Rate GD:\", secrecy_rate_objective_function(theta_GD, w_GD))\n",
    "current_secrecy_rate = secrecy_rate_objective_function(theta_init, w_init)\n",
    "\n",
    "GD_results = []\n",
    "GD_results.append(current_secrecy_rate)\n",
    "\n",
    "for i in range(num_cycles):\n",
    "    w_new, theta_new = gradient_descent_update(w_GD, theta_GD, learning_rate)\n",
    "    new_secrecy_rate = secrecy_rate_objective_function(theta_new, w_new)\n",
    "    # print(new_secrecy_rate)\n",
    "    if (new_secrecy_rate - current_secrecy_rate) < 1e-9:\n",
    "        print(\"Converged\")\n",
    "        break\n",
    "    w_GD = w_new\n",
    "    theta_GD = theta_new\n",
    "    GD_results.append(new_secrecy_rate)\n",
    "    current_secrecy_rate = new_secrecy_rate\n",
    "\n",
    "print(GD_results)\n",
    "print(\"Final Secrecy Rate GD:\", secrecy_rate_objective_function(theta_GD, w_GD))"
   ]
  },
  {
   "cell_type": "markdown",
   "metadata": {},
   "source": [
    "## Particle Swarm Optimization (PSO)"
   ]
  },
  {
   "cell_type": "code",
   "execution_count": 63,
   "metadata": {},
   "outputs": [],
   "source": [
    "class PSOParticle:\n",
    "  def __init__(self) -> None:\n",
    "    self.theta = generate_random_theta_angles(Nris)\n",
    "    self.w = generate_random_beamforming_vectors()\n",
    "    self.best_theta = deepcopy(self.theta)\n",
    "    self.best_w = deepcopy(self.w)\n",
    "    self.best_secrecy_rate = secrecy_rate_objective_function(theta_angles_to_theta_vector(self.best_theta), self.best_w)\n",
    "    self.velocity_theta = np.zeros((1, Nris))\n",
    "    self.velocity_w = [np.zeros((N, 1)) for i in range(number_of_users)]\n",
    "\n",
    "  def update_velocity(self, inertia, c1, c2, global_best_theta, global_best_w):\n",
    "    self.velocity_theta = inertia * self.velocity_theta + c1 * np.random.rand() * (self.best_theta - self.theta) + c2 * np.random.rand() * (global_best_theta - self.theta)\n",
    "    self.velocity_w = [inertia * self.velocity_w[i] + c1 * np.random.rand() * (self.best_w[i] - self.w[i]) + c2 * np.random.rand() * (global_best_w[i] - self.w[i]) for i in range(number_of_users)]\n",
    "\n",
    "  def update_position(self):\n",
    "    self.theta = self.theta + self.velocity_theta\n",
    "    self.theta = np.exp(1j * np.angle(self.theta))\n",
    "    self.w = [self.w[i] + self.velocity_w[i] for i in range(number_of_users)]\n",
    "    total_norm = 0\n",
    "    for i in range (number_of_users):\n",
    "        total_norm += np.linalg.norm(self.w[i])\n",
    "    for i in range(number_of_users):\n",
    "        self.w[i] = self.w[i] / total_norm\n",
    "\n",
    "\n",
    "  def update_best(self):\n",
    "    current_secrecy_rate = secrecy_rate_objective_function(theta_angles_to_theta_vector(self.theta), self.w)\n",
    "    if current_secrecy_rate > self.best_secrecy_rate:\n",
    "      self.best_secrecy_rate = current_secrecy_rate\n",
    "      self.best_theta = deepcopy(self.theta)\n",
    "      self.best_w = deepcopy(self.w)"
   ]
  },
  {
   "cell_type": "code",
   "execution_count": 64,
   "metadata": {},
   "outputs": [],
   "source": [
    "def dynamic_inertia(i, max_iter, inertia_max, inertia_min):\n",
    "  E_t = float((max_iter - i - 1)/max_iter)\n",
    "  inertia = inertia_min + (inertia_max - inertia_min) * (2 /(1 + (np.e ** (-5 * E_t))) - 1)\n",
    "  return inertia"
   ]
  },
  {
   "cell_type": "code",
   "execution_count": 65,
   "metadata": {},
   "outputs": [],
   "source": [
    "def PSO_optimize_w_theta(max_iter: int, num_particles: int, w_min: float, w_max: float, c1: float, c2: float):\n",
    "  particles = [PSOParticle() for _ in range(num_particles)]\n",
    "  global_best_secrecy_rate = -np.inf\n",
    "  global_best_theta = np.zeros((1, Nris))\n",
    "  global_best_w = [np.zeros((N, 1)) for i in range(number_of_users)]\n",
    "\n",
    "  results_secrecy_rate = []\n",
    "\n",
    "  for iteration in range(max_iter):\n",
    "    inertia = dynamic_inertia(iteration, max_iter, w_max, w_min)\n",
    "\n",
    "    for particle in particles:\n",
    "      particle.update_velocity(inertia, c1, c2, global_best_theta, global_best_w)\n",
    "      particle.update_position()\n",
    "      particle.update_best()\n",
    "\n",
    "      if particle.best_secrecy_rate > global_best_secrecy_rate:\n",
    "        global_best_secrecy_rate = particle.best_secrecy_rate\n",
    "        global_best_theta = deepcopy(particle.best_theta)\n",
    "        global_best_w = deepcopy(particle.best_w)\n",
    "\n",
    "    results_secrecy_rate.append(global_best_secrecy_rate)\n",
    "\n",
    "  return results_secrecy_rate"
   ]
  },
  {
   "cell_type": "code",
   "execution_count": 66,
   "metadata": {},
   "outputs": [
    {
     "name": "stdout",
     "output_type": "stream",
     "text": [
      "Initial Secrecy Rate PSO: [[7.37571871]]\n",
      "[array([[7.37571871]]), array([[7.60238494]]), array([[7.73398794]]), array([[8.51153662]]), array([[8.62641152]]), array([[8.81537602]]), array([[8.98830174]]), array([[9.20426518]]), array([[9.25911106]]), array([[9.49334978]]), array([[9.5921237]]), array([[9.72275732]]), array([[9.82335168]]), array([[9.86742539]]), array([[10.11245983]]), array([[10.23437598]]), array([[10.28036915]]), array([[10.3009869]]), array([[10.37386918]]), array([[10.40149862]]), array([[10.44998162]]), array([[10.51179241]]), array([[10.51748158]]), array([[10.54186235]]), array([[10.55886425]]), array([[10.58057994]]), array([[10.64452847]]), array([[10.69009392]]), array([[10.7672178]]), array([[10.8456996]]), array([[10.9062326]]), array([[10.93785278]]), array([[11.03341997]]), array([[11.05919945]]), array([[11.06008665]]), array([[11.11730241]]), array([[11.13231305]]), array([[11.1777166]]), array([[11.18535334]]), array([[11.19845816]]), array([[11.21739579]]), array([[11.2250356]]), array([[11.22542038]]), array([[11.22787251]]), array([[11.24748603]]), array([[11.25138925]]), array([[11.26118506]]), array([[11.28583084]]), array([[11.28583084]]), array([[11.29391519]]), array([[11.3064722]]), array([[11.30795863]]), array([[11.30795863]]), array([[11.30932605]]), array([[11.30932605]]), array([[11.3102465]]), array([[11.31712841]]), array([[11.32087181]]), array([[11.32087181]]), array([[11.32320922]]), array([[11.32659086]]), array([[11.32763405]]), array([[11.32874914]]), array([[11.32981456]]), array([[11.33026657]]), array([[11.33334345]]), array([[11.33334345]]), array([[11.33749604]]), array([[11.34093438]]), array([[11.34732316]]), array([[11.35328404]]), array([[11.35476266]]), array([[11.36195867]]), array([[11.37299903]]), array([[11.37299903]]), array([[11.38088743]]), array([[11.38372161]]), array([[11.38372161]]), array([[11.38708999]]), array([[11.39274903]]), array([[11.39761435]]), array([[11.39861377]]), array([[11.39861377]]), array([[11.39992023]]), array([[11.40101892]]), array([[11.40101892]]), array([[11.40101892]]), array([[11.402712]]), array([[11.40455795]]), array([[11.42164297]]), array([[11.42852614]]), array([[11.45662302]]), array([[11.45662302]]), array([[11.45662302]]), array([[11.45929193]]), array([[11.46394992]]), array([[11.47015127]]), array([[11.47618371]]), array([[11.47953444]]), array([[11.47953444]]), array([[11.47953444]]), array([[11.48005755]]), array([[11.48351229]]), array([[11.48740792]]), array([[11.48816714]]), array([[11.48963961]]), array([[11.49184833]]), array([[11.49255255]]), array([[11.49255255]]), array([[11.49255255]]), array([[11.49255255]]), array([[11.49255255]]), array([[11.49329698]]), array([[11.49329698]]), array([[11.49329698]]), array([[11.49420708]]), array([[11.49420708]]), array([[11.49451657]]), array([[11.49451657]]), array([[11.49461401]]), array([[11.49525189]]), array([[11.49525189]]), array([[11.49525189]]), array([[11.49531034]]), array([[11.49531034]]), array([[11.49531034]]), array([[11.49531034]]), array([[11.49538498]]), array([[11.49538498]]), array([[11.49557331]]), array([[11.49557331]]), array([[11.49561008]]), array([[11.49628882]]), array([[11.49628882]]), array([[11.49842636]]), array([[11.49842636]]), array([[11.49889856]]), array([[11.49889856]]), array([[11.49891936]]), array([[11.49917854]]), array([[11.50017237]]), array([[11.50017237]]), array([[11.50017237]]), array([[11.50017237]]), array([[11.50017237]]), array([[11.50021383]]), array([[11.50021383]]), array([[11.50029008]]), array([[11.50029008]]), array([[11.50029008]]), array([[11.50029008]]), array([[11.50029008]]), array([[11.50048584]]), array([[11.500785]]), array([[11.50115766]]), array([[11.50120984]]), array([[11.50120984]]), array([[11.50155816]]), array([[11.50155816]]), array([[11.50155816]]), array([[11.50155816]]), array([[11.5027555]]), array([[11.50287168]]), array([[11.5041469]]), array([[11.50454891]]), array([[11.50454891]]), array([[11.50467742]]), array([[11.50539009]]), array([[11.50539009]]), array([[11.50560004]]), array([[11.50584295]]), array([[11.50586123]]), array([[11.50595503]]), array([[11.50595503]]), array([[11.50595503]]), array([[11.50623266]]), array([[11.50623266]]), array([[11.5065431]]), array([[11.50747679]]), array([[11.50747679]]), array([[11.50803181]]), array([[11.50803181]]), array([[11.50836537]]), array([[11.50836537]]), array([[11.50836537]]), array([[11.50855981]]), array([[11.50855981]]), array([[11.50897901]]), array([[11.50926793]]), array([[11.50944971]]), array([[11.50950906]]), array([[11.51009038]]), array([[11.51009997]]), array([[11.51117493]]), array([[11.51117493]]), array([[11.51123248]]), array([[11.51158058]]), array([[11.51309352]]), array([[11.51309352]]), array([[11.51309352]]), array([[11.51309352]]), array([[11.51309352]]), array([[11.51309352]]), array([[11.51318496]]), array([[11.51462014]]), array([[11.51462014]]), array([[11.51491062]]), array([[11.51491062]]), array([[11.51491062]]), array([[11.51491062]]), array([[11.51512605]]), array([[11.51512605]]), array([[11.51706691]]), array([[11.51706691]]), array([[11.51719759]]), array([[11.51719759]]), array([[11.51800109]]), array([[11.52007665]]), array([[11.52007665]]), array([[11.52007665]]), array([[11.52007665]]), array([[11.52063986]]), array([[11.52063986]]), array([[11.52075689]]), array([[11.52083575]]), array([[11.52083575]]), array([[11.52133576]]), array([[11.52133576]]), array([[11.52133576]]), array([[11.52137367]]), array([[11.52158601]]), array([[11.52158601]]), array([[11.52176129]]), array([[11.52270761]]), array([[11.52270761]]), array([[11.52286958]]), array([[11.52306365]]), array([[11.52344909]]), array([[11.52344909]]), array([[11.52344909]]), array([[11.52344909]]), array([[11.5234525]]), array([[11.5234525]]), array([[11.5234525]]), array([[11.5234525]]), array([[11.5234525]]), array([[11.5234525]]), array([[11.52350347]]), array([[11.52350347]]), array([[11.52350347]]), array([[11.52352973]]), array([[11.52358187]]), array([[11.52389008]]), array([[11.52389008]]), array([[11.52390888]]), array([[11.52401342]]), array([[11.52417462]]), array([[11.52417462]]), array([[11.52417462]]), array([[11.52434763]]), array([[11.52449614]]), array([[11.52491428]]), array([[11.52610769]]), array([[11.5262018]]), array([[11.52626728]]), array([[11.52638897]]), array([[11.52658935]]), array([[11.5267358]]), array([[11.5267358]]), array([[11.52718249]]), array([[11.52718249]]), array([[11.52718922]]), array([[11.52718922]]), array([[11.52745391]]), array([[11.52751811]]), array([[11.52780638]]), array([[11.52829159]]), array([[11.52838724]]), array([[11.52838724]]), array([[11.52842051]]), array([[11.52869809]]), array([[11.52869809]]), array([[11.52869809]]), array([[11.52869809]]), array([[11.52869809]]), array([[11.5287819]]), array([[11.52914607]]), array([[11.52916958]]), array([[11.52916958]]), array([[11.52921953]]), array([[11.5292759]]), array([[11.5292759]]), array([[11.52928689]]), array([[11.52930133]]), array([[11.52950556]]), array([[11.52950556]]), array([[11.52950556]]), array([[11.52950556]]), array([[11.52957236]]), array([[11.52965253]]), array([[11.52967286]]), array([[11.52967286]]), array([[11.52971057]]), array([[11.52975074]]), array([[11.52975074]]), array([[11.52977019]]), array([[11.52977019]]), array([[11.52981203]]), array([[11.53005482]]), array([[11.53016976]]), array([[11.53039914]]), array([[11.53039914]]), array([[11.53078697]]), array([[11.53107305]]), array([[11.53151802]]), array([[11.53162919]]), array([[11.53171181]]), array([[11.53178273]]), array([[11.53178273]]), array([[11.53183993]]), array([[11.53183993]]), array([[11.53188816]]), array([[11.53189277]]), array([[11.53197133]]), array([[11.53201112]]), array([[11.53226369]]), array([[11.53226369]]), array([[11.53246419]]), array([[11.53259496]]), array([[11.53261693]]), array([[11.5326197]]), array([[11.5326197]]), array([[11.5326197]]), array([[11.53270075]]), array([[11.53270623]]), array([[11.53272738]]), array([[11.53277004]]), array([[11.53278162]]), array([[11.53282453]]), array([[11.53282453]]), array([[11.53282698]]), array([[11.53286667]]), array([[11.53286667]]), array([[11.53288297]]), array([[11.53289878]]), array([[11.53290172]]), array([[11.53292128]]), array([[11.53292128]]), array([[11.5329806]]), array([[11.53408837]]), array([[11.53408837]]), array([[11.53411396]]), array([[11.53414997]]), array([[11.53418371]]), array([[11.53420714]]), array([[11.53423212]]), array([[11.53430341]]), array([[11.53435733]]), array([[11.53437046]]), array([[11.5343945]]), array([[11.5343945]]), array([[11.53439699]]), array([[11.53440361]]), array([[11.53444903]]), array([[11.53444903]]), array([[11.53446382]]), array([[11.53446751]]), array([[11.5344703]]), array([[11.53449139]]), array([[11.53449139]]), array([[11.53450084]]), array([[11.53453652]]), array([[11.53456133]]), array([[11.53460917]]), array([[11.5346283]]), array([[11.53465787]]), array([[11.53467323]]), array([[11.5346986]]), array([[11.53476003]]), array([[11.5348499]]), array([[11.5348907]]), array([[11.53493069]]), array([[11.53495076]]), array([[11.53506569]]), array([[11.5354851]]), array([[11.53548737]]), array([[11.53554656]]), array([[11.53555003]]), array([[11.53555003]]), array([[11.53570353]]), array([[11.53591211]]), array([[11.53591788]]), array([[11.53594295]]), array([[11.53596057]]), array([[11.53598797]]), array([[11.53599884]]), array([[11.5360225]]), array([[11.5360225]]), array([[11.53602534]]), array([[11.53604096]]), array([[11.5360715]]), array([[11.53611856]]), array([[11.53612643]]), array([[11.53614717]]), array([[11.53626484]]), array([[11.53632203]]), array([[11.53632678]]), array([[11.53642809]]), array([[11.53650201]]), array([[11.53651771]]), array([[11.53658991]]), array([[11.53661498]]), array([[11.53663355]]), array([[11.53664389]]), array([[11.53666191]]), array([[11.53669973]]), array([[11.53672564]]), array([[11.53675611]]), array([[11.53676353]]), array([[11.53677079]]), array([[11.53678761]]), array([[11.53679166]]), array([[11.53679569]]), array([[11.53682621]]), array([[11.53683463]]), array([[11.53692377]]), array([[11.53702922]]), array([[11.53706378]]), array([[11.53707679]]), array([[11.53709768]]), array([[11.53711165]]), array([[11.53711202]]), array([[11.53712471]]), array([[11.53712511]]), array([[11.5371284]]), array([[11.53713155]]), array([[11.53714163]]), array([[11.53716529]]), array([[11.53726338]]), array([[11.53739618]]), array([[11.53742748]]), array([[11.53745849]]), array([[11.53748817]]), array([[11.53767448]]), array([[11.53778239]]), array([[11.53779918]]), array([[11.53786282]]), array([[11.53789042]]), array([[11.53795915]]), array([[11.53800352]]), array([[11.53801424]]), array([[11.53802513]]), array([[11.53802721]]), array([[11.53803294]]), array([[11.53803576]]), array([[11.53804335]]), array([[11.53807864]]), array([[11.53812124]]), array([[11.53813839]]), array([[11.53821296]]), array([[11.53822085]]), array([[11.53822085]]), array([[11.53822371]]), array([[11.53822444]]), array([[11.53823098]]), array([[11.53823098]]), array([[11.53823262]]), array([[11.5382339]]), array([[11.53823536]]), array([[11.53823712]]), array([[11.53823748]]), array([[11.53823867]]), array([[11.53823894]]), array([[11.53823996]]), array([[11.53823999]]), array([[11.53824022]]), array([[11.53824092]]), array([[11.53824228]]), array([[11.53824393]]), array([[11.53824551]]), array([[11.53824597]]), array([[11.53824647]]), array([[11.53824681]]), array([[11.53824952]]), array([[11.53825196]]), array([[11.5382555]]), array([[11.53825944]]), array([[11.53826017]]), array([[11.53826043]]), array([[11.53826043]]), array([[11.53826057]]), array([[11.53826063]]), array([[11.53826072]]), array([[11.53826094]]), array([[11.53826112]]), array([[11.53826213]]), array([[11.53826481]]), array([[11.53826568]]), array([[11.53826624]]), array([[11.53826658]])]\n",
      "Final Secrecy Rate PSO: [[11.53826658]]\n"
     ]
    }
   ],
   "source": [
    "# Reseed\n",
    "np.random.seed(RANDOM_SEED)\n",
    "\n",
    "# PSO Algorithm\n",
    "max_iter = 500\n",
    "num_particles = 100\n",
    "w_min = 0.4\n",
    "w_max = 0.9\n",
    "c1 = 1.5\n",
    "c2 = 1.5\n",
    "\n",
    "PSO_results = PSO_optimize_w_theta(max_iter, num_particles, w_min, w_max, c1, c2)\n",
    "print(\"Initial Secrecy Rate PSO:\", PSO_results[0])\n",
    "print(PSO_results)\n",
    "print(\"Final Secrecy Rate PSO:\", PSO_results[-1])"
   ]
  },
  {
   "cell_type": "markdown",
   "metadata": {},
   "source": [
    "## Genetic Algorithm (GA)"
   ]
  },
  {
   "cell_type": "code",
   "execution_count": 51,
   "metadata": {},
   "outputs": [],
   "source": [
    "class GAIndividual:\n",
    "  def __init__(self, theta: np.ndarray[np.float64] = None, w: np.ndarray[np.complex128] = None) -> None:\n",
    "    if theta is None:\n",
    "      self.theta = generate_random_theta_angles(Nris)\n",
    "    else:\n",
    "      self.theta = theta\n",
    "\n",
    "    if w is None:\n",
    "      self.w = generate_random_beamforming_vectors()\n",
    "    else:\n",
    "      self.w = w\n",
    "\n",
    "    self.fitness = secrecy_rate_objective_function(theta_angles_to_theta_vector(self.theta), self.w)\n",
    "\n",
    "  def update_fitness(self):\n",
    "    self.fitness = secrecy_rate_objective_function(theta_angles_to_theta_vector(self.theta), self.w)\n",
    "\n",
    "\n",
    "class GAPopulation:\n",
    "  def __init__(self, population_size: int, crossover_rate: float = 0.85, mutation_rate: float = 0.3) -> None:\n",
    "    self.population_size = population_size\n",
    "    self.individuals = [GAIndividual() for _ in range(population_size)]\n",
    "    self.crossover_rate = crossover_rate\n",
    "    self.mutation_rate = mutation_rate\n",
    "\n",
    "  def sort_population(self):\n",
    "    self.individuals.sort(key=lambda x: x.fitness, reverse=True)\n",
    "\n",
    "  def filter_population(self):\n",
    "    self.sort_population()\n",
    "    self.individuals = self.individuals[:self.population_size]\n",
    "\n",
    "  def add_individual(self, individual: GAIndividual):\n",
    "    self.individuals.append(individual)\n",
    "\n",
    "  def select_parents(self) -> tuple[GAIndividual, GAIndividual]:\n",
    "    parents = np.random.choice(self.individuals, 2, replace=False)\n",
    "    return parents[0], parents[1]\n",
    "  \n",
    "  def crossover(self, parent1: GAIndividual, parent2: GAIndividual) -> GAIndividual:\n",
    "    theta1, w1 = parent1.theta, parent1.w\n",
    "    theta2, w2 = parent2.theta, parent2.w\n",
    "    theta_child = (theta1 + theta2) / 2\n",
    "    w_child = [(w1[i] + w2[i]) / 2 for i in range(number_of_users)]\n",
    "    return GAIndividual(theta_child, w_child)\n",
    "  \n",
    "  def mutate(self, individual: GAIndividual) -> GAIndividual:\n",
    "    if np.random.rand() < self.mutation_rate:\n",
    "      mutation_index = np.random.randint(0, Nris)\n",
    "      individual.theta[0, mutation_index] = np.random.uniform(-np.pi, np.pi)\n",
    "      mutation_index = np.random.randint(len(individual.w))\n",
    "      individual.w[mutation_index] = generate_random_beamforming_vector()\n",
    "      individual.update_fitness()\n",
    "\n",
    "    return individual\n",
    "  \n",
    "def GA_optimize_w_theta(population_size: int, max_iter: int, crossover_rate: float = 0.85, mutation_rate: float = 0.85):\n",
    "  population = GAPopulation(population_size, crossover_rate, mutation_rate)\n",
    "  population.sort_population()\n",
    "  results_secrecy_rate = []\n",
    "  results_secrecy_rate.append(population.individuals[0].fitness)\n",
    "\n",
    "  for _ in range(max_iter):\n",
    "    # Crossover\n",
    "    for _ in range(population_size // 2):\n",
    "      if np.random.rand() < population.crossover_rate:\n",
    "        parent1, parent2 = population.select_parents()\n",
    "        child = population.crossover(parent1, parent2)\n",
    "        population.add_individual(child)\n",
    "\n",
    "    # Mutation\n",
    "    for individual in population.individuals:\n",
    "      population.mutate(individual)\n",
    "\n",
    "    # Filter\n",
    "    population.filter_population()\n",
    "\n",
    "    results_secrecy_rate.append(population.individuals[0].fitness)\n",
    "\n",
    "  return results_secrecy_rate"
   ]
  },
  {
   "cell_type": "code",
   "execution_count": 67,
   "metadata": {},
   "outputs": [
    {
     "name": "stdout",
     "output_type": "stream",
     "text": [
      "Initial Secrecy Rate GA: [[3.78266934]]\n",
      "[array([[3.78266934]]), array([[7.07293315]]), array([[8.84633412]]), array([[8.84633412]]), array([[8.84633412]]), array([[8.84633412]]), array([[8.84633412]]), array([[8.70076629]]), array([[8.70076629]]), array([[8.95261088]]), array([[8.95261088]]), array([[8.95261088]]), array([[8.70076629]]), array([[8.23663253]]), array([[9.20938237]]), array([[9.20938237]]), array([[9.20938237]]), array([[9.20938237]]), array([[9.20938237]]), array([[9.58875984]]), array([[8.1927606]]), array([[7.51539934]]), array([[7.51539934]]), array([[8.10100245]]), array([[7.91867324]]), array([[7.95675352]]), array([[7.51539934]]), array([[7.70604052]]), array([[7.7494287]]), array([[7.70604052]]), array([[9.19165354]]), array([[9.19165354]]), array([[8.35138395]]), array([[8.35138395]]), array([[8.35138395]]), array([[8.55251973]]), array([[8.60613693]]), array([[10.64664254]]), array([[10.64664254]]), array([[9.8151709]]), array([[9.8151709]]), array([[8.9433491]]), array([[9.52359847]]), array([[9.52359847]]), array([[9.64651885]]), array([[9.64651885]]), array([[9.64651885]]), array([[9.65816231]]), array([[9.65816231]]), array([[9.64651885]]), array([[9.64651885]]), array([[10.01036568]]), array([[10.01036568]]), array([[10.21996883]]), array([[10.21996883]]), array([[10.21996883]]), array([[10.238043]]), array([[10.238043]]), array([[10.238043]]), array([[10.238043]]), array([[10.238043]]), array([[10.238043]]), array([[10.01036568]]), array([[10.52652457]]), array([[10.52652457]]), array([[10.52652457]]), array([[11.36349244]]), array([[11.36349244]]), array([[11.36349244]]), array([[11.36349244]]), array([[10.85824653]]), array([[10.85824653]]), array([[10.85824653]]), array([[10.85824653]]), array([[10.52652457]]), array([[10.52652457]]), array([[10.15460042]]), array([[10.44636625]]), array([[10.44636625]]), array([[10.44636625]]), array([[10.84566831]]), array([[10.84566831]]), array([[10.84566831]]), array([[10.84566831]]), array([[10.84566831]]), array([[10.03930196]]), array([[10.87982337]]), array([[10.87511222]]), array([[10.21339119]]), array([[10.21339119]]), array([[11.25967222]]), array([[10.21339119]]), array([[10.52644703]]), array([[11.18400595]]), array([[11.18400595]]), array([[11.18400595]]), array([[10.689567]]), array([[10.52644703]]), array([[10.30315483]]), array([[10.65809249]]), array([[10.65809249]]), array([[10.70562925]]), array([[10.65809249]]), array([[10.65809249]]), array([[10.6850287]]), array([[10.76440653]]), array([[10.87290736]]), array([[11.14605461]]), array([[11.1667675]]), array([[11.1667675]]), array([[11.1667675]]), array([[12.50235116]]), array([[12.50235116]]), array([[11.1667675]]), array([[11.00862316]]), array([[11.00862316]]), array([[11.00862316]]), array([[10.56320034]]), array([[10.56320034]]), array([[10.91745804]]), array([[11.75264834]]), array([[11.75264834]]), array([[11.02513442]]), array([[11.19511186]]), array([[11.19511186]]), array([[11.19511186]]), array([[11.49274779]]), array([[11.49274779]]), array([[11.49274779]]), array([[11.49274779]]), array([[11.49274779]]), array([[11.49274779]]), array([[11.49274779]]), array([[11.49274779]]), array([[11.29735804]]), array([[10.76462879]]), array([[10.76462879]]), array([[10.76462879]]), array([[10.8825699]]), array([[10.69729359]]), array([[10.81438289]]), array([[11.12857835]]), array([[11.68366612]]), array([[11.12413782]]), array([[11.65932422]]), array([[11.65932422]]), array([[11.65932422]]), array([[11.65932422]]), array([[11.65932422]]), array([[11.61217059]]), array([[11.61217059]]), array([[11.61217059]]), array([[11.61217059]]), array([[11.51242353]]), array([[11.10934385]]), array([[11.11422593]]), array([[11.48911288]]), array([[11.48911288]]), array([[11.48911288]]), array([[11.48911288]]), array([[11.42877693]]), array([[11.42877693]]), array([[11.42877693]]), array([[11.42877693]]), array([[11.21528696]]), array([[11.21528696]]), array([[10.39156771]]), array([[10.69170598]]), array([[10.50870669]]), array([[11.93753359]]), array([[11.02130065]]), array([[11.454471]]), array([[10.78836653]]), array([[11.29996267]]), array([[11.42520615]]), array([[11.42520615]]), array([[10.87338951]]), array([[10.87338951]]), array([[11.53931987]]), array([[11.53931987]]), array([[11.53931987]]), array([[10.86676268]]), array([[10.86676268]]), array([[11.08810668]]), array([[11.5098515]]), array([[11.5098515]]), array([[11.5098515]]), array([[11.5098515]]), array([[11.5098515]]), array([[11.5098515]]), array([[11.5098515]]), array([[11.5098515]]), array([[11.5098515]]), array([[11.13029335]]), array([[11.13029335]]), array([[11.13029335]]), array([[10.92079382]]), array([[11.12677421]]), array([[11.12677421]]), array([[11.12677421]]), array([[11.12677421]]), array([[11.33907558]]), array([[11.33907558]]), array([[11.33907558]]), array([[11.22425396]]), array([[11.22425396]]), array([[11.6352817]]), array([[11.21903068]]), array([[11.21903068]]), array([[11.21903068]]), array([[11.21903068]]), array([[11.21903068]]), array([[10.95451505]]), array([[10.95451505]]), array([[11.88921673]]), array([[11.88921673]]), array([[11.06895071]]), array([[11.06895071]]), array([[10.97523565]]), array([[11.42636712]]), array([[11.42636712]]), array([[11.42636712]]), array([[11.42636712]]), array([[11.42636712]]), array([[10.88447038]]), array([[11.57014649]]), array([[11.57014649]]), array([[11.19341528]]), array([[11.19341528]]), array([[11.19341528]]), array([[11.19341528]]), array([[11.19341528]]), array([[11.19341528]]), array([[11.19341528]]), array([[10.81846408]]), array([[10.9856341]]), array([[11.47205234]]), array([[11.08549693]]), array([[11.08549693]]), array([[11.55883271]]), array([[11.55883271]]), array([[11.55883271]]), array([[11.55883271]]), array([[11.29450131]]), array([[11.29450131]]), array([[11.29450131]]), array([[11.29450131]]), array([[12.1436726]]), array([[11.42101635]]), array([[11.1089509]]), array([[11.14214782]]), array([[11.26182179]]), array([[11.26182179]]), array([[11.26182179]]), array([[11.26182179]]), array([[11.26182179]]), array([[11.02906463]]), array([[11.16812199]]), array([[11.16812199]]), array([[11.47390073]]), array([[11.47390073]]), array([[10.86814683]]), array([[10.80681485]]), array([[10.80681485]]), array([[11.80895553]]), array([[10.5771098]]), array([[10.5771098]]), array([[10.5771098]]), array([[11.25859576]]), array([[11.25859576]]), array([[11.66291199]]), array([[11.66291199]]), array([[11.66291199]]), array([[11.4580698]]), array([[11.25859576]]), array([[11.25859576]]), array([[11.25859576]]), array([[10.69587122]]), array([[10.78602211]]), array([[10.78602211]]), array([[11.19572016]]), array([[10.78602211]]), array([[11.78244691]]), array([[11.78244691]]), array([[11.78244691]]), array([[11.78244691]]), array([[11.78244691]]), array([[11.78244691]]), array([[11.78244691]]), array([[11.78244691]]), array([[11.78244691]]), array([[11.78244691]]), array([[11.78244691]]), array([[11.79550924]]), array([[11.80564452]]), array([[11.79550924]]), array([[10.76528489]]), array([[10.76528489]]), array([[10.76528489]]), array([[10.37181925]]), array([[11.21203934]]), array([[11.21203934]]), array([[11.55500919]]), array([[12.53793688]]), array([[12.53793688]]), array([[12.53793688]]), array([[12.53793688]]), array([[12.53793688]]), array([[12.53793688]]), array([[12.53793688]]), array([[11.44013042]]), array([[12.4854382]]), array([[12.4854382]]), array([[12.48781347]]), array([[12.48781347]]), array([[12.48781347]]), array([[11.53116961]]), array([[11.53116961]]), array([[11.53116961]]), array([[11.53116961]]), array([[11.53116961]]), array([[11.22315703]]), array([[11.30798029]]), array([[11.30798029]]), array([[11.09229836]]), array([[11.2382642]]), array([[11.9658426]]), array([[12.3473738]]), array([[11.9658426]]), array([[11.9658426]]), array([[11.72305455]]), array([[11.5003773]]), array([[11.5003773]]), array([[11.5003773]]), array([[11.89543863]]), array([[11.89543863]]), array([[11.89543863]]), array([[11.50160075]]), array([[11.50160075]]), array([[12.37256087]]), array([[12.37256087]]), array([[12.37256087]]), array([[12.37256087]]), array([[12.37256087]]), array([[12.37256087]]), array([[11.32522354]]), array([[11.18140628]]), array([[11.18140628]]), array([[11.48748157]]), array([[11.66237392]]), array([[11.66237392]]), array([[11.66237392]]), array([[12.22017323]]), array([[12.22017323]]), array([[12.05629939]]), array([[11.82511825]]), array([[11.53510679]]), array([[11.61800579]]), array([[11.61800579]]), array([[10.84590563]]), array([[10.73826808]]), array([[12.13169068]]), array([[12.13169068]]), array([[12.13169068]]), array([[12.13169068]]), array([[12.13169068]]), array([[12.13169068]]), array([[12.13169068]]), array([[11.80960218]]), array([[11.80960218]]), array([[11.80960218]]), array([[11.80960218]]), array([[11.80960218]]), array([[11.49838852]]), array([[11.49838852]]), array([[12.11872078]]), array([[12.11872078]]), array([[12.11872078]]), array([[11.52311365]]), array([[11.52311365]]), array([[11.57950413]]), array([[11.50883301]]), array([[11.88242176]]), array([[11.88242176]]), array([[11.88242176]]), array([[12.49412451]]), array([[12.49412451]]), array([[12.49412451]]), array([[12.49705414]]), array([[12.80178094]]), array([[12.53745102]]), array([[12.53745102]]), array([[12.53745102]]), array([[12.16946806]]), array([[12.16946806]]), array([[12.16946806]]), array([[12.16946806]]), array([[11.44736028]]), array([[12.11813659]]), array([[12.11813659]]), array([[12.11813659]]), array([[12.11813659]]), array([[12.5299706]]), array([[12.5299706]]), array([[12.5299706]]), array([[12.64241239]]), array([[12.12110313]]), array([[12.12110313]]), array([[11.82923364]]), array([[12.46787694]]), array([[12.46787694]]), array([[12.46787694]]), array([[12.46787694]]), array([[12.46787694]]), array([[12.46787694]]), array([[12.22477024]]), array([[12.06368384]]), array([[12.06368384]]), array([[12.87211636]]), array([[12.29968393]]), array([[11.65530175]]), array([[11.76893648]]), array([[11.76893648]]), array([[12.17893666]]), array([[12.17893666]]), array([[11.64243987]]), array([[12.5838512]]), array([[12.5838512]]), array([[12.5838512]]), array([[12.5838512]]), array([[12.5838512]]), array([[12.5838512]]), array([[12.5838512]]), array([[13.157923]]), array([[13.25203139]]), array([[13.25203139]]), array([[13.157923]]), array([[13.157923]]), array([[13.157923]]), array([[12.11815363]]), array([[12.33994297]]), array([[12.33994297]]), array([[12.33994297]]), array([[12.25772032]]), array([[12.25772032]]), array([[12.25772032]]), array([[12.27549936]]), array([[12.27549936]]), array([[12.27549936]]), array([[12.27549936]]), array([[12.25772032]]), array([[12.25772032]]), array([[12.25772032]]), array([[12.25772032]]), array([[12.09359063]]), array([[12.09359063]]), array([[12.09359063]]), array([[12.09359063]]), array([[12.0739022]]), array([[11.64824722]]), array([[11.50797114]]), array([[11.59049751]]), array([[11.59049751]]), array([[11.91086622]]), array([[11.91086622]]), array([[11.91086622]]), array([[11.91086622]]), array([[12.29800579]]), array([[13.24861591]]), array([[13.24861591]]), array([[13.24861591]]), array([[13.24861591]]), array([[13.24861591]]), array([[13.24861591]]), array([[13.24861591]]), array([[13.24861591]]), array([[13.24861591]]), array([[12.15943652]]), array([[11.91086622]]), array([[12.02096584]]), array([[12.02096584]]), array([[12.02096584]]), array([[12.02096584]]), array([[12.02096584]]), array([[12.18005159]]), array([[12.18005159]]), array([[12.18005159]]), array([[11.64527175]]), array([[11.64527175]]), array([[12.11151352]]), array([[12.11151352]]), array([[12.11151352]]), array([[11.64527175]]), array([[11.64527175]]), array([[12.09021277]]), array([[12.09021277]]), array([[12.90520118]]), array([[12.90520118]]), array([[12.90520118]]), array([[12.90520118]]), array([[12.90520118]])]\n",
      "Final Secrecy Rate GA: [[12.90520118]]\n"
     ]
    }
   ],
   "source": [
    "population_size = 100\n",
    "num_generations = 500\n",
    "crossover_rate = 0.85\n",
    "mutation_rate = 0.3\n",
    "\n",
    "# Reseed\n",
    "np.random.seed(RANDOM_SEED)\n",
    "\n",
    "# GA Algorithm\n",
    "GA_results = GA_optimize_w_theta(population_size, num_generations, crossover_rate, mutation_rate)\n",
    "print(\"Initial Secrecy Rate GA:\", GA_results[0])\n",
    "print(GA_results)\n",
    "print(\"Final Secrecy Rate GA:\", GA_results[-1])"
   ]
  },
  {
   "cell_type": "markdown",
   "metadata": {},
   "source": [
    "## Combination of PSO and GD"
   ]
  },
  {
   "cell_type": "code",
   "execution_count": 455,
   "metadata": {},
   "outputs": [],
   "source": [
    "def PSO_GD(max_pso_iter, max_gd_iter, number_of_particles, w_max, w_min, c1, c2):\n",
    "    particles = [Particle() for _ in range(number_of_particles)]\n",
    "    gbest_theta = copy.deepcopy(particles[0].theta)\n",
    "    gbest_w = copy.deepcopy(particles[0].w)\n",
    "    gbest_value = copy.deepcopy(particles[0].pbest_value)\n",
    "    \n",
    "    for individual in particles:\n",
    "        if (individual.pbest_value > gbest_value):\n",
    "            gbest_value = copy.deepcopy(individual.pbest_value)\n",
    "            gbest_theta = copy.deepcopy(individual.pbest_theta)\n",
    "            gbest_w = copy.deepcopy(individual.pbest_w)\n",
    "    \n",
    "    for pso_iteration in range(max_pso_iter):\n",
    "        E_t = float((max_iter - pso_iteration - 1)/max_iter)\n",
    "        inertia = w_min + (w_max - w_min) * (2 /(1 + (np.e ** (-5 * E_t))) - 1)\n",
    "\n",
    "        for i in range(number_of_particles):\n",
    "            for gd_iteration in range(max_gd_iter):\n",
    "                particles[i].w, particles[i].theta = gradient_descent_update(particles[i].w, particles[i].theta, learning_rate)\n",
    "            particles[i].update_velocity_theta(gbest_theta, inertia, c1, c2)\n",
    "            particles[i].update_position_theta()\n",
    "            particles[i].update_velocity_w(gbest_w, inertia, c1, c2)\n",
    "            particles[i].update_position_w()\n",
    "            \n",
    "            fitness_value = secrecy_rate_objective_function(particles[i].theta, particles[i].w)\n",
    "            if fitness_value > particles[i].pbest_value:\n",
    "                particles[i].pbest_value = copy.deepcopy(fitness_value)\n",
    "                particles[i].pbest_theta = copy.deepcopy(particles[i].theta)\n",
    "                particles[i].pbest_w = copy.deepcopy(particles[i].w)\n",
    "            \n",
    "            if fitness_value > gbest_value:\n",
    "                gbest_value = copy.deepcopy(fitness_value)\n",
    "                gbest_theta = copy.deepcopy(particles[i].theta)\n",
    "                gbest_w = copy.deepcopy(particles[i].w)\n",
    "        print(gbest_value)\n",
    "        PSO_GD_results.append(gbest_value)"
   ]
  },
  {
   "cell_type": "code",
   "execution_count": 456,
   "metadata": {},
   "outputs": [
    {
     "ename": "KeyboardInterrupt",
     "evalue": "",
     "output_type": "error",
     "traceback": [
      "\u001b[0;31m---------------------------------------------------------------------------\u001b[0m",
      "\u001b[0;31mKeyboardInterrupt\u001b[0m                         Traceback (most recent call last)",
      "Cell \u001b[0;32mIn[456], line 9\u001b[0m\n\u001b[1;32m      7\u001b[0m c2 \u001b[38;5;241m=\u001b[39m \u001b[38;5;241m10\u001b[39m\n\u001b[1;32m      8\u001b[0m PSO_GD_results \u001b[38;5;241m=\u001b[39m []\n\u001b[0;32m----> 9\u001b[0m \u001b[43mPSO_GD\u001b[49m\u001b[43m(\u001b[49m\u001b[43mmax_pso_iter\u001b[49m\u001b[43m,\u001b[49m\u001b[43m \u001b[49m\u001b[43mmax_gd_iter\u001b[49m\u001b[43m,\u001b[49m\u001b[43m \u001b[49m\u001b[43mnumber_of_particles\u001b[49m\u001b[43m,\u001b[49m\u001b[43m \u001b[49m\u001b[43mw_max\u001b[49m\u001b[43m,\u001b[49m\u001b[43m \u001b[49m\u001b[43mw_min\u001b[49m\u001b[43m,\u001b[49m\u001b[43m \u001b[49m\u001b[43mc1\u001b[49m\u001b[43m,\u001b[49m\u001b[43m \u001b[49m\u001b[43mc2\u001b[49m\u001b[43m)\u001b[49m\n\u001b[1;32m     10\u001b[0m \u001b[38;5;28mprint\u001b[39m(PSO_GD_results)\n",
      "Cell \u001b[0;32mIn[455], line 19\u001b[0m, in \u001b[0;36mPSO_GD\u001b[0;34m(max_pso_iter, max_gd_iter, number_of_particles, w_max, w_min, c1, c2)\u001b[0m\n\u001b[1;32m     17\u001b[0m \u001b[38;5;28;01mfor\u001b[39;00m i \u001b[38;5;129;01min\u001b[39;00m \u001b[38;5;28mrange\u001b[39m(number_of_particles):\n\u001b[1;32m     18\u001b[0m     \u001b[38;5;28;01mfor\u001b[39;00m gd_iteration \u001b[38;5;129;01min\u001b[39;00m \u001b[38;5;28mrange\u001b[39m(max_gd_iter):\n\u001b[0;32m---> 19\u001b[0m         particles[i]\u001b[38;5;241m.\u001b[39mw, particles[i]\u001b[38;5;241m.\u001b[39mtheta \u001b[38;5;241m=\u001b[39m \u001b[43mgradient_descent_update\u001b[49m\u001b[43m(\u001b[49m\u001b[43mparticles\u001b[49m\u001b[43m[\u001b[49m\u001b[43mi\u001b[49m\u001b[43m]\u001b[49m\u001b[38;5;241;43m.\u001b[39;49m\u001b[43mw\u001b[49m\u001b[43m,\u001b[49m\u001b[43m \u001b[49m\u001b[43mparticles\u001b[49m\u001b[43m[\u001b[49m\u001b[43mi\u001b[49m\u001b[43m]\u001b[49m\u001b[38;5;241;43m.\u001b[39;49m\u001b[43mtheta\u001b[49m\u001b[43m,\u001b[49m\u001b[43m \u001b[49m\u001b[43mlearning_rate\u001b[49m\u001b[43m)\u001b[49m\n\u001b[1;32m     20\u001b[0m     particles[i]\u001b[38;5;241m.\u001b[39mupdate_velocity_theta(gbest_theta, inertia, c1, c2)\n\u001b[1;32m     21\u001b[0m     particles[i]\u001b[38;5;241m.\u001b[39mupdate_position_theta()\n",
      "Cell \u001b[0;32mIn[449], line 85\u001b[0m, in \u001b[0;36mgradient_descent_update\u001b[0;34m(w, theta, learning_rate)\u001b[0m\n\u001b[1;32m     83\u001b[0m \u001b[38;5;28;01mdef\u001b[39;00m \u001b[38;5;21mgradient_descent_update\u001b[39m(w, theta, learning_rate):\n\u001b[1;32m     84\u001b[0m     grad_w \u001b[38;5;241m=\u001b[39m compute_gradient_w(theta, w)\n\u001b[0;32m---> 85\u001b[0m     grad_theta \u001b[38;5;241m=\u001b[39m \u001b[43mcompute_gradient_theta\u001b[49m\u001b[43m(\u001b[49m\u001b[43mtheta\u001b[49m\u001b[43m,\u001b[49m\u001b[43m \u001b[49m\u001b[43mw\u001b[49m\u001b[43m)\u001b[49m\n\u001b[1;32m     86\u001b[0m     w_new \u001b[38;5;241m=\u001b[39m [w[i] \u001b[38;5;241m-\u001b[39m learning_rate \u001b[38;5;241m*\u001b[39m grad_w[i] \u001b[38;5;28;01mfor\u001b[39;00m i \u001b[38;5;129;01min\u001b[39;00m \u001b[38;5;28mrange\u001b[39m (number_of_users)]\n\u001b[1;32m     87\u001b[0m     \u001b[38;5;28;01mfor\u001b[39;00m i \u001b[38;5;129;01min\u001b[39;00m \u001b[38;5;28mrange\u001b[39m (number_of_users):\n",
      "Cell \u001b[0;32mIn[449], line 76\u001b[0m, in \u001b[0;36mcompute_gradient_theta\u001b[0;34m(theta, w, epsilon)\u001b[0m\n\u001b[1;32m     74\u001b[0m     theta_minus \u001b[38;5;241m=\u001b[39m copy\u001b[38;5;241m.\u001b[39mdeepcopy(theta)\n\u001b[1;32m     75\u001b[0m     theta_minus[\u001b[38;5;241m0\u001b[39m, i] \u001b[38;5;241m-\u001b[39m\u001b[38;5;241m=\u001b[39m epsilon \u001b[38;5;241m+\u001b[39m epsilon\u001b[38;5;241m*\u001b[39m\u001b[38;5;241m1\u001b[39mj\n\u001b[0;32m---> 76\u001b[0m     grad_theta_i \u001b[38;5;241m=\u001b[39m (\u001b[43msecrecy_rate_objective_function\u001b[49m\u001b[43m(\u001b[49m\u001b[43mtheta_plus\u001b[49m\u001b[43m,\u001b[49m\u001b[43m \u001b[49m\u001b[43mw\u001b[49m\u001b[43m)\u001b[49m \u001b[38;5;241m-\u001b[39m secrecy_rate_objective_function(theta_minus, w))\u001b[38;5;241m/\u001b[39m(\u001b[38;5;241m2\u001b[39m\u001b[38;5;241m*\u001b[39mepsilon)\n\u001b[1;32m     77\u001b[0m     grad_theta\u001b[38;5;241m.\u001b[39mappend(grad_theta_i)\n\u001b[1;32m     79\u001b[0m \u001b[38;5;28;01mreturn\u001b[39;00m np\u001b[38;5;241m.\u001b[39marray(grad_theta)\u001b[38;5;241m.\u001b[39mreshape(\u001b[38;5;241m1\u001b[39m, Nris)\n",
      "Cell \u001b[0;32mIn[446], line 8\u001b[0m, in \u001b[0;36msecrecy_rate_objective_function\u001b[0;34m(theta, w)\u001b[0m\n\u001b[1;32m      6\u001b[0m Z_bk \u001b[38;5;241m=\u001b[39m hib[k] \u001b[38;5;241m@\u001b[39m np\u001b[38;5;241m.\u001b[39mdiag(theta\u001b[38;5;241m.\u001b[39mflatten()) \u001b[38;5;241m@\u001b[39m Hai \u001b[38;5;241m+\u001b[39m hab[k]\n\u001b[1;32m      7\u001b[0m numGamma_bk \u001b[38;5;241m=\u001b[39m np\u001b[38;5;241m.\u001b[39mabs(Z_bk \u001b[38;5;241m@\u001b[39m w[k])\u001b[38;5;241m*\u001b[39m\u001b[38;5;241m*\u001b[39m\u001b[38;5;241m2\u001b[39m\n\u001b[0;32m----> 8\u001b[0m denGamma_bk \u001b[38;5;241m=\u001b[39m \u001b[38;5;241m1\u001b[39m \u001b[38;5;241m+\u001b[39m np\u001b[38;5;241m.\u001b[39msum(\u001b[43m[\u001b[49m\u001b[43mnp\u001b[49m\u001b[38;5;241;43m.\u001b[39;49m\u001b[43mabs\u001b[49m\u001b[43m(\u001b[49m\u001b[43mZ_bk\u001b[49m\u001b[43m \u001b[49m\u001b[38;5;241;43m@\u001b[39;49m\u001b[43m \u001b[49m\u001b[43mw\u001b[49m\u001b[43m[\u001b[49m\u001b[43mi\u001b[49m\u001b[43m]\u001b[49m\u001b[43m)\u001b[49m\u001b[38;5;241;43m*\u001b[39;49m\u001b[38;5;241;43m*\u001b[39;49m\u001b[38;5;241;43m2\u001b[39;49m\u001b[43m \u001b[49m\u001b[38;5;28;43;01mfor\u001b[39;49;00m\u001b[43m \u001b[49m\u001b[43mi\u001b[49m\u001b[43m \u001b[49m\u001b[38;5;129;43;01min\u001b[39;49;00m\u001b[43m \u001b[49m\u001b[38;5;28;43mrange\u001b[39;49m\u001b[43m(\u001b[49m\u001b[43mnumber_of_users\u001b[49m\u001b[43m)\u001b[49m\u001b[43m \u001b[49m\u001b[38;5;28;43;01mif\u001b[39;49;00m\u001b[43m \u001b[49m\u001b[43mi\u001b[49m\u001b[43m \u001b[49m\u001b[38;5;241;43m!=\u001b[39;49m\u001b[43m \u001b[49m\u001b[43mk\u001b[49m\u001b[43m]\u001b[49m)\n\u001b[1;32m      9\u001b[0m gamma_bk \u001b[38;5;241m=\u001b[39m numGamma_bk\u001b[38;5;241m/\u001b[39mdenGamma_bk\n\u001b[1;32m     10\u001b[0m C_bk \u001b[38;5;241m=\u001b[39m np\u001b[38;5;241m.\u001b[39mlog2(\u001b[38;5;241m1\u001b[39m \u001b[38;5;241m+\u001b[39m gamma_bk)\n",
      "Cell \u001b[0;32mIn[446], line 8\u001b[0m, in \u001b[0;36m<listcomp>\u001b[0;34m(.0)\u001b[0m\n\u001b[1;32m      6\u001b[0m Z_bk \u001b[38;5;241m=\u001b[39m hib[k] \u001b[38;5;241m@\u001b[39m np\u001b[38;5;241m.\u001b[39mdiag(theta\u001b[38;5;241m.\u001b[39mflatten()) \u001b[38;5;241m@\u001b[39m Hai \u001b[38;5;241m+\u001b[39m hab[k]\n\u001b[1;32m      7\u001b[0m numGamma_bk \u001b[38;5;241m=\u001b[39m np\u001b[38;5;241m.\u001b[39mabs(Z_bk \u001b[38;5;241m@\u001b[39m w[k])\u001b[38;5;241m*\u001b[39m\u001b[38;5;241m*\u001b[39m\u001b[38;5;241m2\u001b[39m\n\u001b[0;32m----> 8\u001b[0m denGamma_bk \u001b[38;5;241m=\u001b[39m \u001b[38;5;241m1\u001b[39m \u001b[38;5;241m+\u001b[39m np\u001b[38;5;241m.\u001b[39msum([\u001b[43mnp\u001b[49m\u001b[38;5;241;43m.\u001b[39;49m\u001b[43mabs\u001b[49m\u001b[43m(\u001b[49m\u001b[43mZ_bk\u001b[49m\u001b[43m \u001b[49m\u001b[38;5;241;43m@\u001b[39;49m\u001b[43m \u001b[49m\u001b[43mw\u001b[49m\u001b[43m[\u001b[49m\u001b[43mi\u001b[49m\u001b[43m]\u001b[49m\u001b[43m)\u001b[49m\u001b[38;5;241m*\u001b[39m\u001b[38;5;241m*\u001b[39m\u001b[38;5;241m2\u001b[39m \u001b[38;5;28;01mfor\u001b[39;00m i \u001b[38;5;129;01min\u001b[39;00m \u001b[38;5;28mrange\u001b[39m(number_of_users) \u001b[38;5;28;01mif\u001b[39;00m i \u001b[38;5;241m!=\u001b[39m k])\n\u001b[1;32m      9\u001b[0m gamma_bk \u001b[38;5;241m=\u001b[39m numGamma_bk\u001b[38;5;241m/\u001b[39mdenGamma_bk\n\u001b[1;32m     10\u001b[0m C_bk \u001b[38;5;241m=\u001b[39m np\u001b[38;5;241m.\u001b[39mlog2(\u001b[38;5;241m1\u001b[39m \u001b[38;5;241m+\u001b[39m gamma_bk)\n",
      "\u001b[0;31mKeyboardInterrupt\u001b[0m: "
     ]
    }
   ],
   "source": [
    "max_pso_iter = 500\n",
    "max_gd_iter = 100\n",
    "number_of_particles = 100\n",
    "w_max = 0.9\n",
    "w_min = 0.5\n",
    "c1 = 20\n",
    "c2 = 10\n",
    "PSO_GD_results = []\n",
    "PSO_GD(max_pso_iter, max_gd_iter, number_of_particles, w_max, w_min, c1, c2)\n",
    "print(PSO_GD_results)\n",
    "    \n",
    "    "
   ]
  },
  {
   "cell_type": "markdown",
   "metadata": {},
   "source": [
    "# Plot diagram"
   ]
  },
  {
   "cell_type": "code",
   "execution_count": 35,
   "metadata": {},
   "outputs": [
    {
     "data": {
      "image/png": "[encoded data removed]",
      "text/plain": [
       "<Figure size 640x480 with 1 Axes>"
      ]
     },
     "metadata": {},
     "output_type": "display_data"
    }
   ],
   "source": [
    "iterations = range(0, num_cycles+10, 10)\n",
    "\n",
    "# Plotting the data\n",
    "plt.plot(iterations, GD_results, label='Gradient Descent')\n",
    "plt.plot(iterations, PSO_results, label='PSO')\n",
    "plt.plot(iterations, GA_results[0:len(iterations)], label='Genetic Algorithm')\n",
    "plt.plot(iterations, PSO_GD_results, label='PSO-GD')\n",
    "\n",
    "plt.xlabel('Iteration number')\n",
    "plt.ylabel('Secrecy rate (bps/Hz)')\n",
    "plt.grid(True)\n",
    "plt.legend()\n",
    "plt.show()\n"
   ]
  },
  {
   "cell_type": "code",
   "execution_count": 36,
   "metadata": {},
   "outputs": [
    {
     "name": "stdout",
     "output_type": "stream",
     "text": [
      "Best Secrecy Rate GD: [24.6548294]\n",
      "Best Secrecy Rate PSO: [11.27448635]\n",
      "Best Secrecy Rate GA: [17.00556469]\n",
      "Best Secrecy Rate PSO-GD: [25.62364522]\n"
     ]
    }
   ],
   "source": [
    "# Best results of each methods\n",
    "print(\"Best Secrecy Rate GD:\", max(GD_results))\n",
    "print(\"Best Secrecy Rate PSO:\", max(PSO_results))\n",
    "print(\"Best Secrecy Rate GA:\", max(GA_results))\n",
    "print(\"Best Secrecy Rate PSO-GD:\", max(PSO_GD_results))"
   ]
  }
 ],
 "metadata": {
  "kernelspec": {
   "display_name": "Python 3",
   "language": "python",
   "name": "python3"
  },
  "language_info": {
   "codemirror_mode": {
    "name": "ipython",
    "version": 3
   },
   "file_extension": ".py",
   "mimetype": "text/x-python",
   "name": "python",
   "nbconvert_exporter": "python",
   "pygments_lexer": "ipython3",
   "version": "3.11.9"
  }
 },
 "nbformat": 4,
 "nbformat_minor": 2
}
