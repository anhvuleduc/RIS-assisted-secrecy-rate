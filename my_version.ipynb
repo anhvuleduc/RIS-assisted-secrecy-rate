{
 "cells": [
  {
   "cell_type": "markdown",
   "metadata": {},
   "source": [
    "# Import library"
   ]
  },
  {
   "cell_type": "code",
   "execution_count": 2,
   "metadata": {},
   "outputs": [],
   "source": [
    "import numpy as np\n",
    "import matplotlib.pyplot as plt\n",
    "from copy import deepcopy, copy\n",
    "import functools"
   ]
  },
  {
   "cell_type": "markdown",
   "metadata": {},
   "source": []
  },
  {
   "cell_type": "code",
   "execution_count": 3,
   "metadata": {},
   "outputs": [],
   "source": [
    "import cProfile\n",
    "import pstats\n",
    "from multiprocessing import Pool"
   ]
  },
  {
   "cell_type": "markdown",
   "metadata": {},
   "source": [
    "## Random seed"
   ]
  },
  {
   "cell_type": "code",
   "execution_count": 4,
   "metadata": {},
   "outputs": [],
   "source": [
    "RANDOM_SEED = 99\n",
    "np.random.seed(RANDOM_SEED)"
   ]
  },
  {
   "cell_type": "markdown",
   "metadata": {},
   "source": [
    "# Function to transform the data"
   ]
  },
  {
   "cell_type": "code",
   "execution_count": 5,
   "metadata": {},
   "outputs": [],
   "source": [
    "# Function to transfer from dBW to W (power)\n",
    "def db2pow(db: float) -> float:\n",
    "    return 10**(db/10)\n",
    "\n",
    "# Function to transfer from W to dBW (power)\n",
    "def pow2db(pow: float) -> float:\n",
    "    return 10*np.log10(pow)\n",
    "\n",
    "# Hermitian transpose of a matrix\n",
    "def HermTranspose(x: np.ndarray) -> np.ndarray:\n",
    "    return x.conj().T\n",
    "\n",
    "def chanGen(zeta: float, d: float, dim1: int, dim2: int) -> np.ndarray:\n",
    "    \"\"\"Function to generate Rayleigh fading channel coefficients\n",
    "\n",
    "    Args:\n",
    "        zeta: ξ is the path loss exponent\n",
    "        d: the distance between the transmitter and the receiver\n",
    "        dim1: the number of rows in the channel matrix\n",
    "        dim2: the number of columns in the channel matrix\n",
    "    \"\"\"\n",
    "    pl_ref: float = -30                                    # pathloss (dBW) at reference distance\n",
    "    pl: float = db2pow(pl_ref - 10*zeta*np.log10(d))       # pathloss model at distance d\n",
    "    y: np.ndarray = np.sqrt(0.5*pl)*(np.random.randn(dim1,dim2)\\\n",
    "        + 1j*np.random.randn(dim1,dim2))            # Rayleigh distribution\n",
    "    return y"
   ]
  },
  {
   "cell_type": "markdown",
   "metadata": {},
   "source": [
    "## Parameters"
   ]
  },
  {
   "cell_type": "code",
   "execution_count": 6,
   "metadata": {},
   "outputs": [],
   "source": [
    "sigma = db2pow(-75)                                                                 # noise power\n",
    "N = 8                                                                               # number of transmit antennas\n",
    "Nris = 32                                                                           # number of RIS elements\n",
    "number_of_users = 4                                                                 # number of users\n",
    "number_of_eavesdroppers = 2                                                         # number of eavesdroppers\n",
    "zetaAI = 2.2                                                                        # Path loss exponent of the channel between the Alice and the RIS\n",
    "zetaIB = 2.5                                                                        # Path loss exponent of the channel between the legitimate receivers and the RIS\n",
    "zetaIE = 2.5                                                                        # Path loss exponent of the channel between the eavesdroppers and the RIS\n",
    "zetaAB = 3.5                                                                        # Path loss exponent of the channel between the Alice and the legitimate receivers\n",
    "zetaAE = 3.5                                                                        # Path loss exponent of the channel between the Alice and the eavesdroppers\n",
    "\n",
    "dAI = 50                                                                            # distance between Alice and the RIS\n",
    "dv = 2                                                                              # Vertical distance between the Alice and the Eve and Bob\n",
    "dABh = np.random.uniform(5, 10, size=number_of_users)                               # Horizontal distance between Alice and the legitimate receivers\n",
    "dAEh = np.random.uniform(50, 150, size=number_of_eavesdroppers)                     # Horizontal distance between Alice and the eavesdroppers\n",
    "dAB = [np.sqrt(dABh[i]**2 + dv**2) for i in range(number_of_users)]                 # Distance between Alice and the legitimate receivers\n",
    "dAE = [np.sqrt(dAEh[i]**2 + dv**2) for i in range(number_of_eavesdroppers)]         # Distance between Alice and the eavesdroppers\n",
    "dIB = [np.sqrt((dABh[i]-dAI)**2 + dv**2) for i in range(number_of_users)]           # Distance between the legitimate receivers and the RIS\n",
    "dIE = [np.sqrt((dAEh[i]-dAI)**2 + dv**2) for i in range(number_of_eavesdroppers)]   # Distance between the eavesdroppers and the RIS\n"
   ]
  },
  {
   "cell_type": "code",
   "execution_count": 7,
   "metadata": {},
   "outputs": [],
   "source": [
    "def normalise_beamforming_vectors(w: np.ndarray) -> np.ndarray:\n",
    "    \"\"\"Function to normalise the beamforming vectors\n",
    "\n",
    "    Args:\n",
    "        w: the beamforming vectors\n",
    "    \"\"\"\n",
    "    total_norm = 0\n",
    "    for i in range(number_of_users):\n",
    "        total_norm += np.linalg.norm(w[i])\n",
    "    for i in range(number_of_users):\n",
    "        w[i] = w[i] / total_norm\n",
    "    return w\n",
    "\n",
    "def generate_random_beamforming_vector():\n",
    "  '''\n",
    "  Generate one random beamforming vector\n",
    "  '''\n",
    "  return np.random.uniform(-1, 1, (N, 1)) + 1j * np.random.uniform(-1, 1, (N, 1))\n",
    "\n",
    "def generate_random_beamforming_vectors():\n",
    "    # Generate random complex numbers for each element of the beamforming vector\n",
    "    beamforming_vectors = [generate_random_beamforming_vector() for _ in range (number_of_users)]\n",
    "    \n",
    "    # Normalize the vectors\n",
    "    beamforming_vectors = normalise_beamforming_vectors(beamforming_vectors)\n",
    "    return beamforming_vectors\n",
    "    #w: list of beamforming vectors, length = number of users, elements are N x 1\n",
    "\n",
    "def generate_random_theta():\n",
    "    theta = np.random.uniform(-np.pi, np.pi, (1, Nris))\n",
    "    theta = np.exp(1j * theta)\n",
    "    return theta\n",
    "    #theta: phase shift of RIS, size 1 x Nris\n",
    "\n",
    "def generate_random_theta_angles(size: int):\n",
    "  \"\"\"\n",
    "    Generate a random vector of angles from -pi to pi\n",
    "  \"\"\"\n",
    "  return np.random.uniform(-np.pi, np.pi, size=(1, size))\n",
    "\n",
    "def theta_angles_to_theta_vector(angles: np.ndarray[np.float64]) -> np.ndarray[np.complex128]:\n",
    "  \"\"\"\n",
    "    Convert a vector of angles to a vector of complex numbers on the unit circle\n",
    "  \"\"\"\n",
    "  return np.exp(1j * angles)\n",
    "\n",
    "def theta_vector_to_theta_angles(theta: np.ndarray[np.complex128]) -> np.ndarray[np.float64]:\n",
    "  \"\"\"\n",
    "    Convert a vector of complex numbers on the unit circle to a vector of angles\n",
    "  \"\"\"\n",
    "  return np.angle(theta)\n",
    "\n",
    "def generateChannel():\n",
    "    normFact = 1/np.sqrt(sigma)\n",
    "    Hai = chanGen(zetaAI, dAI, Nris, N)                                                         # Alice to RIS channel\n",
    "    hib = [normFact*chanGen(zetaIB, dIB[i], 1, Nris) for i in range(number_of_users)]           # Channel between the RIS and the legitimate receivers\n",
    "    hie = [normFact*chanGen(zetaIE, dIE[i], 1, Nris) for i in range(number_of_eavesdroppers)]   # Channel between the RIS and the eavesdroppers\n",
    "    hab = [normFact*chanGen(zetaAB, dAB[i], 1, N) for i in range(number_of_users)]              # Channel between Alice and the legitimate receivers\n",
    "    hae = [normFact*chanGen(zetaAE, dAE[i], 1, N) for i in range(number_of_eavesdroppers)]      # Channel between Alice and the eavesdroppers\n",
    "    return Hai, hib, hie, hab, hae\n",
    "\n",
    "    #Hai: Channel between Alice and RIS: Nris x N  \n",
    "    #hib: Channel between RIS and users: List of length number_of_users, elements are 1 x Nris\n",
    "    #hab: Channel between Alice and users: List of length number_of_users, elements are 1 x N\n",
    "    #hie: Channel between RIS and eavesdroppers: List of length number_of_eavesdroppers, elements are 1 x Nris\n",
    "    #hae: Channel between Alice and eavesdroppers: List of length number_of_eavesdroppers, elements are 1 x N"
   ]
  },
  {
   "cell_type": "code",
   "execution_count": 8,
   "metadata": {},
   "outputs": [],
   "source": [
    "# Reseed\n",
    "# np.random.seed(RANDOM_SEED)\n",
    "\n",
    "# Channel generation\n",
    "Hai, hib, hie, hab, hae = generateChannel()\n",
    "\n",
    "# Generate random theta and w\n",
    "theta_init = generate_random_theta()\n",
    "w_init = generate_random_beamforming_vectors()"
   ]
  },
  {
   "cell_type": "markdown",
   "metadata": {},
   "source": [
    "# Objective Function"
   ]
  },
  {
   "cell_type": "code",
   "execution_count": 9,
   "metadata": {},
   "outputs": [],
   "source": [
    "def secrecy_rate_objective_function(theta, w) -> float:\n",
    "    secrecy_rate: float = 0\n",
    "    for k in range(number_of_users):\n",
    "        R_bk = []\n",
    "        # Legitimate user k\n",
    "        Z_bk = hib[k] @ np.diag(theta.flatten()) @ Hai + hab[k]\n",
    "        numGamma_bk = np.abs(Z_bk @ w[k])**2\n",
    "        denGamma_bk = 1 + np.sum([np.abs(Z_bk @ w[i])**2 for i in range(number_of_users) if i != k])\n",
    "        gamma_bk = numGamma_bk/denGamma_bk\n",
    "        C_bk = np.log2(1 + gamma_bk)\n",
    "        \n",
    "        for m in range(number_of_eavesdroppers):\n",
    "            # Eavesdropper i\n",
    "            Z_em = hie[m] @ np.diag(theta.flatten()) @ Hai + hae[m]\n",
    "            numGamma_em = np.abs(Z_em @ w[k])**2\n",
    "            denGamma_em = 1 + np.sum([np.abs(Z_em @ w[j])**2 for j in range(number_of_users) if j != k])\n",
    "            gamma_em = numGamma_em/denGamma_em\n",
    "            C_em = np.log2(1 + gamma_em)\n",
    "            R_bk.append(C_bk - C_em)\n",
    "        \n",
    "        secrecy_rate += max(min(R_bk),0)\n",
    "\n",
    "    # Return the only element in the matrix as it is currently a 1x1 np array\n",
    "    return secrecy_rate[0, 0]"
   ]
  },
  {
   "cell_type": "code",
   "execution_count": 10,
   "metadata": {},
   "outputs": [
    {
     "name": "stdout",
     "output_type": "stream",
     "text": [
      "distance between Alice and the receivers:  [8.597260577730964, 7.704507320858385, 9.344025672091696, 5.531459234567628]\n",
      "distance between Alice and the eavesdroppers:  [130.82028537878898, 106.58050877047856]\n",
      "Secrecy Rate: 1.0304382881643275\n"
     ]
    }
   ],
   "source": [
    "# print(theta_init)\n",
    "print(\"distance between Alice and the receivers: \", dAB)\n",
    "print(\"distance between Alice and the eavesdroppers: \", dAE)\n",
    "print(\"Secrecy Rate:\", secrecy_rate_objective_function(theta_init, w_init))"
   ]
  },
  {
   "cell_type": "markdown",
   "metadata": {},
   "source": [
    "# Method"
   ]
  },
  {
   "cell_type": "markdown",
   "metadata": {},
   "source": [
    "## Gradient Descent for Maximization (GD)"
   ]
  },
  {
   "cell_type": "code",
   "execution_count": 11,
   "metadata": {},
   "outputs": [],
   "source": [
    "def compute_gradient_w(theta, w):\n",
    "    grad_w = []\n",
    "    Z_e_max = [] #Z_e_max[k] = Z_e_max for user k\n",
    "    gamma_e_max = [] #gamma_e_max[k] = gamma_e_max for user k\n",
    "    Z_b = [] #Z_b[k] = Z_bk\n",
    "    gamma_b = [] #gamma_b[k] = gamma_bk\n",
    "    counted = [] #counted[k] = true if gamma_k > gamma_e_max[k]\n",
    "    \n",
    "\n",
    "    #Precalculation \n",
    "    for k in range (number_of_users):\n",
    "        gamma_e = []\n",
    "        for m in range (number_of_eavesdroppers):\n",
    "            Z_em = hie[m] @ np.diag(theta.flatten()) @ Hai + hae[m]\n",
    "            numGamma_em = np.abs(Z_em @ w[k])**2\n",
    "            denGamma_em = 1 + np.sum([np.abs(Z_em @ w[j])**2 for j in range(number_of_users) if j != k])\n",
    "            gamma_em = numGamma_em/denGamma_em\n",
    "            gamma_e.append(gamma_em)\n",
    "        \n",
    "        gamma_e_max.append(max(gamma_e))\n",
    "        index_e_max = gamma_e.index(max(gamma_e))\n",
    "        Z_e = hie[index_e_max] @ np.diag(theta.flatten()) @ Hai + hae[index_e_max]\n",
    "        Z_e_max.append(Z_e)\n",
    "\n",
    "        Z_bk = hib[k] @ np.diag(theta.flatten()) @ Hai + hab[k]\n",
    "        numGamma_bk = np.abs(Z_bk @ w[k])**2\n",
    "        denGamma_bk = 1 + np.sum([np.abs(Z_bk @ w[i])**2 for i in range(number_of_users) if i != k])\n",
    "        gamma_bk = numGamma_bk/denGamma_bk\n",
    "\n",
    "        Z_b.append(Z_bk)\n",
    "        gamma_b.append(gamma_bk)\n",
    "\n",
    "        counted.append(gamma_bk > gamma_e[index_e_max])\n",
    "\n",
    "\n",
    "    #Calculating grad for i-th beamforming vector\n",
    "    for i in range(number_of_users):\n",
    "        grad = np.zeros((N, 1))\n",
    "        #print(\"grad_shape =\", grad.shape)\n",
    "        for k in range (number_of_users):\n",
    "            if (counted[k] == False):\n",
    "                continue\n",
    "            if (k == i):\n",
    "                num_grad_C_bk_to_w_k = 2 * (HermTranspose(Z_b[k]) @ Z_b[k] @ w[k])\n",
    "                den_grad_C_bk_to_w_k = (1 + gamma_b[k]) * np.log(2) * (1 + sum([abs(Z_b[k] @ w[j]) for j in range (number_of_users) if j != k]))\n",
    "                grad_C_bk_to_w_k = num_grad_C_bk_to_w_k / den_grad_C_bk_to_w_k\n",
    "\n",
    "                num_grad_C_e_max_to_w_k = 2 * (HermTranspose(Z_e_max[k]) @ Z_e_max[k] @ w[k])\n",
    "                den_grad_C_e_max_to_w_k = (1 + gamma_e_max[k]) * np.log(2) * (1 + sum([abs(Z_e_max[k] @ w[j]) for j in range (number_of_users) if j != k]))\n",
    "                grad_C_e_max_to_w_k = num_grad_C_e_max_to_w_k / den_grad_C_e_max_to_w_k\n",
    "                \n",
    "                #print(\"num_grad_C_e_max_to_w_k\", num_grad_C_e_max_to_w_k.shape)\n",
    "                #print(\"den_grad_C_e_max_to_w_k\", den_grad_C_e_max_to_w_k.shape)\n",
    "                grad = grad - (grad_C_bk_to_w_k - grad_C_e_max_to_w_k)\n",
    "            else:\n",
    "                num_grad_C_bk_to_w_i = -2 * abs(Z_b[k] @ w[k]) * (HermTranspose(Z_b[k]) @ Z_b[k] @ w[i])\n",
    "                den_grad_C_bk_to_w_i = (1 + gamma_b[k]) * np.log(2) * (1 + sum([abs(Z_b[k] @ w[j]) for j in range (number_of_users) if j != k])) ** 2\n",
    "                grad_C_bk_to_w_i = num_grad_C_bk_to_w_i / den_grad_C_bk_to_w_i\n",
    "\n",
    "                num_grad_C_e_max_to_w_i = -2 * abs(Z_e_max[k] @ w[k]) * (HermTranspose(Z_e_max[k]) @ Z_e_max[k] @ w[i])\n",
    "                den_grad_C_e_max_to_w_i = (1 + gamma_e_max[k]) * np.log(2) * (1 + sum([abs(Z_e_max[k] @ w[j]) for j in range (number_of_users) if j != k])) ** 2\n",
    "                grad_C_e_max_to_w_i = num_grad_C_e_max_to_w_i / den_grad_C_e_max_to_w_i\n",
    "\n",
    "                grad = grad - (grad_C_bk_to_w_i - grad_C_e_max_to_w_i)\n",
    "            \n",
    "        grad_w.append(grad)\n",
    "    return grad_w\n",
    "\n",
    "def compute_gradient_theta_central(theta, w, epsilon=1e-3):\n",
    "    perturbation = epsilon + epsilon * 1j\n",
    "    grad_theta = []\n",
    "    for i in range(Nris):\n",
    "        theta_plus = copy(theta)\n",
    "        theta_plus[0, i] += perturbation\n",
    "        theta_minus = copy(theta)\n",
    "        theta_minus[0, i] -= perturbation\n",
    "        grad_theta_i = (secrecy_rate_objective_function(theta_plus, w) - secrecy_rate_objective_function(theta_minus, w)) / (2*epsilon)\n",
    "        grad_theta.append(grad_theta_i)\n",
    "            \n",
    "    return np.array(grad_theta)\n",
    "\n",
    "def compute_gradient_theta(theta, w, original_secrecy_rate=None, epsilon=1e-3):\n",
    "    \"\"\"\n",
    "    Faster implementation of the gradient calculation\n",
    "\n",
    "    Improvements:\n",
    "    - Use forward difference instead of central difference\n",
    "    \"\"\"\n",
    "    perturbation = epsilon + epsilon * 1j\n",
    "    grad_theta = []\n",
    "    for i in range(Nris):\n",
    "        theta_plus = copy(theta)\n",
    "        theta_plus[0, i] += perturbation\n",
    "        grad_theta_i = (secrecy_rate_objective_function(theta_plus, w) - original_secrecy_rate) / epsilon\n",
    "        grad_theta.append(grad_theta_i)\n",
    "\n",
    "    return np.array(grad_theta)\n",
    "\n",
    "\n",
    "def gradient_descent_update(w, theta, learning_rate, original_secrecy_rate=None):\n",
    "    grad_w = compute_gradient_w(theta, w)\n",
    "    grad_theta = compute_gradient_theta(theta, w, original_secrecy_rate)\n",
    "    w_new = [w[i] - learning_rate * grad_w[i] for i in range (number_of_users)]\n",
    "    total_norm = 0\n",
    "    for i in range (number_of_users):\n",
    "        total_norm += np.linalg.norm(w_new[i])\n",
    "    for i in range (number_of_users):\n",
    "        w_new[i] = w_new[i] / total_norm\n",
    "        \n",
    "    theta_new = theta - learning_rate * grad_theta\n",
    "    theta_new = np.exp(1j * np.angle(theta_new))\n",
    "\n",
    "    return w_new, theta_new"
   ]
  },
  {
   "cell_type": "code",
   "execution_count": 12,
   "metadata": {},
   "outputs": [
    {
     "name": "stdout",
     "output_type": "stream",
     "text": [
      "Initial Secrecy Rate GD: 1.208023893197721\n",
      "Converged\n",
      "[1.0304382881643275, 6.118621974604993, 8.696606202668494, 9.870564541150001, 10.61565521623102, 11.15330742326103, 11.546885679836965, 11.837522217687441, 12.055294297076019, 12.220996986919342, 12.348792792227963, 12.448538028550828, 12.527439073336147, 12.59055440932239, 12.64166326078984, 12.683589694060258, 12.718458716111044, 12.747875257186632, 12.773054442246746, 12.794917614361935, 12.814164053465658, 12.831324987560528, 12.846804468800915, 12.860910376527409, 12.87387793929189, 12.885887565316043, 12.89707833758916, 12.907558208728522, 12.917411687801103, 12.926705625323532, 12.935493559530354, 12.943818976765598, 12.951717754096741, 12.959219987280473, 12.966351357578775, 12.97313415314362, 12.979588032022313, 12.985730592149133, 12.991577797325004, 12.997144295866955, 13.002443659351519, 13.007488561931488, 13.012290915502962, 13.016861972107161, 13.02121240204235, 13.025352353988918, 13.029291501829963, 13.033039081641611, 13.036603921427153, 13.03999446549918, 13.043218794915463, 13.046284645003905, 13.049199420736933, 13.051970210511655, 13.054603798741045, 13.057106677549811, 13.05948505778617, 13.061744879500182, 13.063891821995004, 13.065931313524931, 13.067868540690831, 13.069708457566637, 13.071455794578611, 13.073115067150862, 13.074690584124726, 13.076186455955941, 13.077606602691066, 13.07895476172329, 13.080234495326945, 13.081449197970016, 13.082602103403918, 13.083696291530263, 13.084734695044755, 13.085720105859, 13.086655181301495, 13.087542450099706, 13.088384318145685, 13.089183074048213, 13.089940894474864, 13.0906598492879, 13.091341906478192, 13.091988936901743, 13.092602718823596, 13.093184942274185, 13.09373721322331, 13.094261057577114, 13.094757925003428, 13.095229192591017, 13.095676168348241, 13.096100094546625, 13.096502150914832, 13.096883457688506, 13.097245078521336, 13.097588023262649, 13.09791325060674, 13.098221670619065, 13.098514147144193, 13.098791500100486, 13.099054507666171, 13.099303908361408, 13.099540403030826, 13.09976465673084, 13.099977300525941, 13.100178933197949, 13.100370122872182, 13.100551408564247, 13.100723301651112, 13.10088628726986, 13.101040825647555, 13.101187353365365, 13.10132628456006, 13.101458012065775, 13.10158290849896, 13.101701327289124, 13.101813603658066, 13.101920055549943, 13.102020984514734, 13.102116676547137, 13.102207402883261, 13.102293420757057, 13.102374974118527, 13.102452294315542, 13.102525600741085, 13.102595101447672, 13.102660993730474, 13.102723464680823, 13.102782691711464, 13.10283884305505, 13.102892078237177, 13.102942548525236, 13.102990397354327, 13.103035760731336, 13.10307876761835, 13.10311954029638, 13.103158194710442, 13.103194840796931, 13.103229582794116, 13.103262519536774, 13.10329374473557, 13.103323347242121, 13.10335141130039, 13.103378016785129, 13.103403239428042, 13.103427151032275, 13.103449819675848, 13.103471309904586, 13.103491682915111, 13.10351099672835, 13.103529306354082, 13.103546663947041, 13.103563118954861, 13.103578718258444, 13.103593506305021, 13.103607525234374, 13.103620814998479, 13.103633413474991, 13.103645356574841, 13.103656678344272, 13.103667411061558, 13.103677585328768, 13.103687230158737, 13.103696373057527, 13.103705040102637, 13.103713256017159, 13.103721044240057, 13.103728426992852, 13.10373542534281, 13.10374205926286, 13.103748347688423, 13.103754308571276, 13.103759958930636, 13.103765314901565, 13.103770391780898, 13.103775204070779, 13.103779765519912, 13.103784089162708, 13.103788187356379, 13.103792071816105, 13.103795753648392, 13.10379924338268, 13.103802551001326, 13.103805685968005, 13.103808657254675, 13.10381147336711, 13.103814142369117, 13.103816671905495, 13.103819069223821, 13.103821341195053, 13.103823494333128, 13.1038255348135, 13.103827468490715, 13.103829300915098, 13.10383103734856, 13.103832682779565, 13.10383424193737, 13.103835719305462, 13.103837119134344, 13.10383844545363, 13.103839702083544, 13.103840892645772, 13.103842020573804, 13.103843089122698, 13.103844101378346, 13.103845060266291, 13.103845968560027, 13.103846828888926, 13.103847643745711, 13.103848415493562, 13.103849146372855, 13.103849838507529, 13.10385049391115, 13.103851114492633, 13.1038517020617, 13.103852258334019, 13.103852784936091, 13.103853283409896, 13.103853755217276, 13.103854201744099, 13.103854624304208, 13.103855024143174, 13.103855402441832, 13.103855760319645, 13.103856098837905, 13.10385641900274, 13.103856721768, 13.10385700803795, 13.103857278669874, 13.103857534476493, 13.103857776228292, 13.10385800465572, 13.103858220451254, 13.103858424271392, 13.103858616738506, 13.103858798442628, 13.103858969943122, 13.103859131770289, 13.103859284426857, 13.103859428389438, 13.103859564109868, 13.103859692016503, 13.103859812515445, 13.103859925991667, 13.10386003281016, 13.103860133316935, 13.103860227840023, 13.103860316690403, 13.10386040016289, 13.103860478536989, 13.103860552077666, 13.103860621036125, 13.103860685650513, 13.103860746146593, 13.103860802738403, 13.103860855628858, 13.103860905010322, 13.103860951065162, 13.103860993966268, 13.103861033877548, 13.103861070954391, 13.103861105344102, 13.103861137186342, 13.103861166613505, 13.103861193751108, 13.103861218718148, 13.103861241627431, 13.103861262585902, 13.10386128169495, 13.103861299050699, 13.103861314744261, 13.103861328862031, 13.103861341485908, 13.103861352693531, 13.103861362558508, 13.103861371150618, 13.103861378536015, 13.103861384777417, 13.103861389934282, 13.103861394062974, 13.103861397216932, 13.103861399446814, 13.103861400800648]\n",
      "Final Secrecy Rate GD: 13.103861400800648\n"
     ]
    }
   ],
   "source": [
    "# Reseed first\n",
    "np.random.seed(RANDOM_SEED)\n",
    "\n",
    "# Gradient Descent Algorithm\n",
    "num_cycles = 500\n",
    "learning_rate = 0.01\n",
    "theta_GD = generate_random_theta()\n",
    "w_GD = generate_random_beamforming_vectors()\n",
    "print(\"Initial Secrecy Rate GD:\", secrecy_rate_objective_function(theta_GD, w_GD))\n",
    "current_secrecy_rate = secrecy_rate_objective_function(theta_init, w_init)\n",
    "\n",
    "GD_results = []\n",
    "GD_results.append(current_secrecy_rate)\n",
    "\n",
    "for i in range(num_cycles):\n",
    "    w_new, theta_new = gradient_descent_update(w_GD, theta_GD, learning_rate, original_secrecy_rate=current_secrecy_rate)\n",
    "    new_secrecy_rate = secrecy_rate_objective_function(theta_new, w_new)\n",
    "    # print(new_secrecy_rate)\n",
    "    if (new_secrecy_rate - current_secrecy_rate) < 1e-9:\n",
    "        print(\"Converged\")\n",
    "        break\n",
    "    w_GD = w_new\n",
    "    theta_GD = theta_new\n",
    "    GD_results.append(new_secrecy_rate)\n",
    "    current_secrecy_rate = new_secrecy_rate\n",
    "\n",
    "print(GD_results)\n",
    "print(\"Final Secrecy Rate GD:\", secrecy_rate_objective_function(theta_GD, w_GD))"
   ]
  },
  {
   "cell_type": "markdown",
   "metadata": {},
   "source": [
    "## Particle Swarm Optimization (PSO)"
   ]
  },
  {
   "cell_type": "code",
   "execution_count": 13,
   "metadata": {},
   "outputs": [],
   "source": [
    "class PSOParticle:\n",
    "  def __init__(self) -> None:\n",
    "    self.theta = generate_random_theta_angles(Nris)\n",
    "    self.w = generate_random_beamforming_vectors()\n",
    "    self.best_theta = deepcopy(self.theta)\n",
    "    self.best_w = deepcopy(self.w)\n",
    "    self.best_secrecy_rate = secrecy_rate_objective_function(theta_angles_to_theta_vector(self.best_theta), self.best_w)\n",
    "    self.velocity_theta = np.zeros((1, Nris))\n",
    "    self.velocity_w = [np.zeros((N, 1)) for i in range(number_of_users)]\n",
    "\n",
    "  def update_velocity(self, inertia, c1, c2, global_best_theta, global_best_w):\n",
    "    r1 = np.random.rand()\n",
    "    r2 = np.random.rand()\n",
    "    self.velocity_theta = inertia * self.velocity_theta + c1 * r1 * (self.best_theta - self.theta) + c2 * r2 * (global_best_theta - self.theta)\n",
    "    self.velocity_w = [inertia * self.velocity_w[i] + c1 * r1 * (self.best_w[i] - self.w[i]) + c2 * r2 * (global_best_w[i] - self.w[i]) for i in range(number_of_users)]\n",
    "\n",
    "  def update_position(self):\n",
    "    self.theta = self.theta + self.velocity_theta\n",
    "    self.w = [self.w[i] + self.velocity_w[i] for i in range(number_of_users)]\n",
    "    total_norm = 0\n",
    "    for i in range (number_of_users):\n",
    "        total_norm += np.linalg.norm(self.w[i])\n",
    "    for i in range(number_of_users):\n",
    "        self.w[i] = self.w[i] / total_norm\n",
    "\n",
    "  def update_velocity_theta(self, inertia, c1, c2, global_best_theta): #Used for PSO_GD\n",
    "    self.velocity_theta = inertia * self.velocity_theta + c1 * np.random.rand() * (self.best_theta - self.theta) + c2 * np.random.rand() * (global_best_theta - self.theta)\n",
    "  \n",
    "  def update_position_theta(self): #Used for PSO_GD\n",
    "    self.theta = self.theta + self.velocity_theta\n",
    "\n",
    "  def update_best(self):\n",
    "    current_secrecy_rate = secrecy_rate_objective_function(theta_angles_to_theta_vector(self.theta), self.w)\n",
    "    if current_secrecy_rate > self.best_secrecy_rate:\n",
    "      self.best_secrecy_rate = current_secrecy_rate\n",
    "      self.best_theta = deepcopy(self.theta)\n",
    "      self.best_w = deepcopy(self.w)"
   ]
  },
  {
   "cell_type": "code",
   "execution_count": 14,
   "metadata": {},
   "outputs": [],
   "source": [
    "def dynamic_inertia(i: int, max_iter: int, inertia_max: float, inertia_min: float) -> float:\n",
    "  E_t = float((max_iter - i - 1)/max_iter)\n",
    "  inertia = inertia_min + (inertia_max - inertia_min) * (2 /(1 + (np.e ** (-5 * E_t))) - 1)\n",
    "  return inertia"
   ]
  },
  {
   "cell_type": "code",
   "execution_count": 15,
   "metadata": {},
   "outputs": [],
   "source": [
    "def PSO_optimize_w_theta(max_iter: int, num_particles: int, w_min: float, w_max: float, c1: float, c2: float):\n",
    "  particles = [PSOParticle() for _ in range(num_particles)]\n",
    "  global_best_secrecy_rate = -np.inf\n",
    "  global_best_theta = np.zeros((1, Nris))\n",
    "  global_best_w = [np.zeros((N, 1)) for i in range(number_of_users)]\n",
    "\n",
    "  results_secrecy_rate = []\n",
    "\n",
    "  for particle in particles:\n",
    "    if particle.best_secrecy_rate > global_best_secrecy_rate:\n",
    "      global_best_secrecy_rate = particle.best_secrecy_rate\n",
    "      global_best_theta = deepcopy(particle.best_theta)\n",
    "      global_best_w = deepcopy(particle.best_w)\n",
    "\n",
    "  results_secrecy_rate.append(global_best_secrecy_rate)\n",
    "\n",
    "  for iteration in range(max_iter):\n",
    "    inertia = dynamic_inertia(iteration, max_iter, w_max, w_min)\n",
    "\n",
    "    for particle in particles:\n",
    "      particle.update_velocity(inertia, c1, c2, global_best_theta, global_best_w)\n",
    "      particle.update_position()\n",
    "      particle.update_best()\n",
    "\n",
    "      if particle.best_secrecy_rate > global_best_secrecy_rate:\n",
    "        global_best_secrecy_rate = particle.best_secrecy_rate\n",
    "        global_best_theta = deepcopy(particle.best_theta)\n",
    "        global_best_w = deepcopy(particle.best_w)\n",
    "\n",
    "    results_secrecy_rate.append(global_best_secrecy_rate)\n",
    "\n",
    "  return results_secrecy_rate"
   ]
  },
  {
   "cell_type": "code",
   "execution_count": 16,
   "metadata": {},
   "outputs": [
    {
     "name": "stdout",
     "output_type": "stream",
     "text": [
      "Initial Secrecy Rate PSO: 3.7826693402933484\n",
      "[3.7826693402933484, 7.27015869702259, 7.458103555294633, 7.458103555294633, 7.561774537274904, 7.824292146645839, 7.935926466190118, 8.215962066273109, 8.267887698862815, 8.406958649099684, 8.4269065902722, 8.460557831699361, 8.471013569453259, 8.506588196372121, 8.548326629987855, 8.589094950964, 8.63979814636102, 8.672306724700574, 8.728143082496532, 8.964862038283666, 9.058763159365988, 9.06863010774699, 9.0936692924254, 9.147765930218815, 9.153988586948216, 9.153988586948216, 9.158739096211448, 9.172630526805458, 9.1823099668501, 9.18833485007042, 9.195817247124646, 9.195817247124646, 9.203621546076345, 9.205290789918783, 9.209571761157939, 9.218018350189181, 9.22607299445696, 9.22656783444415, 9.233047264399428, 9.23321188159994, 9.237326242129933, 9.237790205992852, 9.240846748355036, 9.242275851410243, 9.242275851410243, 9.243648843844934, 9.243718375223805, 9.244531629173643, 9.244531629173643, 9.244546771531759, 9.244546771531759, 9.244546771531759, 9.245334777475932, 9.245696492021711, 9.247225189080497, 9.247225189080497, 9.247873175580699, 9.248273453807862, 9.25021596992, 9.250931441618699, 9.256538885424211, 9.25982630531367, 9.259865453110379, 9.260801205420451, 9.26371698312683, 9.26570623987498, 9.26570623987498, 9.26570623987498, 9.26570623987498, 9.268763404740914, 9.268763404740914, 9.269628738285059, 9.270677803728258, 9.271568384318153, 9.271568384318153, 9.271568384318153, 9.274038141617396, 9.274038141617396, 9.274038141617396, 9.274545557975767, 9.274545557975767, 9.274545557975767, 9.274545557975767, 9.275045116496308, 9.275045116496308, 9.275045116496308, 9.275045116496308, 9.27647194660652, 9.27647194660652, 9.276998344019464, 9.27871759961034, 9.27871759961034, 9.27961696398953, 9.280608504375792, 9.28157914049478, 9.283276547466398, 9.285009932900945, 9.285009932900945, 9.285009932900945, 9.285009932900945, 9.285289960154714, 9.285289960154714, 9.285289960154714, 9.285289960154714, 9.2853063492778, 9.2853063492778, 9.2853063492778, 9.2853063492778, 9.2853063492778, 9.2853063492778, 9.2853063492778, 9.285680646554452, 9.285680646554452, 9.285680646554452, 9.28614337009852, 9.28614337009852, 9.28614337009852, 9.28614337009852, 9.286744179461895, 9.286744179461895, 9.286744179461895, 9.286744179461895, 9.286744179461895, 9.286744179461895, 9.286744179461895, 9.286744179461895, 9.286744179461895, 9.286744179461895, 9.286744179461895, 9.286744179461895, 9.286744179461895, 9.28678544290578, 9.28678544290578, 9.28678544290578, 9.28678544290578, 9.288131207563014, 9.288131207563014, 9.288131207563014, 9.288131207563014, 9.288131207563014, 9.288131207563014, 9.288131207563014, 9.289906717360239, 9.289906717360239, 9.289906717360239, 9.290013515118869, 9.290013515118869, 9.290797137734554, 9.291147765948123, 9.291147765948123, 9.291147765948123, 9.292478998422842, 9.292478998422842, 9.29299057036059, 9.293441530707213, 9.293441530707213, 9.293485534555508, 9.293485534555508, 9.293485534555508, 9.293485534555508, 9.293485534555508, 9.293855861858894, 9.293855861858894, 9.293855861858894, 9.295077677110639, 9.295077677110639, 9.296073116411703, 9.299143473513572, 9.299143473513572, 9.299307093949775, 9.299551617715501, 9.299551617715501, 9.299551617715501, 9.299551617715501, 9.299590410697167, 9.300169330459326, 9.300169330459326, 9.300169330459326, 9.300751626408061, 9.302298961492138, 9.302298961492138, 9.302298961492138, 9.302298961492138, 9.302298961492138, 9.302298961492138, 9.302298961492138, 9.302298961492138, 9.302298961492138, 9.302298961492138, 9.302298961492138, 9.302298961492138, 9.302298961492138, 9.302298961492138, 9.302298961492138, 9.302298961492138, 9.302298961492138, 9.302462873937504, 9.302462873937504, 9.302486350884498, 9.302486350884498, 9.302872027949375, 9.302872027949375, 9.303215590079189, 9.30344399923975, 9.30344399923975, 9.303579010774486, 9.303744438815578, 9.30427806562862, 9.304281226605468, 9.30465064501637, 9.30465064501637, 9.305674850899699, 9.305674850899699, 9.305674850899699, 9.305674850899699, 9.305717009315385, 9.306170337489743, 9.306170337489743, 9.306170337489743, 9.306170337489743, 9.306170337489743, 9.306401516635939, 9.306401516635939, 9.306401516635939, 9.306427376637783, 9.306439075403215, 9.306439075403215, 9.306439075403215, 9.306439075403215, 9.306439075403215, 9.30673973135567, 9.307458202716989, 9.307458202716989, 9.307458202716989, 9.307458202716989, 9.307458202716989, 9.307458202716989, 9.307458202716989, 9.307458202716989, 9.307458202716989, 9.307578522624137, 9.308249558956698, 9.308249558956698, 9.308249558956698, 9.308249558956698, 9.308249558956698, 9.308249558956698, 9.308249558956698, 9.308249558956698, 9.308249558956698, 9.308249558956698, 9.308249558956698, 9.308249558956698, 9.308249558956698, 9.308249558956698, 9.308249558956698, 9.308249558956698, 9.308249558956698, 9.308249558956698, 9.308249558956698, 9.308249558956698, 9.308249558956698, 9.308249558956698, 9.308249558956698, 9.308249558956698, 9.308249558956698, 9.308249558956698, 9.308249558956698, 9.308249558956698, 9.308249558956698, 9.308249558956698, 9.308249558956698, 9.308249558956698, 9.308249558956698, 9.308249558956698, 9.308249558956698, 9.308249558956698, 9.308249558956698, 9.308454891461174, 9.308454891461174, 9.308454891461174, 9.308454891461174, 9.308454891461174, 9.308454891461174, 9.308454891461174, 9.308454891461174, 9.308454891461174, 9.308454891461174, 9.308454891461174, 9.308477124623817, 9.308477124623817, 9.308477124623817, 9.308477124623817, 9.308477124623817, 9.308477124623817, 9.308578309613548, 9.308578309613548, 9.308578309613548, 9.308805978574686, 9.308805978574686, 9.308805978574686, 9.308805978574686, 9.308805978574686, 9.308805978574686, 9.308805978574686, 9.308805978574686, 9.308805978574686, 9.308805978574686, 9.308805978574686, 9.308932167939783, 9.308932167939783, 9.308932167939783, 9.308932167939783, 9.308932167939783, 9.308932167939783, 9.308932167939783, 9.308932167939783, 9.308932167939783, 9.308932167939783, 9.308932167939783, 9.308932167939783, 9.308932167939783, 9.308932167939783, 9.308932167939783, 9.308932167939783, 9.308932167939783, 9.308932167939783, 9.308932167939783, 9.308932167939783, 9.308932167939783, 9.308932167939783, 9.308932167939783, 9.308932167939783, 9.308932167939783, 9.308932167939783, 9.309081795886556, 9.309081795886556, 9.309081795886556, 9.309081795886556, 9.309081795886556, 9.309081795886556, 9.309081795886556, 9.309081795886556, 9.309081795886556, 9.309081795886556, 9.309081795886556, 9.309081795886556, 9.309081795886556, 9.309081795886556, 9.309081795886556, 9.309081795886556, 9.309081795886556, 9.309081795886556, 9.309081795886556, 9.309081795886556, 9.309081795886556, 9.309081795886556, 9.309081795886556, 9.309081795886556, 9.309081795886556, 9.309081795886556, 9.309081795886556, 9.309081795886556, 9.309081795886556, 9.309081795886556, 9.309134056929771, 9.309134056929771, 9.309134056929771, 9.309134056929771, 9.309134056929771, 9.309134056929771, 9.309134056929771, 9.309134056929771, 9.309134056929771, 9.309134056929771, 9.309134056929771, 9.309134056929771, 9.309134056929771, 9.309134056929771, 9.309134056929771, 9.309134056929771, 9.309247616257528, 9.309247616257528, 9.309247616257528, 9.309247616257528, 9.309247616257528, 9.309247616257528, 9.309324242707744, 9.309324242707744, 9.309324242707744, 9.309324242707744, 9.309324242707744, 9.309324242707744, 9.309324242707744, 9.309324242707744, 9.309324242707744, 9.309324242707744, 9.309324242707744, 9.309324242707744, 9.309324242707744, 9.309324242707744, 9.309324242707744, 9.309324242707744, 9.309324242707744, 9.309324242707744, 9.309324242707744, 9.309324242707744, 9.309324242707744, 9.309324242707744, 9.309324242707744, 9.309324242707744, 9.309324242707744, 9.309324242707744, 9.309324242707744, 9.309324242707744, 9.309324242707744, 9.309324242707744, 9.309324242707744, 9.309324242707744, 9.309324242707744, 9.309324242707744, 9.309324242707744, 9.309324242707744, 9.309324242707744, 9.309324242707744, 9.309324242707744, 9.309324242707744, 9.309324242707744, 9.309324242707744, 9.309324242707744, 9.309324242707744, 9.309324242707744, 9.309324242707744, 9.309324242707744, 9.309324242707744, 9.309324242707744, 9.309324242707744, 9.309324242707744, 9.309324242707744, 9.309324242707744, 9.309324242707744, 9.309324242707744, 9.309324242707744, 9.309324242707744, 9.309324242707744, 9.309324242707744, 9.309324242707744, 9.309324242707744, 9.309324242707744, 9.309324242707744, 9.309324242707744, 9.309324242707744, 9.309324242707744, 9.309324242707744, 9.309324242707744, 9.309324242707744, 9.309324242707744, 9.309324242707744, 9.309324242707744, 9.309324242707744, 9.309324242707744, 9.309324242707744, 9.309324242707744, 9.309324242707744, 9.309324242707744, 9.309324242707744, 9.309324242707744, 9.309324242707744, 9.309324242707744, 9.309324242707744, 9.309324242707744, 9.309324242707744, 9.309324242707744, 9.309324242707744, 9.309324242707744, 9.309324242707744, 9.309324242707744, 9.309324242707744, 9.309324242707744, 9.309324242707744, 9.309324242707744, 9.309324242707744, 9.30934547876654, 9.30934547876654, 9.30934547876654, 9.30934547876654, 9.30934547876654, 9.30934547876654, 9.30934547876654, 9.30934547876654, 9.30934547876654, 9.30934547876654, 9.30934547876654, 9.30934547876654, 9.30934547876654, 9.30934547876654, 9.30934547876654, 9.30934547876654, 9.309463922566366, 9.309463922566366, 9.309463922566366]\n",
      "Final Secrecy Rate PSO: 9.309463922566366\n"
     ]
    }
   ],
   "source": [
    "# Reseed\n",
    "np.random.seed(RANDOM_SEED)\n",
    "\n",
    "# PSO Algorithm\n",
    "max_iter = 500\n",
    "num_particles = 100\n",
    "w_min = 0.5\n",
    "w_max = 0.9\n",
    "c1 = 1.5\n",
    "c2 = 1.5\n",
    "\n",
    "PSO_results = PSO_optimize_w_theta(max_iter, num_particles, w_min, w_max, c1, c2)\n",
    "print(\"Initial Secrecy Rate PSO:\", PSO_results[0])\n",
    "print(PSO_results)\n",
    "print(\"Final Secrecy Rate PSO:\", PSO_results[-1])"
   ]
  },
  {
   "cell_type": "markdown",
   "metadata": {},
   "source": [
    "## Genetic Algorithm (GA)"
   ]
  },
  {
   "cell_type": "code",
   "execution_count": 17,
   "metadata": {},
   "outputs": [],
   "source": [
    "class GAIndividual:\n",
    "  def __init__(self, theta: np.ndarray[np.float64] = None, w: np.ndarray[np.complex128] = None) -> None:\n",
    "    if theta is None:\n",
    "      self.theta = generate_random_theta_angles(Nris)\n",
    "    else:\n",
    "      self.theta = theta\n",
    "\n",
    "    if w is None:\n",
    "      self.w = generate_random_beamforming_vectors()\n",
    "    else:\n",
    "      self.w = w\n",
    "\n",
    "    self.update_fitness()\n",
    "\n",
    "  def update_fitness(self):\n",
    "    self.fitness = secrecy_rate_objective_function(theta_angles_to_theta_vector(self.theta), self.w)\n",
    "\n",
    "\n",
    "class GAPopulation:\n",
    "  def __init__(self, population_size: int, crossover_rate: float = 0.85, mutation_rate: float = 0.3) -> None:\n",
    "    self.population_size = population_size\n",
    "    self.individuals = [GAIndividual() for _ in range(population_size)]\n",
    "    self.crossover_rate = crossover_rate\n",
    "    self.mutation_rate = mutation_rate\n",
    "\n",
    "  def sort_population(self):\n",
    "    self.individuals.sort(key=lambda x: x.fitness, reverse=True)\n",
    "\n",
    "  def filter_population(self):\n",
    "    self.sort_population()\n",
    "    self.individuals = self.individuals[:self.population_size]\n",
    "\n",
    "  def add_individual(self, individual: GAIndividual):\n",
    "    self.individuals.append(individual)\n",
    "\n",
    "  def select_parents(self) -> tuple[GAIndividual, GAIndividual]:\n",
    "    parents = np.random.choice(self.individuals, 2, replace=False)\n",
    "    return parents[0], parents[1]\n",
    "  \n",
    "  def crossover(self, parent1: GAIndividual, parent2: GAIndividual) -> GAIndividual:\n",
    "    theta1, w1 = parent1.theta, parent1.w\n",
    "    theta2, w2 = parent2.theta, parent2.w\n",
    "    theta_child = (theta1 + theta2) / 2\n",
    "    w_child = [(w1[i] + w2[i]) / 2 for i in range(number_of_users)]\n",
    "    return GAIndividual(theta_child, w_child)\n",
    "  \n",
    "  def mutate(self, individual: GAIndividual) -> GAIndividual:\n",
    "    if np.random.rand() < self.mutation_rate:\n",
    "      mutation_index = np.random.randint(0, Nris)\n",
    "      individual.theta[0, mutation_index] = np.random.uniform(-np.pi, np.pi)\n",
    "      mutation_index = np.random.randint(len(individual.w))\n",
    "      individual.w[mutation_index] = generate_random_beamforming_vector()\n",
    "      individual.update_fitness()\n",
    "\n",
    "    return individual\n",
    "  \n",
    "def GA_optimize_w_theta(population_size: int, max_iter: int, crossover_rate: float = 0.85, mutation_rate: float = 0.85):\n",
    "  population = GAPopulation(population_size, crossover_rate, mutation_rate)\n",
    "  population.sort_population()\n",
    "  results_secrecy_rate = []\n",
    "  results_secrecy_rate.append(population.individuals[0].fitness)\n",
    "\n",
    "  for _ in range(max_iter):\n",
    "    # Crossover\n",
    "    for _ in range(population_size):\n",
    "      if np.random.rand() < population.crossover_rate:\n",
    "        parent1, parent2 = population.select_parents()\n",
    "        child = population.crossover(parent1, parent2)\n",
    "        population.mutate(child)\n",
    "    #Mutate \n",
    "        population.add_individual(child)\n",
    "\n",
    "    # Filter\n",
    "    population.filter_population()\n",
    "\n",
    "    results_secrecy_rate.append(population.individuals[0].fitness)\n",
    "\n",
    "  return results_secrecy_rate"
   ]
  },
  {
   "cell_type": "code",
   "execution_count": 18,
   "metadata": {},
   "outputs": [
    {
     "name": "stdout",
     "output_type": "stream",
     "text": [
      "Initial Secrecy Rate GA: 3.7826693402933484\n",
      "[3.7826693402933484, 7.47617050836018, 9.140640536312441, 9.175615487453536, 9.175615487453536, 9.87836464972796, 9.87836464972796, 9.87836464972796, 9.87836464972796, 9.87836464972796, 9.87836464972796, 10.008173284350585, 10.008173284350585, 10.393531765085397, 10.393531765085397, 10.393531765085397, 10.393531765085397, 10.393531765085397, 10.393531765085397, 10.393531765085397, 11.083793306582367, 11.083793306582367, 11.083793306582367, 11.083793306582367, 11.083793306582367, 11.083793306582367, 13.38870678337289, 13.38870678337289, 13.38870678337289, 13.38870678337289, 13.972813932959983, 13.972813932959983, 13.972813932959983, 13.972813932959983, 13.972813932959983, 13.972813932959983, 13.972813932959983, 13.972813932959983, 13.989218839289393, 13.989218839289393, 13.989218839289393, 13.989218839289393, 13.996331032407351, 13.996331032407351, 13.996331032407351, 14.047389275957595, 14.047389275957595, 14.07235129591825, 14.07235129591825, 14.07235129591825, 14.07235129591825, 14.07235129591825, 14.07235129591825, 14.07235129591825, 14.07235129591825, 14.07235129591825, 14.07235129591825, 14.07235129591825, 14.07235129591825, 14.07235129591825, 14.07235129591825, 14.07235129591825, 14.07235129591825, 14.07235129591825, 14.07235129591825, 14.07235129591825, 14.07235129591825, 14.07235129591825, 14.07235129591825, 14.07235129591825, 14.07235129591825, 14.07235129591825, 14.07235129591825, 14.07235129591825, 14.07235129591825, 14.07235129591825, 14.07235129591825, 14.07235129591825, 14.07235129591825, 14.07235129591825, 14.07235129591825, 14.07235129591825, 14.07235129591825, 14.07235129591825, 14.07235129591825, 14.07235129591825, 14.07235129591825, 14.07235129591825, 14.07235129591825, 14.07235129591825, 14.07235129591825, 14.07235129591825, 14.072475192625859, 14.072564757412211, 14.072564757412211, 14.072613925045967, 14.072613925045967, 15.350552922198617, 15.350552922198617, 15.350552922198617, 15.350552922198617, 15.350552922198617, 15.350552922198617, 15.350552922198617, 15.350552922198617, 15.350552922198617, 15.350552922198617, 15.350552922198617, 15.350552922198617, 15.350552922198617, 15.350552922198617, 15.350552922198617, 15.350552922198617, 15.350552922198617, 15.350552922198617, 15.350552922198617, 15.350552922198617, 15.350552922198617, 15.350552922198617, 15.350552922198617, 15.350552922198617, 15.350552922198617, 15.350552922198617, 15.350552922198617, 15.350552922198617, 15.350552922198617, 15.350552922198617, 15.350552922198617, 15.350552922198617, 15.350552922198617, 15.350552922198617, 15.350552922198617, 15.350552922198617, 15.350552922198617, 15.350552922198617, 15.350552922198617, 15.350552922198617, 15.350552922198617, 15.350552922198617, 15.350552922198617, 15.350552922198617, 15.350552922198617, 15.350552922198617, 15.350552922198617, 15.350552922198617, 15.350552922198617, 15.350552922198617, 15.350552922198617, 15.350552922198617, 15.350552922198617, 15.350552922198617, 15.350552922198617, 15.350552922198617, 15.350552922198617, 15.350552922198617, 15.350552922198617, 15.350552922198617, 15.350552922198617, 15.350552922198617, 15.350552922198617, 15.350552922198617, 15.350552922198617, 15.350552922198617, 15.350552922198617, 15.350552922198617, 15.350552922198617, 15.350552922198617, 15.350552922198617, 15.350552922198617, 15.350552922198617, 15.350552922198617, 15.350552922198617, 15.350552922198617, 15.350552922198617, 15.350552922198617, 15.350552922198617, 15.350552922198617, 15.350552922198617, 15.350552922198617, 15.350552922198617, 15.350552922198617, 15.350552922198617, 15.350552922198617, 15.350552922198617, 15.350552922198617, 15.350552922198617, 15.350552922198617, 15.350552922198617, 15.350552922198617, 15.350552922198617, 15.350552922198617, 15.350552922198617, 15.350552922198617, 15.350552922198617, 15.350552922198617, 15.350552922198617, 15.350552922198617, 15.350552922198617, 15.350552922198617, 15.350552922198617, 15.350552922198617, 15.350552922198617, 15.350552922198617, 15.350552922198617, 15.350552922198617, 15.350552922198617, 15.350552922198617, 15.350552922198617, 15.350552922198617, 15.350552922198617, 15.350552922198617, 15.350552922198617, 15.350552922198617, 15.350552922198617, 15.350552922198617, 15.350552922198617, 15.350552922198617, 15.350552922198617, 15.350552922198617, 15.350552922198617, 15.350552922198617, 15.350552922198617, 15.350552922198617, 15.350552922198617, 15.350552922198617, 15.350552922198617, 15.350552922198617, 15.350552922198617, 15.350552922198617, 15.350552922198617, 15.350552922198617, 15.350552922198617, 15.350552922198617, 15.350552922198617, 15.350552922198617, 15.350552922198617, 15.350552922198617, 15.350552922198617, 15.350552922198617, 15.350552922198617, 15.350552922198617, 15.350552922198617, 15.350552922198617, 15.350552922198617, 15.678433254250768, 15.678433254250768, 15.678433254250768, 15.678433254250768, 15.678433254250768, 15.678433254250768, 15.678433254250768, 15.678433254250768, 15.678433254250768, 15.678433254250768, 15.678433254250768, 15.678433254250768, 15.678433254250768, 15.678433254250768, 15.678433254250768, 15.678433254250768, 15.678433254250768, 15.678433254250768, 15.678433254250768, 15.678433254250768, 15.678433254250768, 15.678433254250768, 15.678433254250768, 15.678433254250768, 15.678433254250768, 15.678433254250768, 15.678433254250768, 15.678433254250768, 15.678433254250768, 15.678433254250768, 15.678433254250768, 15.678433254250768, 15.678433254250768, 15.678433254250768, 15.678433254250768, 15.678433254250768, 15.678433254250768, 15.678433254250768, 15.678433254250768, 15.678433254250768, 15.678433254250768, 15.678433254250768, 15.678433254250768, 15.678433254250768, 15.678433254250768, 15.678433254250768, 15.678433254250768, 15.678433254250768, 15.678433254250768, 15.678433254250768, 15.68789669860055, 15.68789669860055, 15.68789669860055, 15.68789669860055, 15.68789669860055, 15.68789669860055, 15.68789669860055, 15.68789669860055, 15.68789669860055, 15.68789669860055, 15.68789669860055, 15.68789669860055, 15.68789669860055, 15.68789669860055, 15.68789669860055, 15.68789669860055, 15.68789669860055, 15.68789669860055, 15.68789669860055, 15.68789669860055, 15.68789669860055, 15.68789669860055, 15.68789669860055, 15.68789669860055, 15.68789669860055, 15.68789669860055, 15.68789669860055, 15.68789669860055, 15.68789669860055, 15.68789669860055, 15.68789669860055, 15.68789669860055, 15.68789669860055, 15.68789669860055, 15.68789669860055, 15.68789669860055, 15.68789669860055, 15.68789669860055, 15.68789669860055, 15.68789669860055, 15.68789669860055, 15.68789669860055, 15.68789669860055, 15.68789669860055, 15.68789669860055, 15.68789669860055, 15.68789669860055, 15.68789669860055, 15.68789669860055, 15.68789669860055, 15.68789669860055, 15.68789669860055, 15.68789669860055, 15.68789669860055, 15.68789669860055, 15.68789669860055, 15.68789669860055, 15.68789669860055, 15.68789669860055, 15.689933494417712, 15.689933494417712, 15.689933494417712, 15.689933494417712, 15.689933494417712, 15.689933494417712, 15.689933494417712, 15.689933494417712, 15.689933494417712, 15.689933494417712, 15.689933494417712, 15.689933494417712, 15.690760334105263, 15.690760334105263, 15.690760334105263, 15.690760334105263, 15.690760334105263, 15.690760334105263, 15.690951018702705, 15.690951018702705, 15.690951018702705, 15.690951018702705, 15.691487811858988, 15.691487811858988, 15.69159062194872, 15.69159062194872, 15.69159062194872, 15.69159062194872, 15.69159062194872, 15.69159062194872, 15.69159062194872, 15.69159062194872, 15.69159062194872, 15.69159062194872, 15.69159062194872, 15.69159062194872, 15.69159062194872, 15.69159062194872, 15.69159062194872, 15.69159062194872, 15.69159062194872, 15.69159062194872, 15.69159062194872, 15.691594196036782, 15.691594196036782, 15.691594196036782, 15.691594196036782, 15.691594196036782, 15.691594196036782, 15.691594196036782, 15.691594196036782, 15.691594196036782, 15.691594196036782, 15.691594196036782, 15.691594196036782, 15.691594196036782, 15.691594196036782, 15.691594196036782, 15.691594196036782, 15.691594196036782, 15.691594196036782, 15.691594196036782, 15.691594196036782, 15.691594196036782, 16.546965959746046, 16.602456048244417, 16.602456048244417, 16.602456048244417, 16.602456048244417, 16.602456048244417, 16.60271871802653, 16.60271871802653, 16.60271871802653, 16.606201415046634, 16.606201415046634, 16.606201415046634, 16.60736353433753, 16.60736353433753, 16.60736353433753, 16.60736353433753, 16.607588436351325, 16.607588436351325, 16.607588436351325, 16.607588436351325, 16.607588436351325, 16.79986528011327, 17.24745128011665, 17.24745128011665, 17.24745128011665, 17.24745128011665, 17.24745128011665, 17.24745128011665, 17.24745128011665, 17.24745128011665, 17.24745128011665, 17.24745128011665, 17.24745128011665, 17.24745128011665, 17.24745128011665, 17.24745128011665, 17.24745128011665, 17.24745128011665, 17.24745128011665, 17.24745128011665, 17.24745128011665, 17.24745128011665, 17.34643781816266, 17.37567316643815, 17.37567316643815, 17.37567316643815, 17.392174621906566, 17.392174621906566, 17.392174621906566, 17.548162998838727, 17.86879485674431, 17.913056006562883, 18.107831713179454, 18.107831713179454, 18.107831713179454, 18.107831713179454, 18.107831713179454, 18.19045918007999, 18.19045918007999, 18.19045918007999, 18.19045918007999, 18.19045918007999, 18.19045918007999, 18.19045918007999, 18.19045918007999, 18.19045918007999, 18.19045918007999, 18.19045918007999, 18.19045918007999, 18.19045918007999, 18.19045918007999, 18.19045918007999, 18.203716432048278, 18.203716432048278, 18.203716432048278, 18.203716432048278, 18.203716432048278, 18.215249810019525, 18.215249810019525, 18.215249810019525, 18.215249810019525, 18.215249810019525, 18.215249810019525, 18.215249810019525]\n",
      "Final Secrecy Rate GA: 18.215249810019525\n"
     ]
    }
   ],
   "source": [
    "population_size = 100\n",
    "num_generations = 500\n",
    "crossover_rate = 0.9\n",
    "mutation_rate = 0.3\n",
    "\n",
    "# Reseed\n",
    "np.random.seed(RANDOM_SEED)\n",
    "\n",
    "# GA Algorithm\n",
    "GA_results = GA_optimize_w_theta(population_size, num_generations, crossover_rate, mutation_rate)\n",
    "print(\"Initial Secrecy Rate GA:\", GA_results[0])\n",
    "print(GA_results)\n",
    "print(\"Final Secrecy Rate GA:\", GA_results[-1])"
   ]
  },
  {
   "cell_type": "code",
   "execution_count": 19,
   "metadata": {},
   "outputs": [],
   "source": [
    "def gradient_descent_update_w(w, theta, learning_rate):\n",
    "    grad_w = compute_gradient_w(theta, w)\n",
    "    w_new = [w[i] - learning_rate * grad_w[i] for i in range (number_of_users)]\n",
    "    total_norm = 0\n",
    "    for i in range (number_of_users):\n",
    "        total_norm += np.linalg.norm(w_new[i])\n",
    "    for i in range (number_of_users):\n",
    "        w_new[i] = w_new[i] / total_norm\n",
    "        \n",
    "    theta_new = theta\n",
    "\n",
    "    return w_new, theta_new"
   ]
  },
  {
   "cell_type": "markdown",
   "metadata": {},
   "source": [
    "## Combination of PSO and GD"
   ]
  },
  {
   "cell_type": "code",
   "execution_count": 20,
   "metadata": {},
   "outputs": [],
   "source": [
    "def PSO_GD(max_pso_iter, max_gd_iter, number_of_particles, learning_rate, w_max, w_min, c1, c2):\n",
    "    particles = [PSOParticle() for _ in range(number_of_particles)]\n",
    "    global_best_secrecy_rate = -np.inf\n",
    "    global_best_theta = np.zeros((1, Nris))\n",
    "    global_best_w = [np.zeros((N, 1)) for i in range(number_of_users)]\n",
    "\n",
    "    results_secrecy_rate = []\n",
    "\n",
    "    for particle in particles:\n",
    "        if particle.best_secrecy_rate > global_best_secrecy_rate:\n",
    "            global_best_secrecy_rate = particle.best_secrecy_rate\n",
    "            global_best_theta = deepcopy(particle.best_theta)\n",
    "            global_best_w = deepcopy(particle.best_w)\n",
    "\n",
    "    results_secrecy_rate.append(global_best_secrecy_rate)\n",
    "    \n",
    "    for iteration in range(max_pso_iter):\n",
    "        inertia = dynamic_inertia(iteration, max_iter, w_max, w_min)\n",
    "\n",
    "        \"\"\"\n",
    "            Update particles theta by velocity\n",
    "        \"\"\"\n",
    "        for particle in particles:\n",
    "            particle.update_velocity_theta(inertia, c1, c2, global_best_theta)\n",
    "            particle.update_position_theta()\n",
    "            particle.update_best()\n",
    "\n",
    "            if particle.best_secrecy_rate > global_best_secrecy_rate:\n",
    "                global_best_secrecy_rate = particle.best_secrecy_rate\n",
    "                global_best_theta = deepcopy(particle.best_theta)\n",
    "                global_best_w = deepcopy(particle.best_w)\n",
    "        \"\"\"\n",
    "            Gradient descent w for every particles\n",
    "        \"\"\"\n",
    "        \n",
    "        for particle in particles:\n",
    "            for _ in range (max_gd_iter):\n",
    "                new_w, new_theta = gradient_descent_update_w(particle.w, theta_angles_to_theta_vector(particle.theta), learning_rate)\n",
    "                particle.w = new_w\n",
    "                particle.theta = theta_vector_to_theta_angles(new_theta)\n",
    "                particle.update_best()\n",
    "\n",
    "            if particle.best_secrecy_rate > global_best_secrecy_rate:\n",
    "                global_best_secrecy_rate = particle.best_secrecy_rate\n",
    "                global_best_theta = deepcopy(particle.best_theta)\n",
    "                global_best_w = deepcopy(particle.best_w)\n",
    "\n",
    "        results_secrecy_rate.append(global_best_secrecy_rate)\n",
    "\n",
    "    return results_secrecy_rate"
   ]
  },
  {
   "cell_type": "code",
   "execution_count": 21,
   "metadata": {},
   "outputs": [
    {
     "ename": "KeyboardInterrupt",
     "evalue": "",
     "output_type": "error",
     "traceback": [
      "\u001b[0;31m---------------------------------------------------------------------------\u001b[0m",
      "\u001b[0;31mKeyboardInterrupt\u001b[0m                         Traceback (most recent call last)",
      "Cell \u001b[0;32mIn[21], line 12\u001b[0m\n\u001b[1;32m      9\u001b[0m c1 \u001b[38;5;241m=\u001b[39m \u001b[38;5;241m1.5\u001b[39m\n\u001b[1;32m     10\u001b[0m c2 \u001b[38;5;241m=\u001b[39m \u001b[38;5;241m1.5\u001b[39m\n\u001b[0;32m---> 12\u001b[0m PSO_GD_results \u001b[38;5;241m=\u001b[39m \u001b[43mPSO_GD\u001b[49m\u001b[43m(\u001b[49m\u001b[43mmax_pso_iter\u001b[49m\u001b[43m,\u001b[49m\u001b[43m \u001b[49m\u001b[43mmax_gd_iter\u001b[49m\u001b[43m,\u001b[49m\u001b[43m \u001b[49m\u001b[43mnumber_of_particles\u001b[49m\u001b[43m,\u001b[49m\u001b[43m \u001b[49m\u001b[43mlearning_rate\u001b[49m\u001b[43m,\u001b[49m\u001b[43m \u001b[49m\u001b[43mw_max\u001b[49m\u001b[43m,\u001b[49m\u001b[43m \u001b[49m\u001b[43mw_min\u001b[49m\u001b[43m,\u001b[49m\u001b[43m \u001b[49m\u001b[43mc1\u001b[49m\u001b[43m,\u001b[49m\u001b[43m \u001b[49m\u001b[43mc2\u001b[49m\u001b[43m)\u001b[49m\n\u001b[1;32m     13\u001b[0m \u001b[38;5;28mprint\u001b[39m(\u001b[38;5;124m\"\u001b[39m\u001b[38;5;124mInitial Secrecy Rate PSO-GD:\u001b[39m\u001b[38;5;124m\"\u001b[39m, PSO_GD_results[\u001b[38;5;241m0\u001b[39m])\n\u001b[1;32m     14\u001b[0m \u001b[38;5;28mprint\u001b[39m(\u001b[38;5;124m\"\u001b[39m\u001b[38;5;124mFinal Secrecy Rate PSO-GD:\u001b[39m\u001b[38;5;124m\"\u001b[39m, PSO_GD_results[\u001b[38;5;241m-\u001b[39m\u001b[38;5;241m1\u001b[39m])\n",
      "Cell \u001b[0;32mIn[20], line 38\u001b[0m, in \u001b[0;36mPSO_GD\u001b[0;34m(max_pso_iter, max_gd_iter, number_of_particles, learning_rate, w_max, w_min, c1, c2)\u001b[0m\n\u001b[1;32m     36\u001b[0m \u001b[38;5;28;01mfor\u001b[39;00m particle \u001b[38;5;129;01min\u001b[39;00m particles:\n\u001b[1;32m     37\u001b[0m     \u001b[38;5;28;01mfor\u001b[39;00m _ \u001b[38;5;129;01min\u001b[39;00m \u001b[38;5;28mrange\u001b[39m (max_gd_iter):\n\u001b[0;32m---> 38\u001b[0m         new_w, new_theta \u001b[38;5;241m=\u001b[39m \u001b[43mgradient_descent_update_w\u001b[49m\u001b[43m(\u001b[49m\u001b[43mparticle\u001b[49m\u001b[38;5;241;43m.\u001b[39;49m\u001b[43mw\u001b[49m\u001b[43m,\u001b[49m\u001b[43m \u001b[49m\u001b[43mtheta_angles_to_theta_vector\u001b[49m\u001b[43m(\u001b[49m\u001b[43mparticle\u001b[49m\u001b[38;5;241;43m.\u001b[39;49m\u001b[43mtheta\u001b[49m\u001b[43m)\u001b[49m\u001b[43m,\u001b[49m\u001b[43m \u001b[49m\u001b[43mlearning_rate\u001b[49m\u001b[43m)\u001b[49m\n\u001b[1;32m     39\u001b[0m         particle\u001b[38;5;241m.\u001b[39mw \u001b[38;5;241m=\u001b[39m new_w\n\u001b[1;32m     40\u001b[0m         particle\u001b[38;5;241m.\u001b[39mtheta \u001b[38;5;241m=\u001b[39m theta_vector_to_theta_angles(new_theta)\n",
      "Cell \u001b[0;32mIn[19], line 2\u001b[0m, in \u001b[0;36mgradient_descent_update_w\u001b[0;34m(w, theta, learning_rate)\u001b[0m\n\u001b[1;32m      1\u001b[0m \u001b[38;5;28;01mdef\u001b[39;00m \u001b[38;5;21mgradient_descent_update_w\u001b[39m(w, theta, learning_rate):\n\u001b[0;32m----> 2\u001b[0m     grad_w \u001b[38;5;241m=\u001b[39m \u001b[43mcompute_gradient_w\u001b[49m\u001b[43m(\u001b[49m\u001b[43mtheta\u001b[49m\u001b[43m,\u001b[49m\u001b[43m \u001b[49m\u001b[43mw\u001b[49m\u001b[43m)\u001b[49m\n\u001b[1;32m      3\u001b[0m     w_new \u001b[38;5;241m=\u001b[39m [w[i] \u001b[38;5;241m-\u001b[39m learning_rate \u001b[38;5;241m*\u001b[39m grad_w[i] \u001b[38;5;28;01mfor\u001b[39;00m i \u001b[38;5;129;01min\u001b[39;00m \u001b[38;5;28mrange\u001b[39m (number_of_users)]\n\u001b[1;32m      4\u001b[0m     total_norm \u001b[38;5;241m=\u001b[39m \u001b[38;5;241m0\u001b[39m\n",
      "Cell \u001b[0;32mIn[11], line 57\u001b[0m, in \u001b[0;36mcompute_gradient_w\u001b[0;34m(theta, w)\u001b[0m\n\u001b[1;32m     55\u001b[0m \u001b[38;5;28;01melse\u001b[39;00m:\n\u001b[1;32m     56\u001b[0m     num_grad_C_bk_to_w_i \u001b[38;5;241m=\u001b[39m \u001b[38;5;241m-\u001b[39m\u001b[38;5;241m2\u001b[39m \u001b[38;5;241m*\u001b[39m \u001b[38;5;28mabs\u001b[39m(Z_b[k] \u001b[38;5;241m@\u001b[39m w[k]) \u001b[38;5;241m*\u001b[39m (HermTranspose(Z_b[k]) \u001b[38;5;241m@\u001b[39m Z_b[k] \u001b[38;5;241m@\u001b[39m w[i])\n\u001b[0;32m---> 57\u001b[0m     den_grad_C_bk_to_w_i \u001b[38;5;241m=\u001b[39m (\u001b[38;5;241m1\u001b[39m \u001b[38;5;241m+\u001b[39m gamma_b[k]) \u001b[38;5;241m*\u001b[39m np\u001b[38;5;241m.\u001b[39mlog(\u001b[38;5;241m2\u001b[39m) \u001b[38;5;241m*\u001b[39m (\u001b[38;5;241m1\u001b[39m \u001b[38;5;241m+\u001b[39m \u001b[38;5;28msum\u001b[39m([\u001b[38;5;28mabs\u001b[39m(Z_b[k] \u001b[38;5;241m@\u001b[39m w[j]) \u001b[38;5;28;01mfor\u001b[39;00m j \u001b[38;5;129;01min\u001b[39;00m \u001b[38;5;28mrange\u001b[39m (number_of_users) \u001b[38;5;28;01mif\u001b[39;00m j \u001b[38;5;241m!=\u001b[39m k])) \u001b[38;5;241m*\u001b[39m\u001b[38;5;241m*\u001b[39m \u001b[38;5;241m2\u001b[39m\n\u001b[1;32m     58\u001b[0m     grad_C_bk_to_w_i \u001b[38;5;241m=\u001b[39m num_grad_C_bk_to_w_i \u001b[38;5;241m/\u001b[39m den_grad_C_bk_to_w_i\n\u001b[1;32m     60\u001b[0m     num_grad_C_e_max_to_w_i \u001b[38;5;241m=\u001b[39m \u001b[38;5;241m-\u001b[39m\u001b[38;5;241m2\u001b[39m \u001b[38;5;241m*\u001b[39m \u001b[38;5;28mabs\u001b[39m(Z_e_max[k] \u001b[38;5;241m@\u001b[39m w[k]) \u001b[38;5;241m*\u001b[39m (HermTranspose(Z_e_max[k]) \u001b[38;5;241m@\u001b[39m Z_e_max[k] \u001b[38;5;241m@\u001b[39m w[i])\n",
      "\u001b[0;31mKeyboardInterrupt\u001b[0m: "
     ]
    }
   ],
   "source": [
    "# Reseed\n",
    "np.random.seed(RANDOM_SEED)\n",
    "\n",
    "max_pso_iter = 500\n",
    "max_gd_iter = 50\n",
    "number_of_particles = 100\n",
    "w_max = 0.9\n",
    "w_min = 0.5\n",
    "c1 = 1.5\n",
    "c2 = 1.5\n",
    "\n",
    "PSO_GD_results = PSO_GD(max_pso_iter, max_gd_iter, number_of_particles, learning_rate, w_max, w_min, c1, c2)\n",
    "print(\"Initial Secrecy Rate PSO-GD:\", PSO_GD_results[0])\n",
    "print(\"Final Secrecy Rate PSO-GD:\", PSO_GD_results[-1])"
   ]
  },
  {
   "cell_type": "markdown",
   "metadata": {},
   "source": [
    "## Combination of GA and GD"
   ]
  },
  {
   "cell_type": "code",
   "execution_count": null,
   "metadata": {},
   "outputs": [],
   "source": [
    "def GA_GD_optimize_w_theta(population_size: int, max_iter: int, max_iter_gd: int, crossover_rate: float = 0.85, mutation_rate: float = 0.85):\n",
    "  population = GAPopulation(population_size, crossover_rate, mutation_rate)\n",
    "  population.sort_population()\n",
    "  results_secrecy_rate = []\n",
    "  results_secrecy_rate.append(population.individuals[0].fitness)\n",
    "\n",
    "  for _ in range(max_iter):\n",
    "    # Crossover\n",
    "    for _ in range(population_size):\n",
    "      if np.random.rand() < population.crossover_rate:\n",
    "        parent1, parent2 = population.select_parents()\n",
    "        child = population.crossover(parent1, parent2)\n",
    "        population.mutate(child)\n",
    "    #Mutate \n",
    "        population.add_individual(child)\n",
    "\n",
    "    # Filter\n",
    "    population.filter_population()\n",
    "\n",
    "    results_secrecy_rate.append(population.individuals[0].fitness)\n",
    "\n",
    "  return results_secrecy_rate"
   ]
  },
  {
   "cell_type": "markdown",
   "metadata": {},
   "source": [
    "# Plot diagram"
   ]
  },
  {
   "cell_type": "code",
   "execution_count": 32,
   "metadata": {},
   "outputs": [
    {
     "data": {
      "image/png": "[encoded data removed]",
      "text/plain": [
       "<Figure size 640x480 with 1 Axes>"
      ]
     },
     "metadata": {},
     "output_type": "display_data"
    }
   ],
   "source": [
    "# iterations = range(0, num_cycles+10, 10)\n",
    "\n",
    "iterations = range(0, max_iter+1)\n",
    "\n",
    "# Extend the results to the same length\n",
    "GD_results_draw = GD_results + [GD_results[-1]] * (max_iter + 1 - len(GD_results))\n",
    "PSO_results_draw = PSO_results + [PSO_results[-1]] * (max_iter + 1 - len(PSO_results))\n",
    "GA_results_draw = GA_results + [GA_results[-1]] * (max_iter + 1 - len(GA_results))\n",
    "\n",
    "PSO_GD_results_draw = [PSO_GD_results[0]]\n",
    "for i in range(1, len(PSO_GD_results)):\n",
    "    PSO_GD_results_draw.extend([PSO_GD_results[i]] * (max_iter // (len(PSO_GD_results) - 1)))\n",
    "\n",
    "plt.plot(iterations, GD_results_draw, label='Gradient Descent')\n",
    "plt.plot(iterations, PSO_results_draw, label='PSO')\n",
    "plt.plot(iterations, GA_results_draw, label='Genetic Algorithm')\n",
    "plt.plot(iterations, PSO_GD_results_draw, label='PSO-GD')\n",
    "\n",
    "plt.xlabel('Iteration number')\n",
    "plt.ylabel('Secrecy rate (bps/Hz)')\n",
    "plt.grid(True)\n",
    "plt.legend()\n",
    "plt.show()\n"
   ]
  },
  {
   "cell_type": "code",
   "execution_count": 31,
   "metadata": {},
   "outputs": [
    {
     "name": "stdout",
     "output_type": "stream",
     "text": [
      "Best Secrecy Rate GD: 13.103861400800648\n",
      "Best Secrecy Rate PSO: 9.309463922566366\n",
      "Best Secrecy Rate GA: 18.215249810019525\n",
      "Best Secrecy Rate PSO-GD: 13.111436313762347\n"
     ]
    }
   ],
   "source": [
    "# Best results of each methods\n",
    "print(\"Best Secrecy Rate GD:\", max(GD_results))\n",
    "print(\"Best Secrecy Rate PSO:\", max(PSO_results))\n",
    "print(\"Best Secrecy Rate GA:\", max(GA_results))\n",
    "print(\"Best Secrecy Rate PSO-GD:\", max(PSO_GD_results))"
   ]
  }
 ],
 "metadata": {
  "kernelspec": {
   "display_name": "Python 3",
   "language": "python",
   "name": "python3"
  },
  "language_info": {
   "codemirror_mode": {
    "name": "ipython",
    "version": 3
   },
   "file_extension": ".py",
   "mimetype": "text/x-python",
   "name": "python",
   "nbconvert_exporter": "python",
   "pygments_lexer": "ipython3",
   "version": "3.11.5"
  }
 },
 "nbformat": 4,
 "nbformat_minor": 2
}
