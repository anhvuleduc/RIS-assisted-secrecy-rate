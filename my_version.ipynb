{
 "cells": [
  {
   "cell_type": "markdown",
   "metadata": {},
   "source": [
    "# Import library"
   ]
  },
  {
   "cell_type": "code",
   "execution_count": 1,
   "metadata": {},
   "outputs": [],
   "source": [
    "import numpy as np\n",
    "import matplotlib.pyplot as plt\n",
    "from copy import deepcopy\n",
    "import functools"
   ]
  },
  {
   "cell_type": "markdown",
   "metadata": {},
   "source": [
    "## Random seed"
   ]
  },
  {
   "cell_type": "code",
   "execution_count": 2,
   "metadata": {},
   "outputs": [],
   "source": [
    "RANDOM_SEED = 99\n",
    "np.random.seed(RANDOM_SEED)"
   ]
  },
  {
   "cell_type": "markdown",
   "metadata": {},
   "source": [
    "# Function to transform the data"
   ]
  },
  {
   "cell_type": "code",
   "execution_count": 3,
   "metadata": {},
   "outputs": [],
   "source": [
    "# Function to transfer from dBW to W (power)\n",
    "def db2pow(db: float) -> float:\n",
    "    return 10**(db/10)\n",
    "\n",
    "# Function to transfer from W to dBW (power)\n",
    "def pow2db(pow: float) -> float:\n",
    "    return 10*np.log10(pow)\n",
    "\n",
    "# Hermitian transpose of a matrix\n",
    "def HermTranspose(x: np.ndarray) -> np.ndarray:\n",
    "    return x.conj().T\n",
    "\n",
    "def chanGen(zeta: float, d: float, dim1: int, dim2: int) -> np.ndarray:\n",
    "    \"\"\"Function to generate Rayleigh fading channel coefficients\n",
    "\n",
    "    Args:\n",
    "        zeta: ξ is the path loss exponent\n",
    "        d: the distance between the transmitter and the receiver\n",
    "        dim1: the number of rows in the channel matrix\n",
    "        dim2: the number of columns in the channel matrix\n",
    "    \"\"\"\n",
    "    pl_ref: float = -30                                    # pathloss (dBW) at reference distance\n",
    "    pl: float = db2pow(pl_ref - 10*zeta*np.log10(d))       # pathloss model at distance d\n",
    "    y: np.ndarray = np.sqrt(0.5*pl)*(np.random.randn(dim1,dim2)\\\n",
    "        + 1j*np.random.randn(dim1,dim2))            # Rayleigh distribution\n",
    "    return y"
   ]
  },
  {
   "cell_type": "markdown",
   "metadata": {},
   "source": [
    "## Parameters"
   ]
  },
  {
   "cell_type": "code",
   "execution_count": 4,
   "metadata": {},
   "outputs": [],
   "source": [
    "sigma = db2pow(-75)                                                                 # noise power\n",
    "N = 8                                                                               # number of transmit antennas\n",
    "Nris = 32                                                                           # number of RIS elements\n",
    "number_of_users = 4                                                                 # number of users\n",
    "number_of_eavesdroppers = 2                                                         # number of eavesdroppers\n",
    "zetaAI = 2.2                                                                        # Path loss exponent of the channel between the Alice and the RIS\n",
    "zetaIB = 2.5                                                                        # Path loss exponent of the channel between the legitimate receivers and the RIS\n",
    "zetaIE = 2.5                                                                        # Path loss exponent of the channel between the eavesdroppers and the RIS\n",
    "zetaAB = 3.5                                                                        # Path loss exponent of the channel between the Alice and the legitimate receivers\n",
    "zetaAE = 3.5                                                                        # Path loss exponent of the channel between the Alice and the eavesdroppers\n",
    "\n",
    "dAI = 50                                                                            # distance between Alice and the RIS\n",
    "dv = 2                                                                              # Vertical distance between the Alice and the Eve and Bob\n",
    "dABh = np.random.uniform(5, 10, size=number_of_users)                               # Horizontal distance between Alice and the legitimate receivers\n",
    "dAEh = np.random.uniform(50, 150, size=number_of_eavesdroppers)                     # Horizontal distance between Alice and the eavesdroppers\n",
    "dAB = [np.sqrt(dABh[i]**2 + dv**2) for i in range(number_of_users)]                 # Distance between Alice and the legitimate receivers\n",
    "dAE = [np.sqrt(dAEh[i]**2 + dv**2) for i in range(number_of_eavesdroppers)]         # Distance between Alice and the eavesdroppers\n",
    "dIB = [np.sqrt((dABh[i]-dAI)**2 + dv**2) for i in range(number_of_users)]           # Distance between the legitimate receivers and the RIS\n",
    "dIE = [np.sqrt((dAEh[i]-dAI)**2 + dv**2) for i in range(number_of_eavesdroppers)]   # Distance between the eavesdroppers and the RIS\n"
   ]
  },
  {
   "cell_type": "code",
   "execution_count": 5,
   "metadata": {},
   "outputs": [],
   "source": [
    "def normalise_beamforming_vectors(w: np.ndarray) -> np.ndarray:\n",
    "    \"\"\"Function to normalise the beamforming vectors\n",
    "\n",
    "    Args:\n",
    "        w: the beamforming vectors\n",
    "    \"\"\"\n",
    "    total_norm = 0\n",
    "    for i in range(number_of_users):\n",
    "        total_norm += np.linalg.norm(w[i])\n",
    "    for i in range(number_of_users):\n",
    "        w[i] = w[i] / total_norm\n",
    "    return w\n",
    "\n",
    "def generate_random_beamforming_vector():\n",
    "  '''\n",
    "  Generate one random beamforming vector\n",
    "  '''\n",
    "  return np.random.uniform(-1, 1, (N, 1)) + 1j * np.random.uniform(-1, 1, (N, 1))\n",
    "\n",
    "def generate_random_beamforming_vectors():\n",
    "    # Generate random complex numbers for each element of the beamforming vector\n",
    "    beamforming_vectors = [generate_random_beamforming_vector() for _ in range (number_of_users)]\n",
    "    \n",
    "    # Normalize the vectors\n",
    "    beamforming_vectors = normalise_beamforming_vectors(beamforming_vectors)\n",
    "    return beamforming_vectors\n",
    "    #w: list of beamforming vectors, length = number of users, elements are N x 1\n",
    "\n",
    "def generate_random_theta():\n",
    "    theta = np.random.uniform(-np.pi, np.pi, (1, Nris))\n",
    "    theta = np.exp(1j * theta)\n",
    "    return theta\n",
    "    #theta: phase shift of RIS, size 1 x Nris\n",
    "\n",
    "def generate_random_theta_angles(size: int):\n",
    "  \"\"\"\n",
    "    Generate a random vector of angles from -pi to pi\n",
    "  \"\"\"\n",
    "  return np.random.uniform(-np.pi, np.pi, size=(1, size))\n",
    "\n",
    "def theta_angles_to_theta_vector(angles: np.ndarray[np.float64]) -> np.ndarray[np.complex128]:\n",
    "  \"\"\"\n",
    "    Convert a vector of angles to a vector of complex numbers on the unit circle\n",
    "  \"\"\"\n",
    "  return np.exp(1j * angles)\n",
    "\n",
    "def theta_vector_to_theta_angles(theta: np.ndarray[np.complex128]) -> np.ndarray[np.float64]:\n",
    "  \"\"\"\n",
    "    Convert a vector of complex numbers on the unit circle to a vector of angles\n",
    "  \"\"\"\n",
    "  return np.angle(theta)\n",
    "\n",
    "def generateChannel():\n",
    "    normFact = 1/np.sqrt(sigma)\n",
    "    Hai = chanGen(zetaAI, dAI, Nris, N)                                                         # Alice to RIS channel\n",
    "    hib = [normFact*chanGen(zetaIB, dIB[i], 1, Nris) for i in range(number_of_users)]           # Channel between the RIS and the legitimate receivers\n",
    "    hie = [normFact*chanGen(zetaIE, dIE[i], 1, Nris) for i in range(number_of_eavesdroppers)]   # Channel between the RIS and the eavesdroppers\n",
    "    hab = [normFact*chanGen(zetaAB, dAB[i], 1, N) for i in range(number_of_users)]              # Channel between Alice and the legitimate receivers\n",
    "    hae = [normFact*chanGen(zetaAE, dAE[i], 1, N) for i in range(number_of_eavesdroppers)]      # Channel between Alice and the eavesdroppers\n",
    "    return Hai, hib, hie, hab, hae\n",
    "\n",
    "    #Hai: Channel between Alice and RIS: Nris x N  \n",
    "    #hib: Channel between RIS and users: List of length number_of_users, elements are 1 x Nris\n",
    "    #hab: Channel between Alice and users: List of length number_of_users, elements are 1 x N\n",
    "    #hie: Channel between RIS and eavesdroppers: List of length number_of_eavesdroppers, elements are 1 x Nris\n",
    "    #hae: Channel between Alice and eavesdroppers: List of length number_of_eavesdroppers, elements are 1 x N"
   ]
  },
  {
   "cell_type": "code",
   "execution_count": 6,
   "metadata": {},
   "outputs": [],
   "source": [
    "# Reseed\n",
    "# np.random.seed(RANDOM_SEED)\n",
    "\n",
    "# Channel generation\n",
    "Hai, hib, hie, hab, hae = generateChannel()\n",
    "\n",
    "# Generate random theta and w\n",
    "theta_init = generate_random_theta()\n",
    "w_init = generate_random_beamforming_vectors()"
   ]
  },
  {
   "cell_type": "markdown",
   "metadata": {},
   "source": [
    "# Objective Function"
   ]
  },
  {
   "cell_type": "code",
   "execution_count": 7,
   "metadata": {},
   "outputs": [],
   "source": [
    "def secrecy_rate_objective_function(theta, w) -> float:\n",
    "    secrecy_rate: float = 0\n",
    "    for k in range(number_of_users):\n",
    "        R_bk = []\n",
    "        # Legitimate user k\n",
    "        Z_bk = hib[k] @ np.diag(theta.flatten()) @ Hai + hab[k]\n",
    "        numGamma_bk = np.abs(Z_bk @ w[k])**2\n",
    "        denGamma_bk = 1 + np.sum([np.abs(Z_bk @ w[i])**2 for i in range(number_of_users) if i != k])\n",
    "        gamma_bk = numGamma_bk/denGamma_bk\n",
    "        C_bk = np.log2(1 + gamma_bk)\n",
    "        \n",
    "        for m in range(number_of_eavesdroppers):\n",
    "            # Eavesdropper i\n",
    "            Z_em = hie[m] @ np.diag(theta.flatten()) @ Hai + hae[m]\n",
    "            numGamma_em = np.abs(Z_em @ w[k])**2\n",
    "            denGamma_em = 1 + np.sum([np.abs(Z_em @ w[j])**2 for j in range(number_of_users) if j != k])\n",
    "            gamma_em = numGamma_em/denGamma_em\n",
    "            C_em = np.log2(1 + gamma_em)\n",
    "            R_bk.append(C_bk - C_em)\n",
    "        \n",
    "        secrecy_rate += max(min(R_bk),0)\n",
    "    return secrecy_rate"
   ]
  },
  {
   "cell_type": "code",
   "execution_count": 8,
   "metadata": {},
   "outputs": [
    {
     "name": "stdout",
     "output_type": "stream",
     "text": [
      "[[ 0.88048122+0.47408102j  0.10675779-0.99428506j -0.94121722+0.33780192j\n",
      "  -0.51552239-0.85687611j  0.98551347-0.16959717j  0.1734521 -0.98484231j\n",
      "   0.05972855-0.99821466j -0.82186107+0.56968797j -0.64812937+0.76153025j\n",
      "   0.94798661+0.31831021j -0.58631416-0.81008376j  0.30854288-0.95121044j\n",
      "  -0.88320766-0.46898212j -0.36293885+0.93181296j -0.8274319 -0.56156608j\n",
      "  -0.90636523+0.42249504j  0.95027299-0.31141812j  0.82084652+0.57114883j\n",
      "  -0.89074293-0.45450746j -0.68946858+0.72431559j  0.95427824-0.2989198j\n",
      "   0.98565906+0.16874896j  0.82615517-0.56344267j -0.45260546+0.89171088j\n",
      "  -0.3844826 +0.92313224j -0.97945512+0.20166227j -0.83626362-0.54832761j\n",
      "   0.26845845+0.96329127j  0.87334229+0.48710702j -0.93345363-0.3586981j\n",
      "  -0.70376125-0.71043656j  0.68661103+0.72702496j]]\n",
      "distance between Alice and the receivers:  [8.597260577730964, 7.704507320858385, 9.344025672091696, 5.531459234567628]\n",
      "distance between Alice and the eavesdroppers:  [130.82028537878898, 106.58050877047856]\n",
      "Secrecy Rate: [[1.03043829]]\n"
     ]
    }
   ],
   "source": [
    "print(theta_init)\n",
    "print(\"distance between Alice and the receivers: \", dAB)\n",
    "print(\"distance between Alice and the eavesdroppers: \", dAE)\n",
    "print(\"Secrecy Rate:\", secrecy_rate_objective_function(theta_init, w_init))"
   ]
  },
  {
   "cell_type": "markdown",
   "metadata": {},
   "source": [
    "# Method"
   ]
  },
  {
   "cell_type": "markdown",
   "metadata": {},
   "source": [
    "## Gradient Descent for Maximization (GD)"
   ]
  },
  {
   "cell_type": "code",
   "execution_count": 9,
   "metadata": {},
   "outputs": [],
   "source": [
    "def compute_gradient_w(theta, w):\n",
    "    grad_w = []\n",
    "    Z_e_max = [] #Z_e_max[k] = Z_e_max for user k\n",
    "    gamma_e_max = [] #gamma_e_max[k] = gamma_e_max for user k\n",
    "    Z_b = [] #Z_b[k] = Z_bk\n",
    "    gamma_b = [] #gamma_b[k] = gamma_bk\n",
    "    counted = [] #counted[k] = true if gamma_k > gamma_e_max[k]\n",
    "    \n",
    "\n",
    "    #Precalculation \n",
    "    for k in range (number_of_users):\n",
    "        gamma_e = []\n",
    "        for m in range (number_of_eavesdroppers):\n",
    "            Z_em = hie[m] @ np.diag(theta.flatten()) @ Hai + hae[m]\n",
    "            numGamma_em = np.abs(Z_em @ w[k])**2\n",
    "            denGamma_em = 1 + np.sum([np.abs(Z_em @ w[j])**2 for j in range(number_of_users) if j != k])\n",
    "            gamma_em = numGamma_em/denGamma_em\n",
    "            gamma_e.append(gamma_em)\n",
    "        \n",
    "        gamma_e_max.append(max(gamma_e))\n",
    "        index_e_max = gamma_e.index(max(gamma_e))\n",
    "        Z_e = hie[index_e_max] @ np.diag(theta.flatten()) @ Hai + hae[index_e_max]\n",
    "        Z_e_max.append(Z_e)\n",
    "\n",
    "        Z_bk = hib[k] @ np.diag(theta.flatten()) @ Hai + hab[k]\n",
    "        numGamma_bk = np.abs(Z_bk @ w[k])**2\n",
    "        denGamma_bk = 1 + np.sum([np.abs(Z_bk @ w[i])**2 for i in range(number_of_users) if i != k])\n",
    "        gamma_bk = numGamma_bk/denGamma_bk\n",
    "\n",
    "        Z_b.append(Z_bk)\n",
    "        gamma_b.append(gamma_bk)\n",
    "\n",
    "        counted.append(gamma_bk > gamma_e[index_e_max])\n",
    "\n",
    "\n",
    "    #Calculating grad for i-th beamforming vector\n",
    "    for i in range (number_of_users):\n",
    "        grad = np.zeros((N, 1))\n",
    "        #print(\"grad_shape =\", grad.shape)\n",
    "        for k in range (number_of_users):\n",
    "            if (counted[k] == False):\n",
    "                continue\n",
    "            if (k == i):\n",
    "                num_grad_C_bk_to_w_k = 2 * (HermTranspose(Z_b[k]) @ Z_b[k] @ w[k])\n",
    "                den_grad_C_bk_to_w_k = (1 + gamma_b[k]) * np.log(2) * (1 + sum([abs(Z_b[k] @ w[j]) for j in range (number_of_users) if j != k]))\n",
    "                grad_C_bk_to_w_k = num_grad_C_bk_to_w_k / den_grad_C_bk_to_w_k\n",
    "\n",
    "                num_grad_C_e_max_to_w_k = 2 * (HermTranspose(Z_e_max[k]) @ Z_e_max[k] @ w[k])\n",
    "                den_grad_C_e_max_to_w_k = (1 + gamma_e_max[k]) * np.log(2) * (1 + sum([abs(Z_e_max[k] @ w[j]) for j in range (number_of_users) if j != k]))\n",
    "                grad_C_e_max_to_w_k = num_grad_C_e_max_to_w_k / den_grad_C_e_max_to_w_k\n",
    "                \n",
    "                #print(\"num_grad_C_e_max_to_w_k\", num_grad_C_e_max_to_w_k.shape)\n",
    "                #print(\"den_grad_C_e_max_to_w_k\", den_grad_C_e_max_to_w_k.shape)\n",
    "                grad = grad - (grad_C_bk_to_w_k - grad_C_e_max_to_w_k)\n",
    "            else:\n",
    "                num_grad_C_bk_to_w_i = -2 * abs(Z_b[k] @ w[k]) * (HermTranspose(Z_b[k]) @ Z_b[k] @ w[i])\n",
    "                den_grad_C_bk_to_w_i = (1 + gamma_b[k]) * np.log(2) * (1 + sum([abs(Z_b[k] @ w[j]) for j in range (number_of_users) if j != k])) ** 2\n",
    "                grad_C_bk_to_w_i = num_grad_C_bk_to_w_i / den_grad_C_bk_to_w_i\n",
    "\n",
    "                num_grad_C_e_max_to_w_i = -2 * abs(Z_e_max[k] @ w[k]) * (HermTranspose(Z_e_max[k]) @ Z_e_max[k] @ w[i])\n",
    "                den_grad_C_e_max_to_w_i = (1 + gamma_e_max[k]) * np.log(2) * (1 + sum([abs(Z_e_max[k] @ w[j]) for j in range (number_of_users) if j != k])) ** 2\n",
    "                grad_C_e_max_to_w_i = num_grad_C_e_max_to_w_i / den_grad_C_e_max_to_w_i\n",
    "\n",
    "                grad = grad - (grad_C_bk_to_w_i - grad_C_e_max_to_w_i)\n",
    "            \n",
    "        grad_w.append(grad)\n",
    "    return grad_w\n",
    "\n",
    "def compute_gradient_theta(theta, w, epsilon=1e-3):\n",
    "    grad_theta = []\n",
    "    for i in range(Nris):\n",
    "        theta_plus = deepcopy(theta)\n",
    "        theta_plus[0, i] += epsilon + epsilon*1j\n",
    "        theta_minus = deepcopy(theta)\n",
    "        theta_minus[0, i] -= epsilon + epsilon*1j\n",
    "        grad_theta_i = (secrecy_rate_objective_function(theta_plus, w) - secrecy_rate_objective_function(theta_minus, w))/(2*epsilon)\n",
    "        grad_theta.append(grad_theta_i)\n",
    "            \n",
    "    return np.array(grad_theta).reshape(1, Nris)\n",
    "\n",
    "\n",
    "\n",
    "def gradient_descent_update(w, theta, learning_rate):\n",
    "    grad_w = compute_gradient_w(theta, w)\n",
    "    grad_theta = compute_gradient_theta(theta, w)\n",
    "    w_new = [w[i] - learning_rate * grad_w[i] for i in range (number_of_users)]\n",
    "    total_norm = 0\n",
    "    for i in range (number_of_users):\n",
    "        total_norm += np.linalg.norm(w_new[i])\n",
    "    for i in range (number_of_users):\n",
    "        w_new[i] = w_new[i] / total_norm\n",
    "        \n",
    "    theta_new = theta - learning_rate * grad_theta\n",
    "    theta_new = np.exp(1j * np.angle(theta_new))\n",
    "\n",
    "    return w_new, theta_new\n",
    "\n"
   ]
  },
  {
   "cell_type": "code",
   "execution_count": 10,
   "metadata": {},
   "outputs": [
    {
     "name": "stdout",
     "output_type": "stream",
     "text": [
      "Initial Secrecy Rate GD: [[1.20802389]]\n",
      "Converged\n",
      "[array([[1.03043829]]), array([[6.11845475]]), array([[8.69715255]]), array([[9.87121869]]), array([[10.61581217]]), array([[11.15332978]]), array([[11.54677372]]), array([[11.83738237]]), array([[12.05517328]]), array([[12.22090575]]), array([[12.34873057]]), array([[12.448499]]), array([[12.52741932]]), array([[12.59054888]]), array([[12.64166706]]), array([[12.68359823]]), array([[12.71846782]]), array([[12.7478812]]), array([[12.77305394]]), array([[12.79490782]]), array([[12.81414254]]), array([[12.83128971]]), array([[12.84675373]]), array([[12.86084281]]), array([[12.87379244]]), array([[12.88578328]]), array([[12.89695463]]), array([[12.90741461]]), array([[12.91724789]]), array([[12.92652146]]), array([[12.93528895]]), array([[12.94359396]]), array([[12.95147244]]), array([[12.95895454]]), array([[12.96606601]]), array([[12.97282918]]), array([[12.97926375]]), array([[12.98538735]]), array([[12.99121597]]), array([[12.99676427]]), array([[13.00204585]]), array([[13.00707339]]), array([[13.01185881]]), array([[13.01641339]]), array([[13.02074778]]), array([[13.02487214]]), array([[13.02879615]]), array([[13.03252903]]), array([[13.03607963]]), array([[13.03945637]]), array([[13.04266734]]), array([[13.04572026]]), array([[13.04862253]]), array([[13.05138124]]), array([[13.05400316]]), array([[13.05649477]]), array([[13.05886228]]), array([[13.06111162]]), array([[13.06324846]]), array([[13.06527821]]), array([[13.06720606]]), array([[13.06903694]]), array([[13.07077559]]), array([[13.0724265]]), array([[13.07399397]]), array([[13.07548211]]), array([[13.07689483]]), array([[13.07823584]]), array([[13.07950871]]), array([[13.08071683]]), array([[13.08186341]]), array([[13.08295152]]), array([[13.0839841]]), array([[13.08496392]]), array([[13.08589363]]), array([[13.08677575]]), array([[13.08761269]]), array([[13.08840672]]), array([[13.08916]]), array([[13.08987461]]), array([[13.09055251]]), array([[13.09119555]]), array([[13.09180551]]), array([[13.09238408]]), array([[13.09293285]]), array([[13.09345334]]), array([[13.09394699]]), array([[13.09441519]]), array([[13.09485922]]), array([[13.09528033]]), array([[13.09567969]]), array([[13.09605842]]), array([[13.09641757]]), array([[13.09675816]]), array([[13.09708113]]), array([[13.09738739]]), array([[13.0976778]]), array([[13.09795317]]), array([[13.09821429]]), array([[13.09846189]]), array([[13.09869665]]), array([[13.09891925]]), array([[13.09913032]]), array([[13.09933044]]), array([[13.09952019]]), array([[13.09970009]]), array([[13.09987067]]), array([[13.10003239]]), array([[13.10018572]]), array([[13.1003311]]), array([[13.10046893]]), array([[13.1005996]]), array([[13.10072349]]), array([[13.10084095]]), array([[13.10095231]]), array([[13.10105788]]), array([[13.10115797]]), array([[13.10125286]]), array([[13.10134282]]), array([[13.1014281]]), array([[13.10150896]]), array([[13.10158561]]), array([[13.10165827]]), array([[13.10172716]]), array([[13.10179247]]), array([[13.10185438]]), array([[13.10191307]]), array([[13.10196871]]), array([[13.10202146]]), array([[13.10207146]]), array([[13.10211886]]), array([[13.1021638]]), array([[13.10220639]]), array([[13.10224678]]), array([[13.10228506]]), array([[13.10232134]]), array([[13.10235574]]), array([[13.10238835]]), array([[13.10241926]]), array([[13.10244857]]), array([[13.10247634]]), array([[13.10250267]]), array([[13.10252763]]), array([[13.10255129]]), array([[13.10257372]]), array([[13.10259498]]), array([[13.10261513]]), array([[13.10263423]]), array([[13.10265234]]), array([[13.1026695]]), array([[13.10268577]]), array([[13.10270119]]), array([[13.1027158]]), array([[13.10272965]]), array([[13.10274279]]), array([[13.10275523]]), array([[13.10276703]]), array([[13.10277821]]), array([[13.10278881]]), array([[13.10279885]]), array([[13.10280837]]), array([[13.10281739]]), array([[13.10282594]]), array([[13.10283405]]), array([[13.10284173]]), array([[13.10284901]]), array([[13.10285591]]), array([[13.10286244]]), array([[13.10286864]]), array([[13.10287451]]), array([[13.10288008]]), array([[13.10288535]]), array([[13.10289034]]), array([[13.10289508]]), array([[13.10289957]]), array([[13.10290382]]), array([[13.10290784]]), array([[13.10291166]]), array([[13.10291527]]), array([[13.1029187]]), array([[13.10292195]]), array([[13.10292502]]), array([[13.10292793]]), array([[13.10293069]]), array([[13.1029333]]), array([[13.10293578]]), array([[13.10293812]]), array([[13.10294034]]), array([[13.10294245]]), array([[13.10294444]]), array([[13.10294633]]), array([[13.10294811]]), array([[13.1029498]]), array([[13.1029514]]), array([[13.10295292]]), array([[13.10295435]]), array([[13.10295571]]), array([[13.102957]]), array([[13.10295821]]), array([[13.10295936]]), array([[13.10296045]]), array([[13.10296148]]), array([[13.10296246]]), array([[13.10296338]]), array([[13.10296425]]), array([[13.10296508]]), array([[13.10296586]]), array([[13.1029666]]), array([[13.10296729]]), array([[13.10296795]]), array([[13.10296857]]), array([[13.10296916]]), array([[13.10296972]]), array([[13.10297024]]), array([[13.10297074]]), array([[13.1029712]]), array([[13.10297165]]), array([[13.10297206]]), array([[13.10297245]]), array([[13.10297282]]), array([[13.10297317]]), array([[13.1029735]]), array([[13.10297381]]), array([[13.1029741]]), array([[13.10297438]]), array([[13.10297463]]), array([[13.10297488]]), array([[13.1029751]]), array([[13.10297532]]), array([[13.10297552]]), array([[13.10297571]]), array([[13.10297588]]), array([[13.10297605]]), array([[13.1029762]]), array([[13.10297635]]), array([[13.10297648]]), array([[13.10297661]]), array([[13.10297673]]), array([[13.10297684]]), array([[13.10297694]]), array([[13.10297703]]), array([[13.10297712]]), array([[13.1029772]]), array([[13.10297727]]), array([[13.10297734]]), array([[13.10297741]]), array([[13.10297746]]), array([[13.10297752]]), array([[13.10297756]]), array([[13.10297761]]), array([[13.10297765]]), array([[13.10297768]]), array([[13.10297771]]), array([[13.10297774]]), array([[13.10297777]]), array([[13.10297779]]), array([[13.1029778]]), array([[13.10297782]]), array([[13.10297783]]), array([[13.10297784]]), array([[13.10297785]]), array([[13.10297785]]), array([[13.10297785]])]\n",
      "Final Secrecy Rate GD: [[13.10297785]]\n"
     ]
    }
   ],
   "source": [
    "# Reseed first\n",
    "np.random.seed(RANDOM_SEED)\n",
    "\n",
    "# Gradient Descent Algorithm\n",
    "num_cycles = 500\n",
    "learning_rate = 0.01\n",
    "theta_GD = generate_random_theta()\n",
    "w_GD = generate_random_beamforming_vectors()\n",
    "print(\"Initial Secrecy Rate GD:\", secrecy_rate_objective_function(theta_GD, w_GD))\n",
    "current_secrecy_rate = secrecy_rate_objective_function(theta_init, w_init)\n",
    "\n",
    "GD_results = []\n",
    "GD_results.append(current_secrecy_rate)\n",
    "\n",
    "for i in range(num_cycles):\n",
    "    w_new, theta_new = gradient_descent_update(w_GD, theta_GD, learning_rate)\n",
    "    new_secrecy_rate = secrecy_rate_objective_function(theta_new, w_new)\n",
    "    # print(new_secrecy_rate)\n",
    "    if (new_secrecy_rate - current_secrecy_rate) < 1e-9:\n",
    "        print(\"Converged\")\n",
    "        break\n",
    "    w_GD = w_new\n",
    "    theta_GD = theta_new\n",
    "    GD_results.append(new_secrecy_rate)\n",
    "    current_secrecy_rate = new_secrecy_rate\n",
    "\n",
    "print(GD_results)\n",
    "print(\"Final Secrecy Rate GD:\", secrecy_rate_objective_function(theta_GD, w_GD))"
   ]
  },
  {
   "cell_type": "markdown",
   "metadata": {},
   "source": [
    "## Particle Swarm Optimization (PSO)"
   ]
  },
  {
   "cell_type": "code",
   "execution_count": 11,
   "metadata": {},
   "outputs": [],
   "source": [
    "class PSOParticle:\n",
    "  def __init__(self) -> None:\n",
    "    self.theta = generate_random_theta_angles(Nris)\n",
    "    self.w = generate_random_beamforming_vectors()\n",
    "    self.best_theta = deepcopy(self.theta)\n",
    "    self.best_w = deepcopy(self.w)\n",
    "    self.best_secrecy_rate = secrecy_rate_objective_function(theta_angles_to_theta_vector(self.best_theta), self.best_w)\n",
    "    self.velocity_theta = np.zeros((1, Nris))\n",
    "    self.velocity_w = [np.zeros((N, 1)) for i in range(number_of_users)]\n",
    "\n",
    "  def update_velocity(self, inertia, c1, c2, global_best_theta, global_best_w):\n",
    "    self.velocity_theta = inertia * self.velocity_theta + c1 * np.random.rand() * (self.best_theta - self.theta) + c2 * np.random.rand() * (global_best_theta - self.theta)\n",
    "    self.velocity_w = [inertia * self.velocity_w[i] + c1 * np.random.rand() * (self.best_w[i] - self.w[i]) + c2 * np.random.rand() * (global_best_w[i] - self.w[i]) for i in range(number_of_users)]\n",
    "\n",
    "  def update_position(self):\n",
    "    self.theta = self.theta + self.velocity_theta\n",
    "    self.w = [self.w[i] + self.velocity_w[i] for i in range(number_of_users)]\n",
    "    total_norm = 0\n",
    "    for i in range (number_of_users):\n",
    "        total_norm += np.linalg.norm(self.w[i])\n",
    "    for i in range(number_of_users):\n",
    "        self.w[i] = self.w[i] / total_norm\n",
    "\n",
    "\n",
    "  def update_best(self):\n",
    "    current_secrecy_rate = secrecy_rate_objective_function(theta_angles_to_theta_vector(self.theta), self.w)\n",
    "    if current_secrecy_rate > self.best_secrecy_rate:\n",
    "      self.best_secrecy_rate = current_secrecy_rate\n",
    "      self.best_theta = deepcopy(self.theta)\n",
    "      self.best_w = deepcopy(self.w)"
   ]
  },
  {
   "cell_type": "code",
   "execution_count": 12,
   "metadata": {},
   "outputs": [],
   "source": [
    "def dynamic_inertia(i, max_iter, inertia_max, inertia_min):\n",
    "  E_t = float((max_iter - i - 1)/max_iter)\n",
    "  inertia = inertia_min + (inertia_max - inertia_min) * (2 /(1 + (np.e ** (-5 * E_t))) - 1)\n",
    "  return inertia"
   ]
  },
  {
   "cell_type": "code",
   "execution_count": 13,
   "metadata": {},
   "outputs": [],
   "source": [
    "def PSO_optimize_w_theta(max_iter: int, num_particles: int, w_min: float, w_max: float, c1: float, c2: float):\n",
    "  particles = [PSOParticle() for _ in range(num_particles)]\n",
    "  global_best_secrecy_rate = -np.inf\n",
    "  global_best_theta = np.zeros((1, Nris))\n",
    "  global_best_w = [np.zeros((N, 1)) for i in range(number_of_users)]\n",
    "\n",
    "  results_secrecy_rate = []\n",
    "\n",
    "  for particle in particles:\n",
    "    if particle.best_secrecy_rate > global_best_secrecy_rate:\n",
    "      global_best_secrecy_rate = particle.best_secrecy_rate\n",
    "      global_best_theta = deepcopy(particle.best_theta)\n",
    "      global_best_w = deepcopy(particle.best_w)\n",
    "      results_secrecy_rate.append(global_best_secrecy_rate)\n",
    "  for iteration in range(max_iter):\n",
    "    inertia = dynamic_inertia(iteration, max_iter, w_max, w_min)\n",
    "\n",
    "    for particle in particles:\n",
    "      particle.update_velocity(inertia, c1, c2, global_best_theta, global_best_w)\n",
    "      particle.update_position()\n",
    "      particle.update_best()\n",
    "\n",
    "      if particle.best_secrecy_rate > global_best_secrecy_rate:\n",
    "        global_best_secrecy_rate = particle.best_secrecy_rate\n",
    "        global_best_theta = deepcopy(particle.best_theta)\n",
    "        global_best_w = deepcopy(particle.best_w)\n",
    "\n",
    "    results_secrecy_rate.append(global_best_secrecy_rate)\n",
    "\n",
    "  return results_secrecy_rate"
   ]
  },
  {
   "cell_type": "code",
   "execution_count": 14,
   "metadata": {},
   "outputs": [
    {
     "ename": "KeyboardInterrupt",
     "evalue": "",
     "output_type": "error",
     "traceback": [
      "\u001b[0;31m---------------------------------------------------------------------------\u001b[0m",
      "\u001b[0;31mKeyboardInterrupt\u001b[0m                         Traceback (most recent call last)",
      "Cell \u001b[0;32mIn[14], line 12\u001b[0m\n\u001b[1;32m      9\u001b[0m c1 \u001b[38;5;241m=\u001b[39m \u001b[38;5;241m1\u001b[39m\n\u001b[1;32m     10\u001b[0m c2 \u001b[38;5;241m=\u001b[39m \u001b[38;5;241m1\u001b[39m\n\u001b[0;32m---> 12\u001b[0m PSO_results \u001b[38;5;241m=\u001b[39m \u001b[43mPSO_optimize_w_theta\u001b[49m\u001b[43m(\u001b[49m\u001b[43mmax_iter\u001b[49m\u001b[43m,\u001b[49m\u001b[43m \u001b[49m\u001b[43mnum_particles\u001b[49m\u001b[43m,\u001b[49m\u001b[43m \u001b[49m\u001b[43mw_min\u001b[49m\u001b[43m,\u001b[49m\u001b[43m \u001b[49m\u001b[43mw_max\u001b[49m\u001b[43m,\u001b[49m\u001b[43m \u001b[49m\u001b[43mc1\u001b[49m\u001b[43m,\u001b[49m\u001b[43m \u001b[49m\u001b[43mc2\u001b[49m\u001b[43m)\u001b[49m\n\u001b[1;32m     13\u001b[0m \u001b[38;5;28mprint\u001b[39m(\u001b[38;5;124m\"\u001b[39m\u001b[38;5;124mInitial Secrecy Rate PSO:\u001b[39m\u001b[38;5;124m\"\u001b[39m, PSO_results[\u001b[38;5;241m0\u001b[39m])\n\u001b[1;32m     14\u001b[0m \u001b[38;5;28mprint\u001b[39m(PSO_results)\n",
      "Cell \u001b[0;32mIn[13], line 21\u001b[0m, in \u001b[0;36mPSO_optimize_w_theta\u001b[0;34m(max_iter, num_particles, w_min, w_max, c1, c2)\u001b[0m\n\u001b[1;32m     19\u001b[0m particle\u001b[38;5;241m.\u001b[39mupdate_velocity(inertia, c1, c2, global_best_theta, global_best_w)\n\u001b[1;32m     20\u001b[0m particle\u001b[38;5;241m.\u001b[39mupdate_position()\n\u001b[0;32m---> 21\u001b[0m \u001b[43mparticle\u001b[49m\u001b[38;5;241;43m.\u001b[39;49m\u001b[43mupdate_best\u001b[49m\u001b[43m(\u001b[49m\u001b[43m)\u001b[49m\n\u001b[1;32m     23\u001b[0m \u001b[38;5;28;01mif\u001b[39;00m particle\u001b[38;5;241m.\u001b[39mbest_secrecy_rate \u001b[38;5;241m>\u001b[39m global_best_secrecy_rate:\n\u001b[1;32m     24\u001b[0m   global_best_secrecy_rate \u001b[38;5;241m=\u001b[39m particle\u001b[38;5;241m.\u001b[39mbest_secrecy_rate\n",
      "Cell \u001b[0;32mIn[11], line 26\u001b[0m, in \u001b[0;36mPSOParticle.update_best\u001b[0;34m(self)\u001b[0m\n\u001b[1;32m     25\u001b[0m \u001b[38;5;28;01mdef\u001b[39;00m \u001b[38;5;21mupdate_best\u001b[39m(\u001b[38;5;28mself\u001b[39m):\n\u001b[0;32m---> 26\u001b[0m   current_secrecy_rate \u001b[38;5;241m=\u001b[39m \u001b[43msecrecy_rate_objective_function\u001b[49m\u001b[43m(\u001b[49m\u001b[43mtheta_angles_to_theta_vector\u001b[49m\u001b[43m(\u001b[49m\u001b[38;5;28;43mself\u001b[39;49m\u001b[38;5;241;43m.\u001b[39;49m\u001b[43mtheta\u001b[49m\u001b[43m)\u001b[49m\u001b[43m,\u001b[49m\u001b[43m \u001b[49m\u001b[38;5;28;43mself\u001b[39;49m\u001b[38;5;241;43m.\u001b[39;49m\u001b[43mw\u001b[49m\u001b[43m)\u001b[49m\n\u001b[1;32m     27\u001b[0m   \u001b[38;5;28;01mif\u001b[39;00m current_secrecy_rate \u001b[38;5;241m>\u001b[39m \u001b[38;5;28mself\u001b[39m\u001b[38;5;241m.\u001b[39mbest_secrecy_rate:\n\u001b[1;32m     28\u001b[0m     \u001b[38;5;28mself\u001b[39m\u001b[38;5;241m.\u001b[39mbest_secrecy_rate \u001b[38;5;241m=\u001b[39m current_secrecy_rate\n",
      "Cell \u001b[0;32mIn[7], line 14\u001b[0m, in \u001b[0;36msecrecy_rate_objective_function\u001b[0;34m(theta, w)\u001b[0m\n\u001b[1;32m     10\u001b[0m C_bk \u001b[38;5;241m=\u001b[39m np\u001b[38;5;241m.\u001b[39mlog2(\u001b[38;5;241m1\u001b[39m \u001b[38;5;241m+\u001b[39m gamma_bk)\n\u001b[1;32m     12\u001b[0m \u001b[38;5;28;01mfor\u001b[39;00m m \u001b[38;5;129;01min\u001b[39;00m \u001b[38;5;28mrange\u001b[39m(number_of_eavesdroppers):\n\u001b[1;32m     13\u001b[0m     \u001b[38;5;66;03m# Eavesdropper i\u001b[39;00m\n\u001b[0;32m---> 14\u001b[0m     Z_em \u001b[38;5;241m=\u001b[39m hie[m] \u001b[38;5;241m@\u001b[39m \u001b[43mnp\u001b[49m\u001b[38;5;241;43m.\u001b[39;49m\u001b[43mdiag\u001b[49m\u001b[43m(\u001b[49m\u001b[43mtheta\u001b[49m\u001b[38;5;241;43m.\u001b[39;49m\u001b[43mflatten\u001b[49m\u001b[43m(\u001b[49m\u001b[43m)\u001b[49m\u001b[43m)\u001b[49m \u001b[38;5;241m@\u001b[39m Hai \u001b[38;5;241m+\u001b[39m hae[m]\n\u001b[1;32m     15\u001b[0m     numGamma_em \u001b[38;5;241m=\u001b[39m np\u001b[38;5;241m.\u001b[39mabs(Z_em \u001b[38;5;241m@\u001b[39m w[k])\u001b[38;5;241m*\u001b[39m\u001b[38;5;241m*\u001b[39m\u001b[38;5;241m2\u001b[39m\n\u001b[1;32m     16\u001b[0m     denGamma_em \u001b[38;5;241m=\u001b[39m \u001b[38;5;241m1\u001b[39m \u001b[38;5;241m+\u001b[39m np\u001b[38;5;241m.\u001b[39msum([np\u001b[38;5;241m.\u001b[39mabs(Z_em \u001b[38;5;241m@\u001b[39m w[j])\u001b[38;5;241m*\u001b[39m\u001b[38;5;241m*\u001b[39m\u001b[38;5;241m2\u001b[39m \u001b[38;5;28;01mfor\u001b[39;00m j \u001b[38;5;129;01min\u001b[39;00m \u001b[38;5;28mrange\u001b[39m(number_of_users) \u001b[38;5;28;01mif\u001b[39;00m j \u001b[38;5;241m!=\u001b[39m k])\n",
      "\u001b[0;31mKeyboardInterrupt\u001b[0m: "
     ]
    }
   ],
   "source": [
    "# Reseed\n",
    "np.random.seed(RANDOM_SEED)\n",
    "\n",
    "# PSO Algorithm\n",
    "max_iter = 500\n",
    "num_particles = 100\n",
    "w_min = 0.4\n",
    "w_max = 0.9\n",
    "c1 = 1\n",
    "c2 = 1\n",
    "\n",
    "PSO_results = PSO_optimize_w_theta(max_iter, num_particles, w_min, w_max, c1, c2)\n",
    "print(\"Initial Secrecy Rate PSO:\", PSO_results[0])\n",
    "print(PSO_results)\n",
    "print(\"Final Secrecy Rate PSO:\", PSO_results[-1])"
   ]
  },
  {
   "cell_type": "markdown",
   "metadata": {},
   "source": [
    "## Genetic Algorithm (GA)"
   ]
  },
  {
   "cell_type": "code",
   "execution_count": 215,
   "metadata": {},
   "outputs": [],
   "source": [
    "class GAIndividual:\n",
    "  def __init__(self, theta: np.ndarray[np.float64] = None, w: np.ndarray[np.complex128] = None) -> None:\n",
    "    if theta is None:\n",
    "      self.theta = generate_random_theta_angles(Nris)\n",
    "    else:\n",
    "      self.theta = theta\n",
    "\n",
    "    if w is None:\n",
    "      self.w = generate_random_beamforming_vectors()\n",
    "    else:\n",
    "      self.w = w\n",
    "\n",
    "    self.fitness = secrecy_rate_objective_function(theta_angles_to_theta_vector(self.theta), self.w)\n",
    "\n",
    "  def update_fitness(self):\n",
    "    self.fitness = secrecy_rate_objective_function(theta_angles_to_theta_vector(self.theta), self.w)\n",
    "\n",
    "\n",
    "class GAPopulation:\n",
    "  def __init__(self, population_size: int, crossover_rate: float = 0.85, mutation_rate: float = 0.3) -> None:\n",
    "    self.population_size = population_size\n",
    "    self.individuals = [GAIndividual() for _ in range(population_size)]\n",
    "    self.crossover_rate = crossover_rate\n",
    "    self.mutation_rate = mutation_rate\n",
    "\n",
    "  def sort_population(self):\n",
    "    self.individuals.sort(key=lambda x: x.fitness, reverse=True)\n",
    "\n",
    "  def filter_population(self):\n",
    "    self.sort_population()\n",
    "    self.individuals = self.individuals[:self.population_size]\n",
    "\n",
    "  def add_individual(self, individual: GAIndividual):\n",
    "    self.individuals.append(individual)\n",
    "\n",
    "  def select_parents(self) -> tuple[GAIndividual, GAIndividual]:\n",
    "    parents = np.random.choice(self.individuals, 2, replace=False)\n",
    "    return parents[0], parents[1]\n",
    "  \n",
    "  def crossover(self, parent1: GAIndividual, parent2: GAIndividual) -> GAIndividual:\n",
    "    theta1, w1 = parent1.theta, parent1.w\n",
    "    theta2, w2 = parent2.theta, parent2.w\n",
    "    theta_child = (theta1 + theta2) / 2\n",
    "    w_child = [(w1[i] + w2[i]) / 2 for i in range(number_of_users)]\n",
    "    return GAIndividual(theta_child, w_child)\n",
    "  \n",
    "  def mutate(self, individual: GAIndividual) -> GAIndividual:\n",
    "    if np.random.rand() < self.mutation_rate:\n",
    "      mutation_index = np.random.randint(0, Nris)\n",
    "      individual.theta[0, mutation_index] = np.random.uniform(-np.pi, np.pi)\n",
    "      mutation_index = np.random.randint(len(individual.w))\n",
    "      individual.w[mutation_index] = generate_random_beamforming_vector()\n",
    "      individual.update_fitness()\n",
    "\n",
    "    return individual\n",
    "  \n",
    "def GA_optimize_w_theta(population_size: int, max_iter: int, crossover_rate: float = 0.85, mutation_rate: float = 0.85):\n",
    "  population = GAPopulation(population_size, crossover_rate, mutation_rate)\n",
    "  population.sort_population()\n",
    "  results_secrecy_rate = []\n",
    "  results_secrecy_rate.append(population.individuals[0].fitness)\n",
    "\n",
    "  for _ in range(max_iter):\n",
    "    # Crossover\n",
    "    for _ in range(population_size):\n",
    "      if np.random.rand() < population.crossover_rate:\n",
    "        parent1, parent2 = population.select_parents()\n",
    "        child = population.crossover(parent1, parent2)\n",
    "        population.add_individual(child)\n",
    "\n",
    "    # Mutation\n",
    "    for individual in population.individuals:\n",
    "      population.mutate(individual)\n",
    "\n",
    "    # Filter\n",
    "    population.filter_population()\n",
    "\n",
    "    results_secrecy_rate.append(population.individuals[0].fitness)\n",
    "\n",
    "  return results_secrecy_rate"
   ]
  },
  {
   "cell_type": "code",
   "execution_count": 216,
   "metadata": {},
   "outputs": [
    {
     "name": "stdout",
     "output_type": "stream",
     "text": [
      "Initial Secrecy Rate GA: [[3.78266934]]\n",
      "[array([[3.78266934]]), array([[7.57902128]]), array([[7.57902128]]), array([[7.14262824]]), array([[8.04509504]]), array([[8.04509504]]), array([[8.37335201]]), array([[8.37335201]]), array([[8.37335201]]), array([[8.37335201]]), array([[10.61018523]]), array([[8.29018434]]), array([[8.29018434]]), array([[8.65274537]]), array([[8.69233571]]), array([[9.12191631]]), array([[9.16578998]]), array([[9.16578998]]), array([[9.34078821]]), array([[9.92777604]]), array([[10.37470091]]), array([[10.31915349]]), array([[11.43114073]]), array([[11.43114073]]), array([[11.43114073]]), array([[11.43114073]]), array([[11.43114073]]), array([[10.75760636]]), array([[10.82717909]]), array([[10.82717909]]), array([[10.83825461]]), array([[10.82717909]]), array([[10.82717909]]), array([[12.72078038]]), array([[12.72078038]]), array([[12.72078038]]), array([[14.16761954]]), array([[12.44256423]]), array([[12.44256423]]), array([[12.54084084]]), array([[12.54084084]]), array([[12.54084084]]), array([[11.38730834]]), array([[11.29209527]]), array([[11.29209527]]), array([[11.60969174]]), array([[12.28056891]]), array([[12.28056891]]), array([[12.28056891]]), array([[12.28056891]]), array([[12.28056891]]), array([[12.28056891]]), array([[12.28056891]]), array([[12.28056891]]), array([[12.28056891]]), array([[12.25990588]]), array([[12.25990588]]), array([[12.25990588]]), array([[12.25990588]]), array([[12.55206362]]), array([[12.94751679]]), array([[12.26111008]]), array([[12.33981992]]), array([[12.36453627]]), array([[12.39189998]]), array([[13.91265382]]), array([[13.91265382]]), array([[13.42360993]]), array([[13.42360993]]), array([[12.35457893]]), array([[12.35457893]]), array([[12.35457893]]), array([[12.76014092]]), array([[13.53338756]]), array([[12.98554675]]), array([[12.98554675]]), array([[12.98554675]]), array([[12.98554675]]), array([[12.98554675]]), array([[12.98554675]]), array([[12.98554675]]), array([[12.98554675]]), array([[12.95919911]]), array([[13.30311968]]), array([[13.60672069]]), array([[14.05087774]]), array([[14.05087774]]), array([[14.05087774]]), array([[14.05087774]]), array([[14.05087774]]), array([[14.05087774]]), array([[14.70613906]]), array([[14.70613906]]), array([[14.70613906]]), array([[14.70613906]]), array([[14.70613906]]), array([[14.70613906]]), array([[14.70613906]]), array([[14.70613906]]), array([[14.70613906]]), array([[14.70613906]]), array([[14.70613906]]), array([[14.70613906]]), array([[14.70613906]]), array([[14.70613906]]), array([[14.70613906]]), array([[13.86022603]]), array([[13.7982635]]), array([[13.7982635]]), array([[14.53329963]]), array([[14.0449624]]), array([[14.04258916]]), array([[14.04258916]]), array([[14.03068533]]), array([[14.15914674]]), array([[14.15914674]]), array([[14.15914674]]), array([[13.75956385]]), array([[13.74474639]]), array([[13.74474639]]), array([[13.74474639]]), array([[13.74474639]]), array([[13.99836189]]), array([[13.99836189]]), array([[13.99836189]]), array([[13.99836189]]), array([[14.01531906]]), array([[14.01531906]]), array([[13.73505081]]), array([[13.73505081]]), array([[13.73432164]]), array([[13.73432164]]), array([[13.73359348]]), array([[13.73359348]]), array([[13.73198401]]), array([[13.73198401]]), array([[13.73198401]]), array([[13.7316458]]), array([[13.73148466]]), array([[14.97529372]]), array([[14.76612672]]), array([[14.33453137]]), array([[14.33453137]]), array([[13.73154177]]), array([[13.73154177]]), array([[13.73154177]]), array([[13.73148339]]), array([[13.73148339]]), array([[13.73143755]]), array([[13.73143755]]), array([[13.79284863]]), array([[13.79284863]]), array([[13.90539747]]), array([[13.90735062]]), array([[13.90448463]]), array([[13.90448463]]), array([[14.64962921]]), array([[14.64962921]]), array([[14.64962921]]), array([[14.64962921]]), array([[14.64962921]]), array([[14.64962921]]), array([[14.64962921]]), array([[14.64962921]]), array([[14.64962921]]), array([[13.73138886]]), array([[13.73138698]]), array([[13.73138675]]), array([[13.73138638]]), array([[13.73138635]]), array([[13.73138622]]), array([[13.73138622]]), array([[13.73138622]]), array([[13.73138622]]), array([[13.73138595]]), array([[13.73138595]]), array([[13.73138595]]), array([[13.73138595]]), array([[13.73138576]]), array([[13.73138575]]), array([[13.73138575]]), array([[13.73138572]]), array([[13.73138572]]), array([[13.73138569]]), array([[13.73138569]]), array([[13.73138569]]), array([[13.73138567]]), array([[13.73138567]]), array([[14.01173934]]), array([[14.67064944]]), array([[14.67064944]]), array([[14.67065272]]), array([[14.67065272]]), array([[14.67065013]]), array([[14.67064984]]), array([[14.67064984]]), array([[14.67064984]]), array([[14.67064984]]), array([[14.67064984]]), array([[15.27490084]]), array([[15.27490084]]), array([[14.89376898]]), array([[14.67064984]]), array([[14.67064984]]), array([[14.64810273]]), array([[14.64810273]]), array([[14.64810273]]), array([[14.64810273]]), array([[14.64810273]]), array([[14.64810273]]), array([[14.64810273]]), array([[14.64810273]]), array([[14.64810273]]), array([[14.64810273]]), array([[14.64809511]]), array([[14.63944024]]), array([[14.63944024]]), array([[14.63782801]]), array([[14.63782801]]), array([[14.63782801]]), array([[14.63782801]]), array([[14.63782801]]), array([[14.63782801]]), array([[14.63782801]]), array([[14.63782801]]), array([[14.63782801]]), array([[14.63782801]]), array([[14.63125638]]), array([[14.63125638]]), array([[14.63125638]]), array([[14.85724112]]), array([[15.58593255]]), array([[15.58593255]]), array([[15.58593255]]), array([[15.58593255]]), array([[15.41910647]]), array([[15.41910647]]), array([[15.41827252]]), array([[15.41827252]]), array([[15.41822897]]), array([[15.41822897]]), array([[15.41822897]]), array([[15.41822897]]), array([[15.14574527]]), array([[15.14574527]]), array([[15.13812293]]), array([[15.13812293]]), array([[15.13812293]]), array([[15.13812293]]), array([[15.13812293]]), array([[15.13812293]]), array([[15.13812293]]), array([[15.13812293]]), array([[15.10266149]]), array([[15.0831203]]), array([[15.0831203]]), array([[15.0831203]]), array([[15.08175847]]), array([[15.08175847]]), array([[15.08175847]]), array([[15.08175847]]), array([[15.08175847]]), array([[15.08175847]]), array([[15.08175847]]), array([[15.06863747]]), array([[15.06863747]]), array([[15.0617047]]), array([[15.06164959]]), array([[15.06164959]]), array([[15.06164959]]), array([[15.06164959]]), array([[15.06164959]]), array([[15.06164959]]), array([[15.06164959]]), array([[15.06164959]]), array([[15.06164959]]), array([[15.06164959]]), array([[15.12989655]]), array([[15.12989655]]), array([[15.12989655]]), array([[15.05881782]]), array([[15.05879081]]), array([[15.05879081]]), array([[15.05877256]]), array([[15.05877256]]), array([[15.05877256]]), array([[15.05877256]]), array([[15.05860562]]), array([[15.05859769]]), array([[15.05855919]]), array([[15.05855919]]), array([[15.05855919]]), array([[15.05855919]]), array([[15.05855919]]), array([[15.76349485]]), array([[15.05853208]]), array([[15.05853208]]), array([[15.05853208]]), array([[15.05853132]]), array([[15.05853132]]), array([[15.05852443]]), array([[15.05852443]]), array([[15.05852153]]), array([[15.05852093]]), array([[15.05852093]]), array([[15.05852093]]), array([[15.05852016]]), array([[15.05852016]]), array([[15.05852016]]), array([[15.05851975]]), array([[15.05851975]]), array([[15.05851975]]), array([[15.05851975]]), array([[15.74403403]]), array([[15.74403403]]), array([[15.74403403]]), array([[15.74403403]]), array([[15.74403403]]), array([[15.05851955]]), array([[15.05851955]]), array([[15.05851955]]), array([[15.45628896]]), array([[15.96955828]]), array([[15.96955828]]), array([[15.05851955]]), array([[15.05851955]]), array([[15.05851955]]), array([[15.05851949]]), array([[15.05851947]]), array([[15.05851947]]), array([[15.05851947]]), array([[15.05851947]]), array([[15.05851946]]), array([[15.05851946]]), array([[15.05851946]]), array([[15.05851946]]), array([[15.05851946]]), array([[15.05851946]]), array([[15.05851946]]), array([[15.05851946]]), array([[15.05851946]]), array([[15.05851946]]), array([[15.05851946]]), array([[15.05851946]]), array([[15.05851946]]), array([[15.05851946]]), array([[15.05851946]]), array([[15.05851946]]), array([[15.05851946]]), array([[15.05851946]]), array([[15.05851946]]), array([[15.05851946]]), array([[15.05851946]]), array([[15.05851946]]), array([[15.05851946]]), array([[15.05851946]]), array([[15.05851946]]), array([[15.05851946]]), array([[15.05851946]]), array([[15.05851946]]), array([[15.05851946]]), array([[15.05851946]]), array([[15.05851946]]), array([[15.05851946]]), array([[15.05851946]]), array([[15.05851946]]), array([[15.05851946]]), array([[15.05851946]]), array([[15.05851946]]), array([[15.05851946]]), array([[15.05851946]]), array([[15.05851946]]), array([[15.05851946]]), array([[15.05851946]]), array([[15.05851946]]), array([[15.05851946]]), array([[15.05851946]]), array([[15.05851946]]), array([[15.05851946]]), array([[15.05851946]]), array([[15.05851946]]), array([[15.05851946]]), array([[15.05851946]]), array([[15.05851946]]), array([[15.05851946]]), array([[15.05851946]]), array([[15.05851946]]), array([[15.05851946]]), array([[15.05851946]]), array([[15.05851946]]), array([[15.05851946]]), array([[15.05851946]]), array([[15.05851946]]), array([[15.05851946]]), array([[15.05851946]]), array([[15.05851946]]), array([[15.05851946]]), array([[15.05851946]]), array([[15.05851946]]), array([[15.05851946]]), array([[15.05851946]]), array([[15.05851946]]), array([[15.05851946]]), array([[15.05851946]]), array([[15.05851946]]), array([[15.05851946]]), array([[15.05851946]]), array([[15.05851946]]), array([[15.05851946]]), array([[15.05851946]]), array([[15.05851946]]), array([[15.05851946]]), array([[15.05851946]]), array([[15.05851946]]), array([[15.05851946]]), array([[15.2806579]]), array([[15.2806579]]), array([[15.05851946]]), array([[15.05851946]]), array([[15.05851946]]), array([[15.05851946]]), array([[15.05851946]]), array([[15.05851946]]), array([[15.05851946]]), array([[15.05851946]]), array([[15.05851946]]), array([[15.05851946]]), array([[15.05851946]]), array([[15.05851946]]), array([[15.05851946]]), array([[15.05851946]]), array([[15.05851946]]), array([[15.05851946]]), array([[15.05851946]]), array([[15.05851946]]), array([[15.05851946]]), array([[15.05851946]]), array([[15.05851946]]), array([[15.05851946]]), array([[15.05851946]]), array([[15.05851946]]), array([[15.05851946]]), array([[15.05851946]]), array([[15.05851946]]), array([[15.05851946]]), array([[15.05851946]]), array([[15.05851946]]), array([[15.05851946]]), array([[15.05851946]]), array([[15.05851946]]), array([[15.05851946]]), array([[15.05851946]]), array([[15.05851946]]), array([[15.05851946]]), array([[15.05851946]]), array([[15.05851946]]), array([[15.05851946]]), array([[15.05851946]]), array([[15.05851946]]), array([[15.07667311]]), array([[15.07667311]]), array([[15.25853262]]), array([[15.66824511]]), array([[15.60929105]]), array([[15.60929105]]), array([[15.66824511]]), array([[15.66824511]]), array([[15.69653175]]), array([[15.69653175]]), array([[15.69734185]]), array([[15.69788659]]), array([[15.69788659]]), array([[15.69788659]]), array([[15.69788659]]), array([[15.6970595]]), array([[15.6980023]]), array([[15.69803523]]), array([[15.69803523]]), array([[15.69803523]]), array([[15.69803523]]), array([[15.69803523]]), array([[15.69802402]]), array([[15.69795843]]), array([[15.69803872]]), array([[15.69795843]]), array([[15.69802579]]), array([[15.69802579]]), array([[15.69803145]]), array([[15.69803662]]), array([[15.69803662]]), array([[15.69803662]]), array([[15.69788389]]), array([[15.69788389]]), array([[15.69788389]]), array([[15.69788389]]), array([[16.81994044]]), array([[16.81994044]]), array([[16.37512351]]), array([[16.37512351]]), array([[16.37512351]]), array([[15.6976022]])]\n",
      "Final Secrecy Rate GA: [[15.6976022]]\n"
     ]
    }
   ],
   "source": [
    "population_size = 100\n",
    "num_generations = 500\n",
    "crossover_rate = 0.85\n",
    "mutation_rate = 0.3\n",
    "\n",
    "# Reseed\n",
    "np.random.seed(RANDOM_SEED)\n",
    "\n",
    "# GA Algorithm\n",
    "GA_results = GA_optimize_w_theta(population_size, num_generations, crossover_rate, mutation_rate)\n",
    "print(\"Initial Secrecy Rate GA:\", GA_results[0])\n",
    "print(GA_results)\n",
    "print(\"Final Secrecy Rate GA:\", GA_results[-1])"
   ]
  },
  {
   "cell_type": "markdown",
   "metadata": {},
   "source": [
    "## Combination of PSO and GD"
   ]
  },
  {
   "cell_type": "code",
   "execution_count": 21,
   "metadata": {},
   "outputs": [],
   "source": [
    "def PSO_GD(max_pso_iter, max_gd_iter, number_of_particles, learning_rate, w_max, w_min, c1, c2):\n",
    "    particles = [PSOParticle() for _ in range(number_of_particles)]\n",
    "    global_best_secrecy_rate = -np.inf\n",
    "    global_best_theta = np.zeros((1, Nris))\n",
    "    global_best_w = [np.zeros((N, 1)) for i in range(number_of_users)]\n",
    "\n",
    "    results_secrecy_rate = []\n",
    "\n",
    "    for particle in particles:\n",
    "        if particle.best_secrecy_rate > global_best_secrecy_rate:\n",
    "            global_best_secrecy_rate = particle.best_secrecy_rate\n",
    "            global_best_theta = deepcopy(particle.best_theta)\n",
    "            global_best_w = deepcopy(particle.best_w)\n",
    "            results_secrecy_rate.append(global_best_secrecy_rate)\n",
    "    \n",
    "    for iteration in range(max_pso_iter):\n",
    "        inertia = dynamic_inertia(iteration, max_iter, w_max, w_min)\n",
    "\n",
    "        \"\"\"\n",
    "            Gradient descent for every particles\n",
    "        \"\"\"\n",
    "        for particle in particles:\n",
    "            for _ in range (max_gd_iter):\n",
    "                new_w, new_theta = gradient_descent_update(particle.w, theta_angles_to_theta_vector(particle.theta), learning_rate)\n",
    "                particle.w = new_w\n",
    "                particle.theta = theta_vector_to_theta_angles(new_theta)\n",
    "                particle.update_best()\n",
    "\n",
    "            if particle.best_secrecy_rate > global_best_secrecy_rate:\n",
    "                global_best_secrecy_rate = particle.best_secrecy_rate\n",
    "                global_best_theta = deepcopy(particle.best_theta)\n",
    "                global_best_w = deepcopy(particle.best_w)\n",
    "\n",
    "        \"\"\"\n",
    "            Update particles by velocity\n",
    "        \"\"\"\n",
    "        \n",
    "        for particle in particles:\n",
    "            particle.update_velocity(inertia, c1, c2, global_best_theta, global_best_w)\n",
    "            particle.update_position()\n",
    "            particle.update_best()\n",
    "\n",
    "            if particle.best_secrecy_rate > global_best_secrecy_rate:\n",
    "                global_best_secrecy_rate = particle.best_secrecy_rate\n",
    "                global_best_theta = deepcopy(particle.best_theta)\n",
    "                global_best_w = deepcopy(particle.best_w)\n",
    "\n",
    "        results_secrecy_rate.append(global_best_secrecy_rate)\n",
    "\n",
    "    return results_secrecy_rate"
   ]
  },
  {
   "cell_type": "code",
   "execution_count": 22,
   "metadata": {},
   "outputs": [],
   "source": [
    "max_pso_iter = 50\n",
    "max_gd_iter = 10\n",
    "number_of_particles = 100\n",
    "w_max = 0.9\n",
    "w_min = 0.5\n",
    "c1 = 1\n",
    "c2 = 1\n",
    "PSO_GD_results = PSO_GD(max_pso_iter, max_gd_iter, number_of_particles, learning_rate, w_max, w_min, c1, c2)\n",
    "print(PSO_GD_results[:-1])\n",
    "    \n",
    "    "
   ]
  },
  {
   "cell_type": "markdown",
   "metadata": {},
   "source": [
    "# Plot diagram"
   ]
  },
  {
   "cell_type": "code",
   "execution_count": 35,
   "metadata": {},
   "outputs": [
    {
     "data": {
      "image/png": "[encoded data removed]",
      "text/plain": [
       "<Figure size 640x480 with 1 Axes>"
      ]
     },
     "metadata": {},
     "output_type": "display_data"
    }
   ],
   "source": [
    "iterations = range(0, num_cycles+10, 10)\n",
    "\n",
    "# Plotting the data\n",
    "plt.plot(iterations, GD_results, label='Gradient Descent')\n",
    "plt.plot(iterations, PSO_results, label='PSO')\n",
    "plt.plot(iterations, GA_results[0:len(iterations)], label='Genetic Algorithm')\n",
    "plt.plot(iterations, PSO_GD_results, label='PSO-GD')\n",
    "\n",
    "plt.xlabel('Iteration number')\n",
    "plt.ylabel('Secrecy rate (bps/Hz)')\n",
    "plt.grid(True)\n",
    "plt.legend()\n",
    "plt.show()\n"
   ]
  },
  {
   "cell_type": "code",
   "execution_count": 36,
   "metadata": {},
   "outputs": [
    {
     "name": "stdout",
     "output_type": "stream",
     "text": [
      "Best Secrecy Rate GD: [24.6548294]\n",
      "Best Secrecy Rate PSO: [11.27448635]\n",
      "Best Secrecy Rate GA: [17.00556469]\n",
      "Best Secrecy Rate PSO-GD: [25.62364522]\n"
     ]
    }
   ],
   "source": [
    "# Best results of each methods\n",
    "print(\"Best Secrecy Rate GD:\", max(GD_results))\n",
    "print(\"Best Secrecy Rate PSO:\", max(PSO_results))\n",
    "print(\"Best Secrecy Rate GA:\", max(GA_results))\n",
    "print(\"Best Secrecy Rate PSO-GD:\", max(PSO_GD_results))"
   ]
  }
 ],
 "metadata": {
  "kernelspec": {
   "display_name": "Python 3",
   "language": "python",
   "name": "python3"
  },
  "language_info": {
   "codemirror_mode": {
    "name": "ipython",
    "version": 3
   },
   "file_extension": ".py",
   "mimetype": "text/x-python",
   "name": "python",
   "nbconvert_exporter": "python",
   "pygments_lexer": "ipython3",
   "version": "3.11.5"
  }
 },
 "nbformat": 4,
 "nbformat_minor": 2
}
