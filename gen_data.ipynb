{
 "cells": [
  {
   "cell_type": "markdown",
   "metadata": {},
   "source": [
    "# Import Libraries"
   ]
  },
  {
   "cell_type": "code",
   "execution_count": 73,
   "metadata": {},
   "outputs": [],
   "source": [
    "import numpy as np\n",
    "import matplotlib.pyplot as plt\n",
    "from copy import deepcopy, copy\n",
    "import os\n",
    "from multiprocessing import Pool"
   ]
  },
  {
   "cell_type": "markdown",
   "metadata": {},
   "source": [
    "# Random seed"
   ]
  },
  {
   "cell_type": "code",
   "execution_count": 74,
   "metadata": {},
   "outputs": [],
   "source": [
    "RANDOM_SEED = 10\n",
    "np.random.seed(RANDOM_SEED)"
   ]
  },
  {
   "cell_type": "markdown",
   "metadata": {},
   "source": [
    "# Functions to transform the data"
   ]
  },
  {
   "cell_type": "code",
   "execution_count": 75,
   "metadata": {},
   "outputs": [],
   "source": [
    "# Function to transfer from dBW to W (power)\n",
    "def db2pow(db: float) -> float:\n",
    "    return 10**(db/10)\n",
    "\n",
    "# Function to transfer from W to dBW (power)\n",
    "def pow2db(pow: float) -> float:\n",
    "    return 10*np.log10(pow)\n",
    "\n",
    "# Hermitian transpose of a matrix\n",
    "def HermTranspose(x: np.ndarray) -> np.ndarray:\n",
    "    return x.conj().T\n",
    "\n",
    "def chanGen(zeta: float, d: float, dim1: int, dim2: int) -> np.ndarray:\n",
    "    \"\"\"Function to generate Rayleigh fading channel coefficients\n",
    "\n",
    "    Args:\n",
    "        zeta: ξ is the path loss exponent\n",
    "        d: the distance between the transmitter and the receiver\n",
    "        dim1: the number of rows in the channel matrix\n",
    "        dim2: the number of columns in the channel matrix\n",
    "    \"\"\"\n",
    "    pl_ref: float = -30                                    # pathloss (dBW) at reference distance\n",
    "    pl: float = db2pow(pl_ref - 10*zeta*np.log10(d))       # pathloss model at distance d\n",
    "    y: np.ndarray = np.sqrt(0.5*pl)*(np.random.randn(dim1,dim2)\\\n",
    "        + 1j*np.random.randn(dim1,dim2))            # Rayleigh distribution\n",
    "    return y"
   ]
  },
  {
   "cell_type": "markdown",
   "metadata": {},
   "source": [
    "# Parameters"
   ]
  },
  {
   "cell_type": "code",
   "execution_count": 76,
   "metadata": {},
   "outputs": [],
   "source": [
    "sigma = db2pow(-75)                                                                 # noise power\n",
    "N = 10                                                                              # number of transmit antennas\n",
    "zetaAI = 2.2                                                                        # Path loss exponent of the channel between the Alice and the RIS\n",
    "zetaIB = 2.5                                                                        # Path loss exponent of the channel between the legitimate receivers and the RIS\n",
    "zetaIE = 2.5                                                                        # Path loss exponent of the channel between the eavesdroppers and the RIS\n",
    "zetaAB = 3.5                                                                        # Path loss exponent of the channel between the Alice and the legitimate receivers\n",
    "zetaAE = 3.5                                                                        # Path loss exponent of the channel between the Alice and the eavesdroppers\n",
    "\n",
    "pmax = 1000  # Maximum transmit power of Alice\n"
   ]
  },
  {
   "cell_type": "code",
   "execution_count": 77,
   "metadata": {},
   "outputs": [],
   "source": [
    "def generateChannel(Nris, number_of_users, number_of_eavesdroppers):\n",
    "    dAI = 50                                                                            # distance between Alice and the RIS\n",
    "    dv = 2                                                                              # Vertical distance between the Alice and the Eve and Bob\n",
    "    dABh = np.random.uniform(5, 10, size=number_of_users)                               # Horizontal distance between Alice and the legitimate receivers\n",
    "    dAEh = np.random.uniform(50, 150, size=number_of_eavesdroppers)                     # Horizontal distance between Alice and the eavesdroppers\n",
    "    dAB = [np.sqrt(dABh[i]**2 + dv**2) for i in range(number_of_users)]                 # Distance between Alice and the legitimate receivers\n",
    "    dAE = [np.sqrt(dAEh[i]**2 + dv**2) for i in range(number_of_eavesdroppers)]         # Distance between Alice and the eavesdroppers\n",
    "    dIB = [np.sqrt((dABh[i]-dAI)**2 + dv**2) for i in range(number_of_users)]           # Distance between the legitimate receivers and the RIS\n",
    "    dIE = [np.sqrt((dAEh[i]-dAI)**2 + dv**2) for i in range(number_of_eavesdroppers)]   # Distance between the eavesdroppers and the RIS\n",
    "\n",
    "    normFact: float = 1/np.sqrt(sigma)\n",
    "    Hai = chanGen(zetaAI, dAI, Nris, N)                                                         # Alice to RIS channel\n",
    "    hib = [normFact*chanGen(zetaIB, dIB[i], 1, Nris) for i in range(number_of_users)]           # Channel between the RIS and the legitimate receivers\n",
    "    hie = [normFact*chanGen(zetaIE, dIE[i], 1, Nris) for i in range(number_of_eavesdroppers)]   # Channel between the RIS and the eavesdroppers\n",
    "    hab = [normFact*chanGen(zetaAB, dAB[i], 1, N) for i in range(number_of_users)]              # Channel between Alice and the legitimate receivers\n",
    "    hae = [normFact*chanGen(zetaAE, dAE[i], 1, N) for i in range(number_of_eavesdroppers)]      # Channel between Alice and the eavesdroppers\n",
    "    return Hai, hib, hie, hab, hae\n",
    "\n",
    "    #Hai: Channel between Alice and RIS: Nris x N  \n",
    "    #hib: Channel between RIS and users: List of length number_of_users, elements are 1 x Nris\n",
    "    #hab: Channel between Alice and users: List of length number_of_users, elements are 1 x N\n",
    "    #hie: Channel between RIS and eavesdroppers: List of length number_of_eavesdroppers, elements are 1 x Nris\n",
    "    #hae: Channel between Alice and eavesdroppers: List of length number_of_eavesdroppers, elements are 1 x N"
   ]
  },
  {
   "cell_type": "markdown",
   "metadata": {},
   "source": [
    "# Functions for data generation"
   ]
  },
  {
   "cell_type": "code",
   "execution_count": 78,
   "metadata": {},
   "outputs": [],
   "source": [
    "Nris = 64  # number of RIS elements\n",
    "\n",
    "if os.path.exists('data') == False:\n",
    "    os.mkdir('data')\n",
    "\n",
    "# Generate general data of 10 users and 3 eavesdroppers for algorithms convergence\n",
    "def gen_general_data() -> None:\n",
    "    os.chdir('data')\n",
    "    if os.path.exists('general') == False:\n",
    "        os.mkdir('general')\n",
    "        os.chdir('general')\n",
    "        Hai, hib, hie, hab, hae = generateChannel(Nris, number_of_users = 10, number_of_eavesdroppers = 3)\n",
    "        np.save('Hai.npy', Hai)\n",
    "        np.save('hib.npy', hib)\n",
    "        np.save('hie.npy', hie)\n",
    "        np.save('hab.npy', hab)\n",
    "        np.save('hae.npy', hae)\n",
    "        os.chdir('../')\n",
    "    os.chdir('../')\n",
    "\n",
    "# Generate fixed number of eavesdroppers for different number of users\n",
    "def gen_fixed_eaves_data() -> None:\n",
    "    os.chdir('data')\n",
    "    if os.path.exists('fixed_eaves') == False:\n",
    "        os.mkdir('fixed_eaves')\n",
    "    os.chdir('fixed_eaves')\n",
    "    number_of_eavesdroppers = 3\n",
    "        \n",
    "    for number_of_users in [1, 2, 3, 4, 5, 6, 7, 8, 9, 10]:\n",
    "        dirname = 'data_' + str(number_of_users) + 'users_' + str(number_of_eavesdroppers) + 'eaves'\n",
    "        if os.path.exists(dirname) == False:\n",
    "            os.mkdir(dirname)\n",
    "        os.chdir(dirname)\n",
    "        seed_number = RANDOM_SEED\n",
    "        if os.path.exists(str(seed_number) + '_set') == False:\n",
    "            os.mkdir(str(seed_number) + '_set')\n",
    "            os.chdir(str(seed_number) + '_set')\n",
    "            Hai, hib, hie, hab, hae = generateChannel(Nris, number_of_users, number_of_eavesdroppers)\n",
    "            np.save('Hai.npy', Hai)\n",
    "            np.save('hib.npy', hib)\n",
    "            np.save('hie.npy', hie)\n",
    "            np.save('hab.npy', hab)\n",
    "            np.save('hae.npy', hae)\n",
    "            os.chdir('../')\n",
    "        os.chdir('../')\n",
    "    os.chdir('../')\n",
    "    os.chdir('../')\n",
    "\n",
    "# Generate fixed number of users for different number of eavesdroppers\n",
    "def gen_fixed_users_data() -> None:\n",
    "    os.chdir('data')\n",
    "    if os.path.exists('fixed_users') == False:\n",
    "        os.mkdir('fixed_users')\n",
    "    os.chdir('fixed_users')\n",
    "\n",
    "    number_of_users = 6\n",
    "    for number_of_eavesdroppers in [1, 2, 3, 4, 5]:\n",
    "        dirname = 'data_' + str(number_of_users) + 'users_' + str(number_of_eavesdroppers) + 'eaves'\n",
    "        if os.path.exists(dirname) == False:\n",
    "            os.mkdir(dirname)\n",
    "        os.chdir(dirname)\n",
    "        seed_number = RANDOM_SEED\n",
    "        if os.path.exists(str(seed_number) + '_set') == False:\n",
    "            os.mkdir(str(seed_number) + '_set')\n",
    "            os.chdir(str(seed_number) + '_set')\n",
    "            Hai, hib, hie, hab, hae = generateChannel(Nris, number_of_users, number_of_eavesdroppers)\n",
    "            np.save('Hai.npy', Hai)\n",
    "            np.save('hib.npy', hib)\n",
    "            np.save('hie.npy', hie)\n",
    "            np.save('hab.npy', hab)\n",
    "            np.save('hae.npy', hae)\n",
    "            os.chdir('../')\n",
    "        os.chdir('../')\n",
    "    os.chdir('../')\n",
    "    os.chdir('../')\n",
    "\n"
   ]
  },
  {
   "cell_type": "markdown",
   "metadata": {},
   "source": [
    "# Generate data"
   ]
  },
  {
   "cell_type": "code",
   "execution_count": 79,
   "metadata": {},
   "outputs": [],
   "source": [
    "gen_general_data()\n",
    "gen_fixed_eaves_data()\n",
    "gen_fixed_users_data()"
   ]
  },
  {
   "cell_type": "code",
   "execution_count": 80,
   "metadata": {},
   "outputs": [
    {
     "data": {
      "text/plain": [
       "'/Users/leducanhvu/Downloads/IoT_Lab/Security/RIS-assisted-secrecy-rate'"
      ]
     },
     "execution_count": 80,
     "metadata": {},
     "output_type": "execute_result"
    }
   ],
   "source": [
    "os.getcwd()"
   ]
  }
 ],
 "metadata": {
  "kernelspec": {
   "display_name": "Python 3",
   "language": "python",
   "name": "python3"
  },
  "language_info": {
   "codemirror_mode": {
    "name": "ipython",
    "version": 3
   },
   "file_extension": ".py",
   "mimetype": "text/x-python",
   "name": "python",
   "nbconvert_exporter": "python",
   "pygments_lexer": "ipython3",
   "version": "3.11.5"
  }
 },
 "nbformat": 4,
 "nbformat_minor": 2
}
