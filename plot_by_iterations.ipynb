{
 "cells": [
  {
   "cell_type": "markdown",
   "metadata": {},
   "source": [
    "# IMPORT LIBRARIES"
   ]
  },
  {
   "cell_type": "code",
   "execution_count": null,
   "metadata": {},
   "outputs": [],
   "source": [
    "import numpy as np\n",
    "import matplotlib.pyplot as plt\n",
    "import os"
   ]
  },
  {
   "cell_type": "markdown",
   "metadata": {},
   "source": [
    "# READ RESULTS DATA"
   ]
  },
  {
   "cell_type": "code",
   "execution_count": null,
   "metadata": {},
   "outputs": [],
   "source": [
    "result_path = './results/general/'\n",
    "if os.path.exists(result_path) == False:\n",
    "    exit(0)\n",
    "print(os.getcwd())\n",
    "num_of_runs = len(os.listdir(result_path))\n",
    "iter = 500\n",
    "GD_results = [0 for i in range(iter)]\n",
    "PSO_results = [0 for i in range(iter)]\n",
    "GA_results = [0 for i in range(iter)]\n",
    "PSO_GD_results = [0 for i in range(iter)]\n",
    "GA_GD_results = [0 for i in range(iter)]\n",
    "\n",
    "for run in os.listdir(result_path):\n",
    "    path = result_path + '/' + run\n",
    "    \n",
    "    gd = np.load(path + '/' + 'GD_results.npy')\n",
    "    while len(gd) < iter:\n",
    "        gd = np.append(gd, gd[-1])\n",
    "            \n",
    "    GD_results += gd[:iter]\n",
    "\n",
    "    pso = np.load(path + '/' + 'PSO_results.npy')\n",
    "    while len(pso) < iter:\n",
    "        pso = np.append(pso, pso[-1])\n",
    "    PSO_results += pso[:iter]\n",
    "\n",
    "    ga = np.load(path + '/' + 'GA_results.npy')\n",
    "    while len(ga) < iter:\n",
    "        ga = np.append(ga, ga[-1])\n",
    "    GA_results += ga[:iter]\n",
    "\n",
    "    pso_gd = np.load(path + '/' + 'PSO_GD_results.npy')\n",
    "    while len(pso_gd) < iter:\n",
    "            pso_gd = np.append(pso_gd, pso_gd[-1])\n",
    "    PSO_GD_results += pso_gd[:iter]\n",
    "    #GA_GD_results += np.load(path + '/' + 'GA_GD_results.npy')[:iter]\n",
    "\n",
    "GD_results /= num_of_runs\n",
    "PSO_results /= num_of_runs\n",
    "GA_results /= num_of_runs\n",
    "PSO_GD_results /= num_of_runs\n",
    "#GA_GD_results /= num_of_runs\n"
   ]
  },
  {
   "cell_type": "markdown",
   "metadata": {},
   "source": [
    "# Plot "
   ]
  },
  {
   "cell_type": "code",
   "execution_count": null,
   "metadata": {},
   "outputs": [],
   "source": [
    "plt.xlabel('Iteration')\n",
    "plt.ylabel('Secrecy Rate (bps/Hz)')\n",
    "plt.title(result_path)\n",
    "plt.plot(GD_results, label='GD')\n",
    "plt.plot(PSO_results, label='PSO')\n",
    "plt.plot(GA_results, label='GA')\n",
    "plt.plot(PSO_GD_results, label='PSO_GD')\n",
    "plt.plot(GA_GD_results, label='GA_GD')\n",
    "plt.legend()\n",
    "plt.show()\n",
    "print(PSO_GD_results[-1])"
   ]
  }
 ],
 "metadata": {
  "kernelspec": {
   "display_name": "Python 3",
   "language": "python",
   "name": "python3"
  },
  "language_info": {
   "codemirror_mode": {
    "name": "ipython",
    "version": 3
   },
   "file_extension": ".py",
   "mimetype": "text/x-python",
   "name": "python",
   "nbconvert_exporter": "python",
   "pygments_lexer": "ipython3",
   "version": "3.11.9"
  }
 },
 "nbformat": 4,
 "nbformat_minor": 2
}
