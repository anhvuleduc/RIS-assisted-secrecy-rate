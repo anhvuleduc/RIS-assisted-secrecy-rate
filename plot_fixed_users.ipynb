{
 "cells": [
  {
   "cell_type": "markdown",
   "metadata": {},
   "source": [
    "# IMPORT LIBRARIES"
   ]
  },
  {
   "cell_type": "code",
   "execution_count": null,
   "metadata": {},
   "outputs": [],
   "source": [
    "import numpy as np\n",
    "import matplotlib.pyplot as plt\n",
    "import os"
   ]
  },
  {
   "cell_type": "markdown",
   "metadata": {},
   "source": [
    "# READ RESULTS DATA"
   ]
  },
  {
   "cell_type": "code",
   "execution_count": null,
   "metadata": {},
   "outputs": [],
   "source": [
    "result_path = './results/fixed_users'\n",
    "if os.path.exists(result_path) == False:\n",
    "    exit(0)\n",
    "num_of_scenarios = len(os.listdir(result_path))\n",
    "\n",
    "GD_results = [0 for i in range(num_of_scenarios)]\n",
    "PSO_results = [0 for i in range(num_of_scenarios)]\n",
    "GA_results = [0 for i in range(num_of_scenarios)]\n",
    "PSO_GD_results = [0 for i in range(num_of_scenarios)]\n",
    "GA_GD_results = [0 for i in range(num_of_scenarios)]\n",
    "\n",
    "num_of_run = [0 for i in range(num_of_scenarios)]\n",
    "for scenario in os.listdir(result_path):\n",
    "    path = result_path + '/' + scenario\n",
    "    for run in os.listdir(path):\n",
    "        num_of_eaves = int(scenario.split('_')[1][0])\n",
    "        if (num_of_eaves > 10):\n",
    "            continue\n",
    "        i = num_of_eaves - 1\n",
    "        \n",
    "        gd = np.load(path + '/' + run + '/' + 'GD_results.npy')\n",
    "        pso = np.load(path + '/' + run + '/' + 'PSO_results.npy')\n",
    "        ga = np.load(path + '/' + run + '/' + 'GA_results.npy')\n",
    "        pso_gd = np.load(path + '/' + run + '/' + 'PSO_GD_results.npy')\n",
    "        GD_results[i] += gd[-1]\n",
    "        PSO_results[i] += pso[-1]\n",
    "        GA_results[i] += ga[-1]\n",
    "        PSO_GD_results[i] += pso_gd[-1]\n",
    "        num_of_run[i] += 1\n",
    "    \n",
    "\n",
    "print('GD:', GD_results)\n",
    "print('PSO:', PSO_results)\n",
    "print('GA:', GA_results)\n",
    "print('PSO_GD:', PSO_GD_results)\n",
    "print('num_of_run:', num_of_run)\n",
    "for i in range(num_of_scenarios):\n",
    "    GD_results[i] /= num_of_run[i]\n",
    "    PSO_results[i] /= num_of_run[i]\n",
    "    GA_results[i] /= num_of_run[i]\n",
    "    PSO_GD_results[i] /= num_of_run[i]\n",
    "    #GA_GD_results[i] /= num_of_run[i]\n",
    "\n",
    "'''\n",
    "GD_results = GD_results[1:]\n",
    "PSO_results = PSO_results[1:]\n",
    "GA_results = GA_results[1:]\n",
    "PSO_GD_results = PSO_GD_results[1:]\n",
    "#GA_GD_results = GA_GD_results[1:]\n",
    "'''\n"
   ]
  },
  {
   "cell_type": "markdown",
   "metadata": {},
   "source": [
    "# PLOT"
   ]
  },
  {
   "cell_type": "code",
   "execution_count": null,
   "metadata": {},
   "outputs": [],
   "source": [
    "plt.xlabel('Number of eavesdroppers')\n",
    "plt.ylabel('Secrecy Rate (bps/Hz)')\n",
    "plt.yscale\n",
    "plt.xticks(np.arange(1, 6))\n",
    "plt.title('Total secrecy rate with 6 users')\n",
    "#plt.plot([i for i in range(4, 11)], GD_results, label='GD')\n",
    "plt.plot([i for i in range(1, 6)], PSO_results, label='PSO', marker='v')\n",
    "plt.plot([i for i in range(1, 6)], GA_results, label='GA', marker='^')\n",
    "plt.plot([i for i in range(1, 6)], PSO_GD_results, label='PSO_GD', marker='*')\n",
    "print(PSO_GD_results)\n",
    "#plt.plot(GA_GD_results, label='GA_GD')\n",
    "plt.legend()\n",
    "plt.show()\n",
    "print(PSO_GD_results[-1])"
   ]
  }
 ],
 "metadata": {
  "kernelspec": {
   "display_name": "Python 3",
   "language": "python",
   "name": "python3"
  },
  "language_info": {
   "codemirror_mode": {
    "name": "ipython",
    "version": 3
   },
   "file_extension": ".py",
   "mimetype": "text/x-python",
   "name": "python",
   "nbconvert_exporter": "python",
   "pygments_lexer": "ipython3",
   "version": "3.11.9"
  }
 },
 "nbformat": 4,
 "nbformat_minor": 2
}
